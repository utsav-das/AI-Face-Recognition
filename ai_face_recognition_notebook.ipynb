{
 "cells": [
  {
   "cell_type": "markdown",
   "id": "ce82e034",
   "metadata": {},
   "source": [
    "# Install Dependencies"
   ]
  },
  {
   "cell_type": "code",
   "execution_count": 6,
   "id": "6695d036",
   "metadata": {},
   "outputs": [
    {
     "name": "stdout",
     "output_type": "stream",
     "text": [
      "Defaulting to user installation because normal site-packages is not writeable\n",
      "Requirement already satisfied: tensorflow==2.10.0 in c:\\users\\utsav\\appdata\\roaming\\python\\python310\\site-packages (2.10.0)\n",
      "Requirement already satisfied: absl-py>=1.0.0 in c:\\users\\utsav\\appdata\\roaming\\python\\python310\\site-packages (from tensorflow==2.10.0) (2.2.2)\n",
      "Requirement already satisfied: astunparse>=1.6.0 in c:\\users\\utsav\\appdata\\roaming\\python\\python310\\site-packages (from tensorflow==2.10.0) (1.6.3)\n",
      "Requirement already satisfied: flatbuffers>=2.0 in c:\\users\\utsav\\appdata\\roaming\\python\\python310\\site-packages (from tensorflow==2.10.0) (25.2.10)\n",
      "Requirement already satisfied: gast<=0.4.0,>=0.2.1 in c:\\users\\utsav\\appdata\\roaming\\python\\python310\\site-packages (from tensorflow==2.10.0) (0.4.0)\n",
      "Requirement already satisfied: google-pasta>=0.1.1 in c:\\users\\utsav\\appdata\\roaming\\python\\python310\\site-packages (from tensorflow==2.10.0) (0.2.0)\n",
      "Requirement already satisfied: h5py>=2.9.0 in c:\\users\\utsav\\appdata\\roaming\\python\\python310\\site-packages (from tensorflow==2.10.0) (3.13.0)\n",
      "Requirement already satisfied: keras-preprocessing>=1.1.1 in c:\\users\\utsav\\appdata\\roaming\\python\\python310\\site-packages (from tensorflow==2.10.0) (1.1.2)\n",
      "Requirement already satisfied: libclang>=13.0.0 in c:\\users\\utsav\\appdata\\roaming\\python\\python310\\site-packages (from tensorflow==2.10.0) (18.1.1)\n",
      "Requirement already satisfied: numpy>=1.20 in c:\\users\\utsav\\appdata\\roaming\\python\\python310\\site-packages (from tensorflow==2.10.0) (1.23.5)\n",
      "Requirement already satisfied: opt-einsum>=2.3.2 in c:\\users\\utsav\\appdata\\roaming\\python\\python310\\site-packages (from tensorflow==2.10.0) (3.4.0)\n",
      "Requirement already satisfied: packaging in c:\\users\\utsav\\appdata\\roaming\\python\\python310\\site-packages (from tensorflow==2.10.0) (24.1)\n",
      "Requirement already satisfied: protobuf<3.20,>=3.9.2 in c:\\users\\utsav\\appdata\\roaming\\python\\python310\\site-packages (from tensorflow==2.10.0) (3.19.6)\n",
      "Requirement already satisfied: setuptools in c:\\program files\\python310\\lib\\site-packages (from tensorflow==2.10.0) (57.4.0)\n",
      "Requirement already satisfied: six>=1.12.0 in c:\\users\\utsav\\appdata\\roaming\\python\\python310\\site-packages (from tensorflow==2.10.0) (1.16.0)\n",
      "Requirement already satisfied: termcolor>=1.1.0 in c:\\users\\utsav\\appdata\\roaming\\python\\python310\\site-packages (from tensorflow==2.10.0) (3.1.0)\n",
      "Requirement already satisfied: typing-extensions>=3.6.6 in c:\\users\\utsav\\appdata\\roaming\\python\\python310\\site-packages (from tensorflow==2.10.0) (4.12.2)\n",
      "Requirement already satisfied: wrapt>=1.11.0 in c:\\users\\utsav\\appdata\\roaming\\python\\python310\\site-packages (from tensorflow==2.10.0) (1.14.1)\n",
      "Requirement already satisfied: tensorflow-io-gcs-filesystem>=0.23.1 in c:\\users\\utsav\\appdata\\roaming\\python\\python310\\site-packages (from tensorflow==2.10.0) (0.31.0)\n",
      "Requirement already satisfied: grpcio<2.0,>=1.24.3 in c:\\users\\utsav\\appdata\\roaming\\python\\python310\\site-packages (from tensorflow==2.10.0) (1.71.0)\n",
      "Requirement already satisfied: tensorboard<2.11,>=2.10 in c:\\users\\utsav\\appdata\\roaming\\python\\python310\\site-packages (from tensorflow==2.10.0) (2.10.1)\n",
      "Requirement already satisfied: tensorflow-estimator<2.11,>=2.10.0 in c:\\users\\utsav\\appdata\\roaming\\python\\python310\\site-packages (from tensorflow==2.10.0) (2.10.0)\n",
      "Requirement already satisfied: keras<2.11,>=2.10.0 in c:\\users\\utsav\\appdata\\roaming\\python\\python310\\site-packages (from tensorflow==2.10.0) (2.10.0)\n",
      "Requirement already satisfied: google-auth<3,>=1.6.3 in c:\\users\\utsav\\appdata\\roaming\\python\\python310\\site-packages (from tensorboard<2.11,>=2.10->tensorflow==2.10.0) (2.39.0)\n",
      "Requirement already satisfied: google-auth-oauthlib<0.5,>=0.4.1 in c:\\users\\utsav\\appdata\\roaming\\python\\python310\\site-packages (from tensorboard<2.11,>=2.10->tensorflow==2.10.0) (0.4.6)\n",
      "Requirement already satisfied: markdown>=2.6.8 in c:\\users\\utsav\\appdata\\roaming\\python\\python310\\site-packages (from tensorboard<2.11,>=2.10->tensorflow==2.10.0) (3.8)\n",
      "Requirement already satisfied: requests<3,>=2.21.0 in c:\\users\\utsav\\appdata\\roaming\\python\\python310\\site-packages (from tensorboard<2.11,>=2.10->tensorflow==2.10.0) (2.32.3)\n",
      "Requirement already satisfied: tensorboard-data-server<0.7.0,>=0.6.0 in c:\\users\\utsav\\appdata\\roaming\\python\\python310\\site-packages (from tensorboard<2.11,>=2.10->tensorflow==2.10.0) (0.6.1)\n",
      "Requirement already satisfied: tensorboard-plugin-wit>=1.6.0 in c:\\users\\utsav\\appdata\\roaming\\python\\python310\\site-packages (from tensorboard<2.11,>=2.10->tensorflow==2.10.0) (1.8.1)\n",
      "Requirement already satisfied: werkzeug>=1.0.1 in c:\\users\\utsav\\appdata\\roaming\\python\\python310\\site-packages (from tensorboard<2.11,>=2.10->tensorflow==2.10.0) (3.1.3)\n",
      "Requirement already satisfied: wheel>=0.26 in c:\\users\\utsav\\appdata\\roaming\\python\\python310\\site-packages (from tensorboard<2.11,>=2.10->tensorflow==2.10.0) (0.45.1)\n",
      "Requirement already satisfied: cachetools<6.0,>=2.0.0 in c:\\users\\utsav\\appdata\\roaming\\python\\python310\\site-packages (from google-auth<3,>=1.6.3->tensorboard<2.11,>=2.10->tensorflow==2.10.0) (5.5.2)\n",
      "Requirement already satisfied: pyasn1-modules>=0.2.1 in c:\\users\\utsav\\appdata\\roaming\\python\\python310\\site-packages (from google-auth<3,>=1.6.3->tensorboard<2.11,>=2.10->tensorflow==2.10.0) (0.4.2)\n",
      "Requirement already satisfied: rsa<5,>=3.1.4 in c:\\users\\utsav\\appdata\\roaming\\python\\python310\\site-packages (from google-auth<3,>=1.6.3->tensorboard<2.11,>=2.10->tensorflow==2.10.0) (4.9.1)\n",
      "Requirement already satisfied: requests-oauthlib>=0.7.0 in c:\\users\\utsav\\appdata\\roaming\\python\\python310\\site-packages (from google-auth-oauthlib<0.5,>=0.4.1->tensorboard<2.11,>=2.10->tensorflow==2.10.0) (2.0.0)\n",
      "Requirement already satisfied: charset-normalizer<4,>=2 in c:\\users\\utsav\\appdata\\roaming\\python\\python310\\site-packages (from requests<3,>=2.21.0->tensorboard<2.11,>=2.10->tensorflow==2.10.0) (3.3.2)\n",
      "Requirement already satisfied: idna<4,>=2.5 in c:\\users\\utsav\\appdata\\roaming\\python\\python310\\site-packages (from requests<3,>=2.21.0->tensorboard<2.11,>=2.10->tensorflow==2.10.0) (3.7)\n",
      "Requirement already satisfied: urllib3<3,>=1.21.1 in c:\\users\\utsav\\appdata\\roaming\\python\\python310\\site-packages (from requests<3,>=2.21.0->tensorboard<2.11,>=2.10->tensorflow==2.10.0) (2.2.1)\n",
      "Requirement already satisfied: certifi>=2017.4.17 in c:\\users\\utsav\\appdata\\roaming\\python\\python310\\site-packages (from requests<3,>=2.21.0->tensorboard<2.11,>=2.10->tensorflow==2.10.0) (2024.6.2)\n",
      "Requirement already satisfied: pyasn1>=0.1.3 in c:\\users\\utsav\\appdata\\roaming\\python\\python310\\site-packages (from rsa<5,>=3.1.4->google-auth<3,>=1.6.3->tensorboard<2.11,>=2.10->tensorflow==2.10.0) (0.6.1)\n",
      "Requirement already satisfied: oauthlib>=3.0.0 in c:\\users\\utsav\\appdata\\roaming\\python\\python310\\site-packages (from requests-oauthlib>=0.7.0->google-auth-oauthlib<0.5,>=0.4.1->tensorboard<2.11,>=2.10->tensorflow==2.10.0) (3.2.2)\n",
      "Requirement already satisfied: MarkupSafe>=2.1.1 in c:\\users\\utsav\\appdata\\roaming\\python\\python310\\site-packages (from werkzeug>=1.0.1->tensorboard<2.11,>=2.10->tensorflow==2.10.0) (2.1.5)\n"
     ]
    }
   ],
   "source": [
    "!pip install tensorflow==2.10.0"
   ]
  },
  {
   "cell_type": "code",
   "execution_count": 7,
   "id": "0c46c400",
   "metadata": {},
   "outputs": [
    {
     "name": "stdout",
     "output_type": "stream",
     "text": [
      "Defaulting to user installation because normal site-packages is not writeable\n",
      "Requirement already satisfied: tensorflow-gpu==2.10.0 in c:\\users\\utsav\\appdata\\roaming\\python\\python310\\site-packages (2.10.0)\n",
      "Requirement already satisfied: absl-py>=1.0.0 in c:\\users\\utsav\\appdata\\roaming\\python\\python310\\site-packages (from tensorflow-gpu==2.10.0) (2.2.2)\n",
      "Requirement already satisfied: astunparse>=1.6.0 in c:\\users\\utsav\\appdata\\roaming\\python\\python310\\site-packages (from tensorflow-gpu==2.10.0) (1.6.3)\n",
      "Requirement already satisfied: flatbuffers>=2.0 in c:\\users\\utsav\\appdata\\roaming\\python\\python310\\site-packages (from tensorflow-gpu==2.10.0) (25.2.10)\n",
      "Requirement already satisfied: gast<=0.4.0,>=0.2.1 in c:\\users\\utsav\\appdata\\roaming\\python\\python310\\site-packages (from tensorflow-gpu==2.10.0) (0.4.0)\n",
      "Requirement already satisfied: google-pasta>=0.1.1 in c:\\users\\utsav\\appdata\\roaming\\python\\python310\\site-packages (from tensorflow-gpu==2.10.0) (0.2.0)\n",
      "Requirement already satisfied: h5py>=2.9.0 in c:\\users\\utsav\\appdata\\roaming\\python\\python310\\site-packages (from tensorflow-gpu==2.10.0) (3.13.0)\n",
      "Requirement already satisfied: keras-preprocessing>=1.1.1 in c:\\users\\utsav\\appdata\\roaming\\python\\python310\\site-packages (from tensorflow-gpu==2.10.0) (1.1.2)\n",
      "Requirement already satisfied: libclang>=13.0.0 in c:\\users\\utsav\\appdata\\roaming\\python\\python310\\site-packages (from tensorflow-gpu==2.10.0) (18.1.1)\n",
      "Requirement already satisfied: numpy>=1.20 in c:\\users\\utsav\\appdata\\roaming\\python\\python310\\site-packages (from tensorflow-gpu==2.10.0) (1.23.5)\n",
      "Requirement already satisfied: opt-einsum>=2.3.2 in c:\\users\\utsav\\appdata\\roaming\\python\\python310\\site-packages (from tensorflow-gpu==2.10.0) (3.4.0)\n",
      "Requirement already satisfied: packaging in c:\\users\\utsav\\appdata\\roaming\\python\\python310\\site-packages (from tensorflow-gpu==2.10.0) (24.1)\n",
      "Requirement already satisfied: protobuf<3.20,>=3.9.2 in c:\\users\\utsav\\appdata\\roaming\\python\\python310\\site-packages (from tensorflow-gpu==2.10.0) (3.19.6)\n",
      "Requirement already satisfied: setuptools in c:\\program files\\python310\\lib\\site-packages (from tensorflow-gpu==2.10.0) (57.4.0)\n",
      "Requirement already satisfied: six>=1.12.0 in c:\\users\\utsav\\appdata\\roaming\\python\\python310\\site-packages (from tensorflow-gpu==2.10.0) (1.16.0)\n",
      "Requirement already satisfied: termcolor>=1.1.0 in c:\\users\\utsav\\appdata\\roaming\\python\\python310\\site-packages (from tensorflow-gpu==2.10.0) (3.1.0)\n",
      "Requirement already satisfied: typing-extensions>=3.6.6 in c:\\users\\utsav\\appdata\\roaming\\python\\python310\\site-packages (from tensorflow-gpu==2.10.0) (4.12.2)\n",
      "Requirement already satisfied: wrapt>=1.11.0 in c:\\users\\utsav\\appdata\\roaming\\python\\python310\\site-packages (from tensorflow-gpu==2.10.0) (1.14.1)\n",
      "Requirement already satisfied: tensorflow-io-gcs-filesystem>=0.23.1 in c:\\users\\utsav\\appdata\\roaming\\python\\python310\\site-packages (from tensorflow-gpu==2.10.0) (0.31.0)\n",
      "Requirement already satisfied: grpcio<2.0,>=1.24.3 in c:\\users\\utsav\\appdata\\roaming\\python\\python310\\site-packages (from tensorflow-gpu==2.10.0) (1.71.0)\n",
      "Requirement already satisfied: tensorboard<2.11,>=2.10 in c:\\users\\utsav\\appdata\\roaming\\python\\python310\\site-packages (from tensorflow-gpu==2.10.0) (2.10.1)\n",
      "Requirement already satisfied: tensorflow-estimator<2.11,>=2.10.0 in c:\\users\\utsav\\appdata\\roaming\\python\\python310\\site-packages (from tensorflow-gpu==2.10.0) (2.10.0)\n",
      "Requirement already satisfied: keras<2.11,>=2.10.0 in c:\\users\\utsav\\appdata\\roaming\\python\\python310\\site-packages (from tensorflow-gpu==2.10.0) (2.10.0)\n",
      "Requirement already satisfied: google-auth<3,>=1.6.3 in c:\\users\\utsav\\appdata\\roaming\\python\\python310\\site-packages (from tensorboard<2.11,>=2.10->tensorflow-gpu==2.10.0) (2.39.0)\n",
      "Requirement already satisfied: google-auth-oauthlib<0.5,>=0.4.1 in c:\\users\\utsav\\appdata\\roaming\\python\\python310\\site-packages (from tensorboard<2.11,>=2.10->tensorflow-gpu==2.10.0) (0.4.6)\n",
      "Requirement already satisfied: markdown>=2.6.8 in c:\\users\\utsav\\appdata\\roaming\\python\\python310\\site-packages (from tensorboard<2.11,>=2.10->tensorflow-gpu==2.10.0) (3.8)\n",
      "Requirement already satisfied: requests<3,>=2.21.0 in c:\\users\\utsav\\appdata\\roaming\\python\\python310\\site-packages (from tensorboard<2.11,>=2.10->tensorflow-gpu==2.10.0) (2.32.3)\n",
      "Requirement already satisfied: tensorboard-data-server<0.7.0,>=0.6.0 in c:\\users\\utsav\\appdata\\roaming\\python\\python310\\site-packages (from tensorboard<2.11,>=2.10->tensorflow-gpu==2.10.0) (0.6.1)\n",
      "Requirement already satisfied: tensorboard-plugin-wit>=1.6.0 in c:\\users\\utsav\\appdata\\roaming\\python\\python310\\site-packages (from tensorboard<2.11,>=2.10->tensorflow-gpu==2.10.0) (1.8.1)\n",
      "Requirement already satisfied: werkzeug>=1.0.1 in c:\\users\\utsav\\appdata\\roaming\\python\\python310\\site-packages (from tensorboard<2.11,>=2.10->tensorflow-gpu==2.10.0) (3.1.3)\n",
      "Requirement already satisfied: wheel>=0.26 in c:\\users\\utsav\\appdata\\roaming\\python\\python310\\site-packages (from tensorboard<2.11,>=2.10->tensorflow-gpu==2.10.0) (0.45.1)\n",
      "Requirement already satisfied: cachetools<6.0,>=2.0.0 in c:\\users\\utsav\\appdata\\roaming\\python\\python310\\site-packages (from google-auth<3,>=1.6.3->tensorboard<2.11,>=2.10->tensorflow-gpu==2.10.0) (5.5.2)\n",
      "Requirement already satisfied: pyasn1-modules>=0.2.1 in c:\\users\\utsav\\appdata\\roaming\\python\\python310\\site-packages (from google-auth<3,>=1.6.3->tensorboard<2.11,>=2.10->tensorflow-gpu==2.10.0) (0.4.2)\n",
      "Requirement already satisfied: rsa<5,>=3.1.4 in c:\\users\\utsav\\appdata\\roaming\\python\\python310\\site-packages (from google-auth<3,>=1.6.3->tensorboard<2.11,>=2.10->tensorflow-gpu==2.10.0) (4.9.1)\n",
      "Requirement already satisfied: requests-oauthlib>=0.7.0 in c:\\users\\utsav\\appdata\\roaming\\python\\python310\\site-packages (from google-auth-oauthlib<0.5,>=0.4.1->tensorboard<2.11,>=2.10->tensorflow-gpu==2.10.0) (2.0.0)\n",
      "Requirement already satisfied: charset-normalizer<4,>=2 in c:\\users\\utsav\\appdata\\roaming\\python\\python310\\site-packages (from requests<3,>=2.21.0->tensorboard<2.11,>=2.10->tensorflow-gpu==2.10.0) (3.3.2)\n",
      "Requirement already satisfied: idna<4,>=2.5 in c:\\users\\utsav\\appdata\\roaming\\python\\python310\\site-packages (from requests<3,>=2.21.0->tensorboard<2.11,>=2.10->tensorflow-gpu==2.10.0) (3.7)\n",
      "Requirement already satisfied: urllib3<3,>=1.21.1 in c:\\users\\utsav\\appdata\\roaming\\python\\python310\\site-packages (from requests<3,>=2.21.0->tensorboard<2.11,>=2.10->tensorflow-gpu==2.10.0) (2.2.1)\n",
      "Requirement already satisfied: certifi>=2017.4.17 in c:\\users\\utsav\\appdata\\roaming\\python\\python310\\site-packages (from requests<3,>=2.21.0->tensorboard<2.11,>=2.10->tensorflow-gpu==2.10.0) (2024.6.2)\n",
      "Requirement already satisfied: pyasn1>=0.1.3 in c:\\users\\utsav\\appdata\\roaming\\python\\python310\\site-packages (from rsa<5,>=3.1.4->google-auth<3,>=1.6.3->tensorboard<2.11,>=2.10->tensorflow-gpu==2.10.0) (0.6.1)\n",
      "Requirement already satisfied: oauthlib>=3.0.0 in c:\\users\\utsav\\appdata\\roaming\\python\\python310\\site-packages (from requests-oauthlib>=0.7.0->google-auth-oauthlib<0.5,>=0.4.1->tensorboard<2.11,>=2.10->tensorflow-gpu==2.10.0) (3.2.2)\n",
      "Requirement already satisfied: MarkupSafe>=2.1.1 in c:\\users\\utsav\\appdata\\roaming\\python\\python310\\site-packages (from werkzeug>=1.0.1->tensorboard<2.11,>=2.10->tensorflow-gpu==2.10.0) (2.1.5)\n"
     ]
    }
   ],
   "source": [
    "!pip install tensorflow-gpu==2.10.0"
   ]
  },
  {
   "cell_type": "code",
   "execution_count": 8,
   "id": "8395e8f5",
   "metadata": {},
   "outputs": [
    {
     "name": "stdout",
     "output_type": "stream",
     "text": [
      "Defaulting to user installation because normal site-packages is not writeable\n",
      "Requirement already satisfied: opencv-python in c:\\users\\utsav\\appdata\\roaming\\python\\python310\\site-packages (4.11.0.86)\n",
      "Requirement already satisfied: numpy>=1.21.2 in c:\\users\\utsav\\appdata\\roaming\\python\\python310\\site-packages (from opencv-python) (1.23.5)\n"
     ]
    }
   ],
   "source": [
    "!pip install opencv-python"
   ]
  },
  {
   "cell_type": "code",
   "execution_count": 9,
   "id": "bd34b0fb",
   "metadata": {},
   "outputs": [
    {
     "name": "stdout",
     "output_type": "stream",
     "text": [
      "Defaulting to user installation because normal site-packages is not writeable\n",
      "Requirement already satisfied: matplotlib in c:\\users\\utsav\\appdata\\roaming\\python\\python310\\site-packages (3.9.0)\n",
      "Requirement already satisfied: contourpy>=1.0.1 in c:\\users\\utsav\\appdata\\roaming\\python\\python310\\site-packages (from matplotlib) (1.2.1)\n",
      "Requirement already satisfied: cycler>=0.10 in c:\\users\\utsav\\appdata\\roaming\\python\\python310\\site-packages (from matplotlib) (0.12.1)\n",
      "Requirement already satisfied: fonttools>=4.22.0 in c:\\users\\utsav\\appdata\\roaming\\python\\python310\\site-packages (from matplotlib) (4.53.0)\n",
      "Requirement already satisfied: kiwisolver>=1.3.1 in c:\\users\\utsav\\appdata\\roaming\\python\\python310\\site-packages (from matplotlib) (1.4.5)\n",
      "Requirement already satisfied: numpy>=1.23 in c:\\users\\utsav\\appdata\\roaming\\python\\python310\\site-packages (from matplotlib) (1.23.5)\n",
      "Requirement already satisfied: packaging>=20.0 in c:\\users\\utsav\\appdata\\roaming\\python\\python310\\site-packages (from matplotlib) (24.1)\n",
      "Requirement already satisfied: pillow>=8 in c:\\users\\utsav\\appdata\\roaming\\python\\python310\\site-packages (from matplotlib) (10.3.0)\n",
      "Requirement already satisfied: pyparsing>=2.3.1 in c:\\users\\utsav\\appdata\\roaming\\python\\python310\\site-packages (from matplotlib) (3.1.2)\n",
      "Requirement already satisfied: python-dateutil>=2.7 in c:\\users\\utsav\\appdata\\roaming\\python\\python310\\site-packages (from matplotlib) (2.9.0.post0)\n",
      "Requirement already satisfied: six>=1.5 in c:\\users\\utsav\\appdata\\roaming\\python\\python310\\site-packages (from python-dateutil>=2.7->matplotlib) (1.16.0)\n"
     ]
    }
   ],
   "source": [
    "!pip install matplotlib"
   ]
  },
  {
   "cell_type": "markdown",
   "id": "c7119246",
   "metadata": {},
   "source": [
    "# Import Dependencies"
   ]
  },
  {
   "cell_type": "code",
   "execution_count": 10,
   "id": "2f457297",
   "metadata": {},
   "outputs": [],
   "source": [
    "#importing standard dependencies\n",
    "\n",
    "import cv2\n",
    "import os\n",
    "import random\n",
    "import time\n",
    "import numpy as np\n",
    "import requests\n",
    "from matplotlib import pyplot as plt"
   ]
  },
  {
   "cell_type": "code",
   "execution_count": 11,
   "id": "4068b832",
   "metadata": {},
   "outputs": [],
   "source": [
    "#imporing tensorflow dependencies - Functional API\n",
    "\n",
    "from tensorflow.keras.models import Model\n",
    "from tensorflow.keras.layers import Layer, Conv2D, Dense, MaxPooling2D, Input, Flatten\n",
    "import tensorflow as tf\n"
   ]
  },
  {
   "cell_type": "markdown",
   "id": "ce1b2fce",
   "metadata": {},
   "source": [
    "# Set GPU Growth\n",
    "\n",
    "#### This is to avoid the out of memory error and limit the GPU usage\n",
    "#### If memory growth is enabled for a PhysicalDevice, the runtime initialization will not allocate all memory on the device."
   ]
  },
  {
   "cell_type": "code",
   "execution_count": 12,
   "id": "700baacd",
   "metadata": {},
   "outputs": [
    {
     "name": "stdout",
     "output_type": "stream",
     "text": [
      "Num GPUs: 1\n"
     ]
    }
   ],
   "source": [
    "#check the number of available GPU and also check if tensorflow is detecting it\n",
    "physical_devices = tf.config.list_physical_devices('GPU')\n",
    "print(\"Num GPUs:\", len(physical_devices))"
   ]
  },
  {
   "cell_type": "code",
   "execution_count": 13,
   "id": "1ece9341",
   "metadata": {},
   "outputs": [
    {
     "data": {
      "text/plain": [
       "[name: \"/device:CPU:0\"\n",
       " device_type: \"CPU\"\n",
       " memory_limit: 268435456\n",
       " locality {\n",
       " }\n",
       " incarnation: 13691555610568838426\n",
       " xla_global_id: -1,\n",
       " name: \"/device:GPU:0\"\n",
       " device_type: \"GPU\"\n",
       " memory_limit: 2258055988\n",
       " locality {\n",
       "   bus_id: 1\n",
       "   links {\n",
       "   }\n",
       " }\n",
       " incarnation: 13273130564688437272\n",
       " physical_device_desc: \"device: 0, name: GeForce GTX 1650, pci bus id: 0000:01:00.0, compute capability: 7.5\"\n",
       " xla_global_id: 416903419]"
      ]
     },
     "execution_count": 13,
     "metadata": {},
     "output_type": "execute_result"
    }
   ],
   "source": [
    "#getting the details of the GPU\n",
    "from tensorflow.python.client import device_lib\n",
    "device_lib.list_local_devices()"
   ]
  },
  {
   "cell_type": "code",
   "execution_count": 14,
   "id": "e8ff88f4",
   "metadata": {},
   "outputs": [],
   "source": [
    "#setting memory growth for GPU\n",
    "gpus = tf.config.experimental.list_physical_devices('GPU')\n",
    "for gpu in gpus: \n",
    "    tf.config.experimental.set_memory_growth(gpu, True)"
   ]
  },
  {
   "cell_type": "markdown",
   "id": "90048f88",
   "metadata": {},
   "source": [
    "# Create folder structure"
   ]
  },
  {
   "cell_type": "code",
   "execution_count": 15,
   "id": "0429f151",
   "metadata": {},
   "outputs": [
    {
     "data": {
      "text/plain": [
       "'C:\\\\Users\\\\utsav\\\\AppData\\\\Local\\\\Temp'"
      ]
     },
     "execution_count": 15,
     "metadata": {},
     "output_type": "execute_result"
    }
   ],
   "source": [
    "import tempfile\n",
    "\n",
    "temp_dir = tempfile.gettempdir() # retrieves the system's temporary directory\n",
    "\n",
    "temp_dir"
   ]
  },
  {
   "cell_type": "code",
   "execution_count": 55,
   "id": "7eab77df",
   "metadata": {},
   "outputs": [
    {
     "name": "stdout",
     "output_type": "stream",
     "text": [
      "Positive path:  C:\\Users\\utsav\\AppData\\Local\\Temp\\data\\positive\n",
      "Negative path:  C:\\Users\\utsav\\AppData\\Local\\Temp\\data\\negative\n",
      "Anchor path:  C:\\Users\\utsav\\AppData\\Local\\Temp\\data\\anchor\n"
     ]
    }
   ],
   "source": [
    "# Setup paths in temp dir\n",
    "POS_PATH = os.path.join(temp_dir,'data', 'positive')\n",
    "NEG_PATH = os.path.join(temp_dir,'data', 'negative')\n",
    "ANC_PATH = os.path.join(temp_dir,'data', 'anchor')\n",
    "CHEKPOINT_PATH = os.path.join(temp_dir,'data', 'training_checkpoints')\n",
    "\n",
    "print(\"Positive path: \",POS_PATH)\n",
    "print(\"Negative path: \",NEG_PATH)\n",
    "print(\"Anchor path: \",ANC_PATH)"
   ]
  },
  {
   "cell_type": "code",
   "execution_count": 17,
   "id": "54e2e4c0",
   "metadata": {},
   "outputs": [],
   "source": [
    "\n",
    "# Make the directories\n",
    "if not os.path.exists(POS_PATH):\n",
    "    os.makedirs(POS_PATH)\n",
    "if not os.path.exists(NEG_PATH):\n",
    "    os.makedirs(NEG_PATH)\n",
    "if not os.path.exists(ANC_PATH):\n",
    "    os.makedirs(ANC_PATH)"
   ]
  },
  {
   "cell_type": "markdown",
   "id": "afefb42b",
   "metadata": {},
   "source": [
    "# Collect Positives,Negatives and Anchors"
   ]
  },
  {
   "cell_type": "markdown",
   "id": "0fe66bb8",
   "metadata": {},
   "source": [
    "#### Negatives collection from existing dataset"
   ]
  },
  {
   "cell_type": "code",
   "execution_count": 18,
   "id": "615416b3",
   "metadata": {},
   "outputs": [],
   "source": [
    "from urllib import request\n",
    "\n",
    "url = \"https://figshare.com/ndownloader/files/5976018/lfw.tgz\"\n",
    "target_path = os.path.join(NEG_PATH,\"lfw.tgz\")\n",
    "\n",
    "with request.urlopen(request.Request(url), timeout=15.0) as response:\n",
    "    if response.status == 200:\n",
    "        with open(target_path, \"wb\") as f:\n",
    "            f.write(response.read())"
   ]
  },
  {
   "cell_type": "code",
   "execution_count": 19,
   "id": "a0f6ea00",
   "metadata": {},
   "outputs": [],
   "source": [
    "import tarfile\n",
    "\n",
    "def uncompress_tar(tar_filepath, extract_path):\n",
    "    try:\n",
    "        with tarfile.open(tar_filepath, 'r') as tar:\n",
    "            tar.extractall(path=extract_path)\n",
    "        print(f\"Successfully extracted '{tar_filepath}' to '{extract_path}'\")\n",
    "    except FileNotFoundError:\n",
    "        print(f\"Error: Tar file '{tar_filepath}' not found.\")\n",
    "    except tarfile.ReadError as e:\n",
    "         print(f\"Error: Could not open '{tar_filepath}'. It may be corrupted or not a valid tar file. Details: {e}\")\n",
    "    except Exception as e:\n",
    "        print(f\"An unexpected error occurred: {e}\")"
   ]
  },
  {
   "cell_type": "code",
   "execution_count": 20,
   "id": "33bd74ef",
   "metadata": {},
   "outputs": [
    {
     "name": "stdout",
     "output_type": "stream",
     "text": [
      "Successfully extracted 'C:\\Users\\utsav\\AppData\\Local\\Temp\\data\\negative\\lfw.tgz' to 'C:\\Users\\utsav\\AppData\\Local\\Temp\\data\\negative'\n"
     ]
    }
   ],
   "source": [
    "uncompress_tar(target_path,NEG_PATH)"
   ]
  },
  {
   "cell_type": "code",
   "execution_count": 21,
   "id": "8e702c36",
   "metadata": {},
   "outputs": [],
   "source": [
    "# Move LFW Images to the following repository data/negative\n",
    "for directory in os.listdir(os.path.join(NEG_PATH,\"lfw\")):\n",
    "    for file in os.listdir(os.path.join(os.path.join(NEG_PATH,\"lfw\"), directory)):\n",
    "        EX_PATH = os.path.join(os.path.join(NEG_PATH,\"lfw\"), directory, file)\n",
    "        NEW_PATH = os.path.join(NEG_PATH, file)\n",
    "        os.replace(EX_PATH, NEW_PATH)"
   ]
  },
  {
   "cell_type": "code",
   "execution_count": 22,
   "id": "41a7ae80",
   "metadata": {},
   "outputs": [],
   "source": [
    "import shutil\n",
    "# removing the tar and extracted folder from NEG_PATh\n",
    "os.remove(target_path)\n",
    "shutil.rmtree(os.path.join(NEG_PATH,\"lfw\"))"
   ]
  },
  {
   "cell_type": "markdown",
   "id": "71c30c75",
   "metadata": {},
   "source": [
    "#### Positive collection from webcam"
   ]
  },
  {
   "cell_type": "code",
   "execution_count": 23,
   "id": "6f8ea9b4",
   "metadata": {},
   "outputs": [],
   "source": [
    "# importing uuid library to geenrate unique image names\n",
    "import uuid"
   ]
  },
  {
   "cell_type": "code",
   "execution_count": 24,
   "id": "bda7c1f0",
   "metadata": {},
   "outputs": [],
   "source": [
    "cap = cv2.VideoCapture(0)\n",
    "\n",
    "# Set the capture duration to 5 minutes (300 seconds)\n",
    "capture_duration = 30\n",
    "\n",
    "# Record start time\n",
    "start_time = time.time()\n",
    "\n",
    "while(int(time.time() - start_time) < capture_duration):\n",
    "    ret, frame = cap.read()\n",
    "\n",
    "    #to capture only 250x250px to make all images a standard size\n",
    "    frame = frame[120:120+250,200:200+250,:]\n",
    "\n",
    "    #to rectify the lateral inversion\n",
    "    flipped_frame = cv2.flip(frame, 1)\n",
    "\n",
    "    cv2.waitKey(1)\n",
    "\n",
    "    # Create the unique file path \n",
    "    imgname = os.path.join(POS_PATH, '{}.jpg'.format(uuid.uuid1()))\n",
    "    \n",
    "    # Write out anchor image\n",
    "    cv2.imwrite(imgname, frame)\n",
    "\n",
    "    cv2.imshow('Image collection',flipped_frame)\n",
    "   \n",
    "\n",
    "cap.release()\n",
    "cv2.destroyAllWindows()"
   ]
  },
  {
   "cell_type": "markdown",
   "id": "4ecfc2a2",
   "metadata": {},
   "source": [
    "#### Anchor collection from webcam"
   ]
  },
  {
   "cell_type": "code",
   "execution_count": 25,
   "id": "f735bfaa",
   "metadata": {},
   "outputs": [],
   "source": [
    "cap = cv2.VideoCapture(0)\n",
    "\n",
    "# Set the capture duration to 5 minutes (300 seconds)\n",
    "capture_duration = 30\n",
    "\n",
    "# Record start time\n",
    "start_time = time.time()\n",
    "\n",
    "while(int(time.time() - start_time) < capture_duration):\n",
    "    ret, frame = cap.read()\n",
    "\n",
    "    #to capture only 250x250px to make all images a standard size\n",
    "    frame = frame[120:120+250,200:200+250,:]\n",
    "\n",
    "    #to rectify the lateral inversion\n",
    "    flipped_frame = cv2.flip(frame, 1)\n",
    "\n",
    "    cv2.waitKey(1)\n",
    "\n",
    "    # Create the unique file path \n",
    "    imgname = os.path.join(ANC_PATH, '{}.jpg'.format(uuid.uuid1()))\n",
    "    \n",
    "    # Write out anchor image\n",
    "    cv2.imwrite(imgname, frame)\n",
    "\n",
    "    cv2.imshow('Image collection',flipped_frame)\n",
    "   \n",
    "\n",
    "cap.release()\n",
    "cv2.destroyAllWindows()"
   ]
  },
  {
   "cell_type": "markdown",
   "id": "17ab264b",
   "metadata": {},
   "source": [
    "# Data Augmentation"
   ]
  },
  {
   "cell_type": "code",
   "execution_count": 26,
   "id": "a3a1f1d0",
   "metadata": {},
   "outputs": [],
   "source": [
    "def data_aug(img):\n",
    "    data = []\n",
    "    for i in range(9):\n",
    "        img = tf.image.stateless_random_brightness(img, max_delta=0.02, seed=(1,2))\n",
    "        img = tf.image.stateless_random_contrast(img, lower=0.6, upper=1, seed=(1,3))\n",
    "        # img = tf.image.stateless_random_crop(img, size=(20,20,3), seed=(1,2))\n",
    "        img = tf.image.stateless_random_flip_left_right(img, seed=(np.random.randint(100),np.random.randint(100)))\n",
    "        img = tf.image.stateless_random_jpeg_quality(img, min_jpeg_quality=90, max_jpeg_quality=100, seed=(np.random.randint(100),np.random.randint(100)))\n",
    "        img = tf.image.stateless_random_saturation(img, lower=0.9,upper=1, seed=(np.random.randint(100),np.random.randint(100)))\n",
    "            \n",
    "        data.append(img)\n",
    "    \n",
    "    return data"
   ]
  },
  {
   "cell_type": "code",
   "execution_count": 27,
   "id": "3f17559c",
   "metadata": {},
   "outputs": [],
   "source": [
    "for file_name in os.listdir(os.path.join(ANC_PATH)):\n",
    "    img_path = os.path.join(ANC_PATH, file_name)\n",
    "    img = cv2.imread(img_path)\n",
    "    augmented_images = data_aug(img) \n",
    "    \n",
    "    for image in augmented_images:\n",
    "        cv2.imwrite(os.path.join(ANC_PATH, '{}.jpg'.format(uuid.uuid1())), image.numpy())"
   ]
  },
  {
   "cell_type": "code",
   "execution_count": 28,
   "id": "73f9a445",
   "metadata": {},
   "outputs": [],
   "source": [
    "for file_name in os.listdir(os.path.join(POS_PATH)):\n",
    "    img_path = os.path.join(POS_PATH, file_name)\n",
    "    img = cv2.imread(img_path)\n",
    "    augmented_images = data_aug(img) \n",
    "    \n",
    "    for image in augmented_images:\n",
    "        cv2.imwrite(os.path.join(POS_PATH, '{}.jpg'.format(uuid.uuid1())), image.numpy())"
   ]
  },
  {
   "cell_type": "markdown",
   "id": "67c467c6",
   "metadata": {},
   "source": [
    "# Load and Preprocess Images"
   ]
  },
  {
   "cell_type": "markdown",
   "id": "d403c305",
   "metadata": {},
   "source": [
    "#### Get images directories"
   ]
  },
  {
   "cell_type": "code",
   "execution_count": 29,
   "id": "ebd105e7",
   "metadata": {},
   "outputs": [],
   "source": [
    "anchor = tf.data.Dataset.list_files(ANC_PATH+'\\*.jpg').take(300)\n",
    "positive = tf.data.Dataset.list_files(POS_PATH+'\\*.jpg').take(300)\n",
    "negative = tf.data.Dataset.list_files(NEG_PATH+'\\*.jpg').take(300)"
   ]
  },
  {
   "cell_type": "code",
   "execution_count": 30,
   "id": "d7e320b6",
   "metadata": {},
   "outputs": [],
   "source": [
    "dir_test = anchor.as_numpy_iterator()"
   ]
  },
  {
   "cell_type": "code",
   "execution_count": 31,
   "id": "91ca5964",
   "metadata": {},
   "outputs": [
    {
     "name": "stdout",
     "output_type": "stream",
     "text": [
      "b'C:\\\\Users\\\\utsav\\\\AppData\\\\Local\\\\Temp\\\\data\\\\anchor\\\\5004c67e-3791-11f0-9c14-c423607b4a5c.jpg'\n"
     ]
    }
   ],
   "source": [
    "#to check if the iterator is reading all the imaage path\n",
    "print(dir_test.next())"
   ]
  },
  {
   "cell_type": "markdown",
   "id": "7f254520",
   "metadata": {},
   "source": [
    "#### Preprocessing - Scale and Resize"
   ]
  },
  {
   "cell_type": "code",
   "execution_count": 32,
   "id": "527badc3",
   "metadata": {},
   "outputs": [],
   "source": [
    "def preprocess(file_path):\n",
    "    \n",
    "    # Read in image from file path\n",
    "    byte_img = tf.io.read_file(file_path)\n",
    "    # Load in the image \n",
    "    img = tf.io.decode_jpeg(byte_img)\n",
    "    \n",
    "    # Preprocessing steps - resizing the image to be 100x100x3\n",
    "    img = tf.image.resize(img, (100,100))\n",
    "    # Scale image to be between 0 and 1 \n",
    "    img = img / 255.0\n",
    "    \n",
    "    # Return image\n",
    "    return img"
   ]
  },
  {
   "cell_type": "code",
   "execution_count": 33,
   "id": "171e0573",
   "metadata": {},
   "outputs": [],
   "source": [
    "img = preprocess(dir_test.next())"
   ]
  },
  {
   "cell_type": "code",
   "execution_count": 34,
   "id": "43c201af",
   "metadata": {},
   "outputs": [
    {
     "data": {
      "text/plain": [
       "array([[[0.5272059 , 0.54289216, 0.4879902 ],\n",
       "        [0.5264706 , 0.5411765 , 0.48921567],\n",
       "        [0.52867645, 0.54044116, 0.49730393],\n",
       "        ...,\n",
       "        [0.56078434, 0.55588233, 0.50392157],\n",
       "        [0.57965684, 0.58210784, 0.5323529 ],\n",
       "        [0.577451  , 0.5852941 , 0.53431374]],\n",
       "\n",
       "       [[0.51936275, 0.5370098 , 0.48406863],\n",
       "        [0.52916664, 0.54607844, 0.49534315],\n",
       "        [0.5237745 , 0.5362745 , 0.49289215],\n",
       "        ...,\n",
       "        [0.55      , 0.54019606, 0.49044117],\n",
       "        [0.58235294, 0.5745098 , 0.5267157 ],\n",
       "        [0.5764706 , 0.5764706 , 0.5294118 ]],\n",
       "\n",
       "       [[0.51593137, 0.5394608 , 0.49240196],\n",
       "        [0.5154412 , 0.5367647 , 0.49044117],\n",
       "        [0.5242647 , 0.5367647 , 0.49338236],\n",
       "        ...,\n",
       "        [0.55441177, 0.53431374, 0.4882353 ],\n",
       "        [0.5803922 , 0.57058823, 0.5245098 ],\n",
       "        [0.5754902 , 0.56666666, 0.52843136]],\n",
       "\n",
       "       ...,\n",
       "\n",
       "       [[0.37941176, 0.422549  , 0.3990196 ],\n",
       "        [0.3735294 , 0.4245098 , 0.3970588 ],\n",
       "        [0.3745098 , 0.4254902 , 0.39215687],\n",
       "        ...,\n",
       "        [0.36764705, 0.41862744, 0.39117646],\n",
       "        [0.36764705, 0.41862744, 0.3852941 ],\n",
       "        [0.36862746, 0.4137255 , 0.38137254]],\n",
       "\n",
       "       [[0.38357842, 0.42671567, 0.4090686 ],\n",
       "        [0.3617647 , 0.4127451 , 0.3852941 ],\n",
       "        [0.36642158, 0.41740197, 0.38406864],\n",
       "        ...,\n",
       "        [0.3754902 , 0.42058823, 0.39607844],\n",
       "        [0.36789215, 0.41740197, 0.38480392],\n",
       "        [0.3617647 , 0.4127451 , 0.37745097]],\n",
       "\n",
       "       [[0.3745098 , 0.41764706, 0.4019608 ],\n",
       "        [0.37156862, 0.422549  , 0.39509803],\n",
       "        [0.3647059 , 0.41568628, 0.38235295],\n",
       "        ...,\n",
       "        [0.37083334, 0.4139706 , 0.39044118],\n",
       "        [0.3747549 , 0.4237745 , 0.39142156],\n",
       "        [0.35980392, 0.4107843 , 0.3754902 ]]], dtype=float32)"
      ]
     },
     "execution_count": 34,
     "metadata": {},
     "output_type": "execute_result"
    }
   ],
   "source": [
    "img.numpy()"
   ]
  },
  {
   "cell_type": "code",
   "execution_count": 35,
   "id": "840f366f",
   "metadata": {},
   "outputs": [
    {
     "data": {
      "text/plain": [
       "<matplotlib.image.AxesImage at 0x1ecd421e9e0>"
      ]
     },
     "execution_count": 35,
     "metadata": {},
     "output_type": "execute_result"
    },
    {
     "data": {
      "image/png": "[encoded data removed]",
      "text/plain": [
       "<Figure size 640x480 with 1 Axes>"
      ]
     },
     "metadata": {},
     "output_type": "display_data"
    }
   ],
   "source": [
    "#to check the scaling is working. We will see the image size should be 100x100px\n",
    "plt.imshow(img)"
   ]
  },
  {
   "cell_type": "markdown",
   "id": "3493f9b0",
   "metadata": {},
   "source": [
    "#### Create Labelled Dataset"
   ]
  },
  {
   "cell_type": "code",
   "execution_count": 36,
   "id": "f4976573",
   "metadata": {},
   "outputs": [],
   "source": [
    "# (anchor, positive) => 1,1,1,1,1\n",
    "# (anchor, negative) => 0,0,0,0,0"
   ]
  },
  {
   "cell_type": "code",
   "execution_count": 37,
   "id": "bab052cc",
   "metadata": {},
   "outputs": [],
   "source": [
    "positives = tf.data.Dataset.zip((anchor, positive, tf.data.Dataset.from_tensor_slices(tf.ones(len(anchor)))))\n",
    "negatives = tf.data.Dataset.zip((anchor, negative, tf.data.Dataset.from_tensor_slices(tf.zeros(len(anchor)))))\n",
    "data = positives.concatenate(negatives)"
   ]
  },
  {
   "cell_type": "code",
   "execution_count": 38,
   "id": "3a1cabd0",
   "metadata": {},
   "outputs": [],
   "source": [
    "samples = data.as_numpy_iterator()"
   ]
  },
  {
   "cell_type": "code",
   "execution_count": 39,
   "id": "25f15674",
   "metadata": {},
   "outputs": [],
   "source": [
    "example = samples.next()"
   ]
  },
  {
   "cell_type": "code",
   "execution_count": 40,
   "id": "0a3a9d3a",
   "metadata": {},
   "outputs": [
    {
     "data": {
      "text/plain": [
       "(b'C:\\\\Users\\\\utsav\\\\AppData\\\\Local\\\\Temp\\\\data\\\\anchor\\\\6935fa25-3791-11f0-855f-c423607b4a5c.jpg',\n",
       " b'C:\\\\Users\\\\utsav\\\\AppData\\\\Local\\\\Temp\\\\data\\\\positive\\\\b5765d0d-3791-11f0-b806-c423607b4a5c.jpg',\n",
       " 1.0)"
      ]
     },
     "execution_count": 40,
     "metadata": {},
     "output_type": "execute_result"
    }
   ],
   "source": [
    "example"
   ]
  },
  {
   "cell_type": "markdown",
   "id": "64b94e10",
   "metadata": {},
   "source": [
    "#### Build Train and Test Partition"
   ]
  },
  {
   "cell_type": "code",
   "execution_count": 41,
   "id": "8bf598e3",
   "metadata": {},
   "outputs": [],
   "source": [
    "def preprocess_twin(input_img, validation_img, label):\n",
    "    return(preprocess(input_img), preprocess(validation_img), label)"
   ]
  },
  {
   "cell_type": "code",
   "execution_count": 42,
   "id": "4f2b0fcc",
   "metadata": {},
   "outputs": [],
   "source": [
    "res = preprocess_twin(*example)"
   ]
  },
  {
   "cell_type": "code",
   "execution_count": 43,
   "id": "46ba84ae",
   "metadata": {},
   "outputs": [
    {
     "data": {
      "text/plain": [
       "(<tf.Tensor: shape=(100, 100, 3), dtype=float32, numpy=\n",
       " array([[[0.64117646, 0.6764706 , 0.6098039 ],\n",
       "         [0.6497549 , 0.66495097, 0.6110294 ],\n",
       "         [0.6617647 , 0.6637255 , 0.6156863 ],\n",
       "         ...,\n",
       "         [0.6022059 , 0.59044117, 0.55514705],\n",
       "         [0.5982843 , 0.5865196 , 0.5512255 ],\n",
       "         [0.577451  , 0.577451  , 0.5382353 ]],\n",
       " \n",
       "        [[0.64215684, 0.6637255 , 0.60882354],\n",
       "         [0.6519608 , 0.66568625, 0.6122549 ],\n",
       "         [0.6504902 , 0.6497549 , 0.60906863],\n",
       "         ...,\n",
       "         [0.5860294 , 0.5801471 , 0.53382355],\n",
       "         [0.5973039 , 0.5894608 , 0.5485294 ],\n",
       "         [0.5862745 , 0.58431375, 0.5414216 ]],\n",
       " \n",
       "        [[0.6401961 , 0.65      , 0.5980392 ],\n",
       "         [0.6490196 , 0.654902  , 0.6112745 ],\n",
       "         [0.654902  , 0.6460784 , 0.6142157 ],\n",
       "         ...,\n",
       "         [0.56666666, 0.57058823, 0.50980395],\n",
       "         [0.57034314, 0.56764704, 0.5090686 ],\n",
       "         [0.5852941 , 0.577451  , 0.5205882 ]],\n",
       " \n",
       "        ...,\n",
       " \n",
       "        [[0.4360294 , 0.5144608 , 0.47916666],\n",
       "         [0.45171568, 0.50661767, 0.48014706],\n",
       "         [0.46053922, 0.5095588 , 0.48308823],\n",
       "         ...,\n",
       "         [0.45563725, 0.5144608 , 0.49485293],\n",
       "         [0.45686275, 0.5156863 , 0.49607843],\n",
       "         [0.4490196 , 0.50784314, 0.48039216]],\n",
       " \n",
       "        [[0.44264707, 0.51004905, 0.47254902],\n",
       "         [0.45612746, 0.5132353 , 0.48014706],\n",
       "         [0.46053922, 0.5095588 , 0.47867647],\n",
       "         ...,\n",
       "         [0.45465687, 0.51348037, 0.49387255],\n",
       "         [0.44705883, 0.5058824 , 0.4862745 ],\n",
       "         [0.45588234, 0.5147059 , 0.49313724]],\n",
       " \n",
       "        [[0.44117647, 0.50784314, 0.46862745],\n",
       "         [0.45784312, 0.5156863 , 0.47843137],\n",
       "         [0.4627451 , 0.5117647 , 0.47745097],\n",
       "         ...,\n",
       "         [0.45      , 0.5088235 , 0.48137254],\n",
       "         [0.4509804 , 0.50980395, 0.4882353 ],\n",
       "         [0.45882353, 0.5176471 , 0.49803922]]], dtype=float32)>,\n",
       " <tf.Tensor: shape=(100, 100, 3), dtype=float32, numpy=\n",
       " array([[[0.60588235, 0.57058823, 0.50392157],\n",
       "         [0.5921569 , 0.5568628 , 0.49019608],\n",
       "         [0.6       , 0.5647059 , 0.50392157],\n",
       "         ...,\n",
       "         [0.64705884, 0.61960787, 0.5568628 ],\n",
       "         [0.64705884, 0.61960787, 0.5568628 ],\n",
       "         [0.64705884, 0.61960787, 0.5568628 ]],\n",
       " \n",
       "        [[0.5980392 , 0.5627451 , 0.49803922],\n",
       "         [0.6019608 , 0.56666666, 0.5019608 ],\n",
       "         [0.5982843 , 0.5629902 , 0.5026961 ],\n",
       "         ...,\n",
       "         [0.6482843 , 0.6227941 , 0.55710787],\n",
       "         [0.6428922 , 0.61740196, 0.5517157 ],\n",
       "         [0.64509803, 0.61960787, 0.5539216 ]],\n",
       " \n",
       "        [[0.59289217, 0.55759805, 0.4987745 ],\n",
       "         [0.5990196 , 0.5637255 , 0.50490195],\n",
       "         [0.5973039 , 0.55539215, 0.4987745 ],\n",
       "         ...,\n",
       "         [0.6362745 , 0.6166667 , 0.5421569 ],\n",
       "         [0.63553923, 0.6159314 , 0.5414216 ],\n",
       "         [0.63529414, 0.6156863 , 0.5411765 ]],\n",
       " \n",
       "        ...,\n",
       " \n",
       "        [[0.46544117, 0.42230392, 0.34387255],\n",
       "         [0.46985295, 0.42671567, 0.3482843 ],\n",
       "         [0.47034314, 0.42132354, 0.34583333],\n",
       "         ...,\n",
       "         [0.48897058, 0.51862746, 0.44191176],\n",
       "         [0.48063725, 0.5151961 , 0.44852942],\n",
       "         [0.48333332, 0.5264706 , 0.46078432]],\n",
       " \n",
       "        [[0.46862745, 0.4254902 , 0.34705883],\n",
       "         [0.46862745, 0.4254902 , 0.34705883],\n",
       "         [0.47671568, 0.42769608, 0.35220587],\n",
       "         ...,\n",
       "         [0.48333332, 0.5178922 , 0.4512255 ],\n",
       "         [0.46666667, 0.50980395, 0.4512255 ],\n",
       "         [0.48137254, 0.527451  , 0.47058824]],\n",
       " \n",
       "        [[0.4745098 , 0.43137255, 0.3529412 ],\n",
       "         [0.4745098 , 0.43137255, 0.3529412 ],\n",
       "         [0.47745097, 0.42843136, 0.3529412 ],\n",
       "         ...,\n",
       "         [0.47058824, 0.5137255 , 0.4480392 ],\n",
       "         [0.45882353, 0.50490195, 0.4480392 ],\n",
       "         [0.46666667, 0.52156866, 0.47058824]]], dtype=float32)>,\n",
       " 1.0)"
      ]
     },
     "execution_count": 43,
     "metadata": {},
     "output_type": "execute_result"
    }
   ],
   "source": [
    "res"
   ]
  },
  {
   "cell_type": "code",
   "execution_count": 44,
   "id": "fe511187",
   "metadata": {},
   "outputs": [
    {
     "data": {
      "text/plain": [
       "<matplotlib.image.AxesImage at 0x1ecdc7bf5b0>"
      ]
     },
     "execution_count": 44,
     "metadata": {},
     "output_type": "execute_result"
    },
    {
     "data": {
      "image/png": "[encoded data removed]",
      "text/plain": [
       "<Figure size 640x480 with 1 Axes>"
      ]
     },
     "metadata": {},
     "output_type": "display_data"
    }
   ],
   "source": [
    "plt.imshow(res[0])"
   ]
  },
  {
   "cell_type": "code",
   "execution_count": 45,
   "id": "cf02ac7b",
   "metadata": {},
   "outputs": [
    {
     "data": {
      "text/plain": [
       "<matplotlib.image.AxesImage at 0x1ecdc839570>"
      ]
     },
     "execution_count": 45,
     "metadata": {},
     "output_type": "execute_result"
    },
    {
     "data": {
      "image/png": "[encoded data removed]",
      "text/plain": [
       "<Figure size 640x480 with 1 Axes>"
      ]
     },
     "metadata": {},
     "output_type": "display_data"
    }
   ],
   "source": [
    "plt.imshow(res[1])"
   ]
  },
  {
   "cell_type": "code",
   "execution_count": 73,
   "id": "6e234d2f",
   "metadata": {},
   "outputs": [
    {
     "data": {
      "text/plain": [
       "<function __main__.preprocess_twin(input_img, validation_img, label)>"
      ]
     },
     "execution_count": 73,
     "metadata": {},
     "output_type": "execute_result"
    }
   ],
   "source": [
    "preprocess_twin"
   ]
  },
  {
   "cell_type": "code",
   "execution_count": 46,
   "id": "d62cd82c",
   "metadata": {},
   "outputs": [],
   "source": [
    "# Build dataloader pipeline\n",
    "data = data.map(preprocess_twin)\n",
    "data = data.cache()\n",
    "data = data.shuffle(buffer_size=10000)"
   ]
  },
  {
   "cell_type": "code",
   "execution_count": 74,
   "id": "2129bb03",
   "metadata": {},
   "outputs": [
    {
     "data": {
      "text/plain": [
       "<ShuffleDataset element_spec=(TensorSpec(shape=(100, 100, None), dtype=tf.float32, name=None), TensorSpec(shape=(100, 100, None), dtype=tf.float32, name=None), TensorSpec(shape=(), dtype=tf.float32, name=None))>"
      ]
     },
     "execution_count": 74,
     "metadata": {},
     "output_type": "execute_result"
    }
   ],
   "source": [
    "data"
   ]
  },
  {
   "cell_type": "code",
   "execution_count": 47,
   "id": "e631333f",
   "metadata": {},
   "outputs": [],
   "source": [
    "# Training partition\n",
    "train_data = data.take(round(len(data)*.7))\n",
    "train_data = train_data.batch(16)\n",
    "train_data = train_data.prefetch(8)"
   ]
  },
  {
   "cell_type": "code",
   "execution_count": 56,
   "id": "5f99afb0",
   "metadata": {},
   "outputs": [],
   "source": [
    "# Testing partition\n",
    "test_data = data.skip(round(len(data)*.7))\n",
    "test_data = test_data.take(round(len(data)*.3))\n",
    "test_data = test_data.batch(16)\n",
    "test_data = test_data.prefetch(8)"
   ]
  },
  {
   "cell_type": "markdown",
   "id": "feb19da8",
   "metadata": {},
   "source": [
    "# Model Engineering"
   ]
  },
  {
   "cell_type": "markdown",
   "id": "96c853c5",
   "metadata": {},
   "source": [
    "#### Build Embedding Layer"
   ]
  },
  {
   "cell_type": "code",
   "execution_count": 57,
   "id": "a7a9e86a",
   "metadata": {},
   "outputs": [],
   "source": [
    "def make_embedding(): \n",
    "    inp = Input(shape=(100,100,3), name='input_image')\n",
    "    \n",
    "    # First block\n",
    "    c1 = Conv2D(64, (10,10), activation='relu')(inp)\n",
    "    m1 = MaxPooling2D(64, (2,2), padding='same')(c1)\n",
    "    \n",
    "    # Second block\n",
    "    c2 = Conv2D(128, (7,7), activation='relu')(m1)\n",
    "    m2 = MaxPooling2D(64, (2,2), padding='same')(c2)\n",
    "    \n",
    "    # Third block \n",
    "    c3 = Conv2D(128, (4,4), activation='relu')(m2)\n",
    "    m3 = MaxPooling2D(64, (2,2), padding='same')(c3)\n",
    "    \n",
    "    # Final embedding block\n",
    "    c4 = Conv2D(256, (4,4), activation='relu')(m3)\n",
    "    f1 = Flatten()(c4)\n",
    "    d1 = Dense(4096, activation='sigmoid')(f1)\n",
    "    \n",
    "    \n",
    "    return Model(inputs=[inp], outputs=[d1], name='embedding')"
   ]
  },
  {
   "cell_type": "code",
   "execution_count": 58,
   "id": "971cdea8",
   "metadata": {},
   "outputs": [],
   "source": [
    "embedding = make_embedding()"
   ]
  },
  {
   "cell_type": "code",
   "execution_count": 59,
   "id": "ef873ae0",
   "metadata": {},
   "outputs": [
    {
     "name": "stdout",
     "output_type": "stream",
     "text": [
      "Model: \"embedding\"\n",
      "_________________________________________________________________\n",
      " Layer (type)                Output Shape              Param #   \n",
      "=================================================================\n",
      " input_image (InputLayer)    [(None, 100, 100, 3)]     0         \n",
      "                                                                 \n",
      " conv2d_4 (Conv2D)           (None, 91, 91, 64)        19264     \n",
      "                                                                 \n",
      " max_pooling2d_3 (MaxPooling  (None, 46, 46, 64)       0         \n",
      " 2D)                                                             \n",
      "                                                                 \n",
      " conv2d_5 (Conv2D)           (None, 40, 40, 128)       401536    \n",
      "                                                                 \n",
      " max_pooling2d_4 (MaxPooling  (None, 20, 20, 128)      0         \n",
      " 2D)                                                             \n",
      "                                                                 \n",
      " conv2d_6 (Conv2D)           (None, 17, 17, 128)       262272    \n",
      "                                                                 \n",
      " max_pooling2d_5 (MaxPooling  (None, 9, 9, 128)        0         \n",
      " 2D)                                                             \n",
      "                                                                 \n",
      " conv2d_7 (Conv2D)           (None, 6, 6, 256)         524544    \n",
      "                                                                 \n",
      " flatten_1 (Flatten)         (None, 9216)              0         \n",
      "                                                                 \n",
      " dense_2 (Dense)             (None, 4096)              37752832  \n",
      "                                                                 \n",
      "=================================================================\n",
      "Total params: 38,960,448\n",
      "Trainable params: 38,960,448\n",
      "Non-trainable params: 0\n",
      "_________________________________________________________________\n"
     ]
    }
   ],
   "source": [
    "embedding.summary()"
   ]
  },
  {
   "cell_type": "markdown",
   "id": "9a3c43cd",
   "metadata": {},
   "source": [
    "#### Build Distance Layer"
   ]
  },
  {
   "cell_type": "code",
   "execution_count": 60,
   "id": "aedd11ac",
   "metadata": {},
   "outputs": [],
   "source": [
    "# Siamese L1 Distance class\n",
    "class L1Dist(Layer):\n",
    "    \n",
    "    # Init method - inheritance\n",
    "    def __init__(self, **kwargs):\n",
    "        super().__init__()\n",
    "       \n",
    "    # Similarity calculation\n",
    "    def call(self, input_embedding, validation_embedding):\n",
    "        return tf.math.abs(input_embedding - validation_embedding)"
   ]
  },
  {
   "cell_type": "markdown",
   "id": "e379d15b",
   "metadata": {},
   "source": [
    "#### Make Siamese Model"
   ]
  },
  {
   "cell_type": "code",
   "execution_count": 61,
   "id": "1aadef45",
   "metadata": {},
   "outputs": [],
   "source": [
    "def make_siamese_model(): \n",
    "    \n",
    "    # Anchor image input in the network\n",
    "    input_image = Input(name='input_img', shape=(100,100,3))\n",
    "    \n",
    "    # Validation image in the network \n",
    "    validation_image = Input(name='validation_img', shape=(100,100,3))\n",
    "    \n",
    "    # Combine siamese distance components\n",
    "    siamese_layer = L1Dist()\n",
    "    siamese_layer._name = 'distance'\n",
    "    distances = siamese_layer(embedding(input_image), embedding(validation_image))\n",
    "    \n",
    "    # Classification layer \n",
    "    classifier = Dense(1, activation='sigmoid')(distances)\n",
    "    \n",
    "    return Model(inputs=[input_image, validation_image], outputs=classifier, name='SiameseNetwork')"
   ]
  },
  {
   "cell_type": "code",
   "execution_count": 62,
   "id": "d8cf0b5e",
   "metadata": {},
   "outputs": [
    {
     "name": "stdout",
     "output_type": "stream",
     "text": [
      "Model: \"SiameseNetwork\"\n",
      "__________________________________________________________________________________________________\n",
      " Layer (type)                   Output Shape         Param #     Connected to                     \n",
      "==================================================================================================\n",
      " input_img (InputLayer)         [(None, 100, 100, 3  0           []                               \n",
      "                                )]                                                                \n",
      "                                                                                                  \n",
      " validation_img (InputLayer)    [(None, 100, 100, 3  0           []                               \n",
      "                                )]                                                                \n",
      "                                                                                                  \n",
      " embedding (Functional)         (None, 4096)         38960448    ['input_img[0][0]',              \n",
      "                                                                  'validation_img[0][0]']         \n",
      "                                                                                                  \n",
      " distance (L1Dist)              (None, 4096)         0           ['embedding[0][0]',              \n",
      "                                                                  'embedding[1][0]']              \n",
      "                                                                                                  \n",
      " dense_3 (Dense)                (None, 1)            4097        ['distance[0][0]']               \n",
      "                                                                                                  \n",
      "==================================================================================================\n",
      "Total params: 38,964,545\n",
      "Trainable params: 38,964,545\n",
      "Non-trainable params: 0\n",
      "__________________________________________________________________________________________________\n"
     ]
    }
   ],
   "source": [
    "siamese_model = make_siamese_model()\n",
    "siamese_model.summary()"
   ]
  },
  {
   "cell_type": "markdown",
   "id": "2e3ba315",
   "metadata": {},
   "source": [
    "# Training"
   ]
  },
  {
   "cell_type": "markdown",
   "id": "b96716bd",
   "metadata": {},
   "source": [
    "#### Setup Loss and Optimizer"
   ]
  },
  {
   "cell_type": "code",
   "execution_count": 63,
   "id": "8a8af49b",
   "metadata": {},
   "outputs": [],
   "source": [
    "binary_cross_loss = tf.losses.BinaryCrossentropy()"
   ]
  },
  {
   "cell_type": "code",
   "execution_count": 64,
   "id": "59386047",
   "metadata": {},
   "outputs": [],
   "source": [
    "opt = tf.keras.optimizers.Adam(1e-4) # 0.0001"
   ]
  },
  {
   "cell_type": "markdown",
   "id": "0ee86430",
   "metadata": {},
   "source": [
    "#### Establish Checkpoints"
   ]
  },
  {
   "cell_type": "code",
   "execution_count": 65,
   "id": "4674ec0a",
   "metadata": {},
   "outputs": [],
   "source": [
    "checkpoint_dir = CHEKPOINT_PATH\n",
    "checkpoint_prefix = os.path.join(checkpoint_dir, 'ckpt')\n",
    "checkpoint = tf.train.Checkpoint(opt=opt, siamese_model=siamese_model)"
   ]
  },
  {
   "cell_type": "markdown",
   "id": "e9f2fbcb",
   "metadata": {},
   "source": [
    "#### Build Train Step Function"
   ]
  },
  {
   "cell_type": "code",
   "execution_count": 66,
   "id": "326c5e11",
   "metadata": {},
   "outputs": [],
   "source": [
    "test_batch = train_data.as_numpy_iterator()"
   ]
  },
  {
   "cell_type": "code",
   "execution_count": 67,
   "id": "d6e53699",
   "metadata": {},
   "outputs": [],
   "source": [
    "batch_1 = test_batch.next()"
   ]
  },
  {
   "cell_type": "code",
   "execution_count": 68,
   "id": "b66ac398",
   "metadata": {},
   "outputs": [],
   "source": [
    "X = batch_1[:2]"
   ]
  },
  {
   "cell_type": "code",
   "execution_count": 69,
   "id": "2e39e166",
   "metadata": {},
   "outputs": [
    {
     "data": {
      "text/plain": [
       "(array([[[[0.55196077, 0.57941175, 0.51666665],\n",
       "          [0.55490196, 0.57941175, 0.5176471 ],\n",
       "          [0.5568628 , 0.57254905, 0.5137255 ],\n",
       "          ...,\n",
       "          [0.6132353 , 0.62058824, 0.56985295],\n",
       "          [0.6139706 , 0.6125    , 0.5654412 ],\n",
       "          [0.6122549 , 0.60588235, 0.5588235 ]],\n",
       " \n",
       "         [[0.55490196, 0.5686275 , 0.5107843 ],\n",
       "          [0.5588235 , 0.57254905, 0.5147059 ],\n",
       "          [0.5512255 , 0.564951  , 0.50710785],\n",
       "          ...,\n",
       "          [0.59705883, 0.61470586, 0.5598039 ],\n",
       "          [0.60563725, 0.62328434, 0.5683824 ],\n",
       "          [0.6068627 , 0.6166667 , 0.5647059 ]],\n",
       " \n",
       "         [[0.55490196, 0.5598039 , 0.50490195],\n",
       "          [0.5647059 , 0.56960785, 0.5147059 ],\n",
       "          [0.55490196, 0.55759805, 0.50710785],\n",
       "          ...,\n",
       "          [0.5926471 , 0.6154412 , 0.56642157],\n",
       "          [0.60490197, 0.61960787, 0.5735294 ],\n",
       "          [0.60490197, 0.61764705, 0.5715686 ]],\n",
       " \n",
       "         ...,\n",
       " \n",
       "         [[0.3997549 , 0.46053922, 0.43259802],\n",
       "          [0.41617647, 0.46617648, 0.42990196],\n",
       "          [0.41666666, 0.45      , 0.40098038],\n",
       "          ...,\n",
       "          [0.39681372, 0.45563725, 0.4360294 ],\n",
       "          [0.40294117, 0.4617647 , 0.44215685],\n",
       "          [0.40098038, 0.4598039 , 0.44019607]],\n",
       " \n",
       "         [[0.40441176, 0.47107843, 0.44754902],\n",
       "          [0.40955883, 0.46740195, 0.43014705],\n",
       "          [0.40955883, 0.44485295, 0.39485294],\n",
       "          ...,\n",
       "          [0.3992647 , 0.45808825, 0.4384804 ],\n",
       "          [0.4       , 0.45882353, 0.4392157 ],\n",
       "          [0.39803922, 0.45686275, 0.4372549 ]],\n",
       " \n",
       "         [[0.3990196 , 0.46470588, 0.44411764],\n",
       "          [0.40784314, 0.46568626, 0.42843136],\n",
       "          [0.4127451 , 0.4480392 , 0.40392157],\n",
       "          ...,\n",
       "          [0.39607844, 0.45490196, 0.44313726],\n",
       "          [0.39313725, 0.45196077, 0.44019607],\n",
       "          [0.39607844, 0.45490196, 0.44313726]]],\n",
       " \n",
       " \n",
       "        [[[0.595098  , 0.6068627 , 0.5637255 ],\n",
       "          [0.59411764, 0.60588235, 0.5647059 ],\n",
       "          [0.59705883, 0.60294116, 0.57058823],\n",
       "          ...,\n",
       "          [0.55465686, 0.54583335, 0.50171566],\n",
       "          [0.57254905, 0.56078434, 0.5254902 ],\n",
       "          [0.56397057, 0.55220586, 0.5247549 ]],\n",
       " \n",
       "         [[0.5982843 , 0.610049  , 0.5747549 ],\n",
       "          [0.6009804 , 0.6122549 , 0.5772059 ],\n",
       "          [0.6068627 , 0.6122549 , 0.5801471 ],\n",
       "          ...,\n",
       "          [0.5357843 , 0.5254902 , 0.48210785],\n",
       "          [0.5598039 , 0.5480392 , 0.51862746],\n",
       "          [0.5637255 , 0.55196077, 0.5245098 ]],\n",
       " \n",
       "         [[0.5980392 , 0.6039216 , 0.5715686 ],\n",
       "          [0.5992647 , 0.6046569 , 0.57254905],\n",
       "          [0.6       , 0.6039216 , 0.57254905],\n",
       "          ...,\n",
       "          [0.53186274, 0.51715684, 0.48039216],\n",
       "          [0.5507353 , 0.5389706 , 0.5095588 ],\n",
       "          [0.55465686, 0.54289216, 0.5154412 ]],\n",
       " \n",
       "         ...,\n",
       " \n",
       "         [[0.3529412 , 0.43529412, 0.40784314],\n",
       "          [0.35196078, 0.4362745 , 0.40833333],\n",
       "          [0.35196078, 0.4362745 , 0.40980393],\n",
       "          ...,\n",
       "          [0.3620098 , 0.4384804 , 0.42181373],\n",
       "          [0.35906863, 0.44142157, 0.42181373],\n",
       "          [0.35392156, 0.4362745 , 0.41666666]],\n",
       " \n",
       "         [[0.34607843, 0.4362745 , 0.40490195],\n",
       "          [0.34607843, 0.4362745 , 0.40686274],\n",
       "          [0.34754902, 0.43333334, 0.4120098 ],\n",
       "          ...,\n",
       "          [0.36985293, 0.44632354, 0.42965686],\n",
       "          [0.36397058, 0.44411764, 0.43112746],\n",
       "          [0.36078432, 0.44019607, 0.42941177]],\n",
       " \n",
       "         [[0.34901962, 0.43137255, 0.4117647 ],\n",
       "          [0.3529412 , 0.43529412, 0.41568628],\n",
       "          [0.35882354, 0.43529412, 0.41862744],\n",
       "          ...,\n",
       "          [0.3629902 , 0.4375    , 0.42181373],\n",
       "          [0.36078432, 0.43823528, 0.42843136],\n",
       "          [0.35490197, 0.43333334, 0.4254902 ]]],\n",
       " \n",
       " \n",
       "        [[[0.48455882, 0.5002451 , 0.44313726],\n",
       "          [0.49460784, 0.50147057, 0.44656864],\n",
       "          [0.5       , 0.50392157, 0.44166666],\n",
       "          ...,\n",
       "          [0.54044116, 0.55220586, 0.48553923],\n",
       "          [0.5419118 , 0.5536765 , 0.4870098 ],\n",
       "          [0.5362745 , 0.5480392 , 0.48137254]],\n",
       " \n",
       "         [[0.49166667, 0.50735295, 0.4406863 ],\n",
       "          [0.49411765, 0.50392157, 0.4362745 ],\n",
       "          [0.4865196 , 0.49044117, 0.42132354],\n",
       "          ...,\n",
       "          [0.5323529 , 0.54019606, 0.4852941 ],\n",
       "          [0.53210783, 0.53995097, 0.485049  ],\n",
       "          [0.53039217, 0.5382353 , 0.48333332]],\n",
       " \n",
       "         [[0.4865196 , 0.5022059 , 0.43553922],\n",
       "          [0.48137254, 0.49117646, 0.42352942],\n",
       "          [0.47965688, 0.48357844, 0.41446078],\n",
       "          ...,\n",
       "          [0.53455883, 0.54240197, 0.49044117],\n",
       "          [0.53210783, 0.53995097, 0.4879902 ],\n",
       "          [0.53039217, 0.5382353 , 0.4862745 ]],\n",
       " \n",
       "         ...,\n",
       " \n",
       "         [[0.35710785, 0.40808824, 0.37279412],\n",
       "          [0.36544117, 0.41642156, 0.37720588],\n",
       "          [0.36372548, 0.41764706, 0.36960784],\n",
       "          ...,\n",
       "          [0.33848038, 0.40122548, 0.3620098 ],\n",
       "          [0.3409314 , 0.40955883, 0.3644608 ],\n",
       "          [0.32843137, 0.40686274, 0.35980392]],\n",
       " \n",
       "         [[0.35833332, 0.40931374, 0.3740196 ],\n",
       "          [0.35637254, 0.40735295, 0.36813724],\n",
       "          [0.360049  , 0.4139706 , 0.36593136],\n",
       "          ...,\n",
       "          [0.3392157 , 0.4019608 , 0.3627451 ],\n",
       "          [0.34215686, 0.4107843 , 0.36568627],\n",
       "          [0.3362745 , 0.41470587, 0.36764705]],\n",
       " \n",
       "         [[0.3529412 , 0.40392157, 0.36862746],\n",
       "          [0.34509805, 0.39607844, 0.35980392],\n",
       "          [0.35686275, 0.40784314, 0.36862746],\n",
       "          ...,\n",
       "          [0.33235294, 0.39509803, 0.35588235],\n",
       "          [0.34215686, 0.4107843 , 0.36568627],\n",
       "          [0.33333334, 0.4117647 , 0.3647059 ]]],\n",
       " \n",
       " \n",
       "        ...,\n",
       " \n",
       " \n",
       "        [[[0.5588235 , 0.5588235 , 0.527451  ],\n",
       "          [0.5539216 , 0.5539216 , 0.52254903],\n",
       "          [0.57034314, 0.57034314, 0.5330882 ],\n",
       "          ...,\n",
       "          [0.6098039 , 0.6098039 , 0.5764706 ],\n",
       "          [0.60563725, 0.60563725, 0.5605392 ],\n",
       "          [0.60784316, 0.60588235, 0.5588235 ]],\n",
       " \n",
       "         [[0.55441177, 0.5514706 , 0.51911765],\n",
       "          [0.5595588 , 0.5566176 , 0.5227941 ],\n",
       "          [0.5590686 , 0.5502451 , 0.5120098 ],\n",
       "          ...,\n",
       "          [0.5980392 , 0.6046569 , 0.56960785],\n",
       "          [0.5987745 , 0.60759807, 0.560049  ],\n",
       "          [0.60588235, 0.6156863 , 0.5637255 ]],\n",
       " \n",
       "         [[0.5497549 , 0.5468137 , 0.5085784 ],\n",
       "          [0.5512255 , 0.54019606, 0.5026961 ],\n",
       "          [0.5539216 , 0.5414216 , 0.49730393],\n",
       "          ...,\n",
       "          [0.595098  , 0.6068627 , 0.5710784 ],\n",
       "          [0.5882353 , 0.6       , 0.55833334],\n",
       "          [0.5921569 , 0.6019608 , 0.55588233]],\n",
       " \n",
       "         ...,\n",
       " \n",
       "         [[0.38431373, 0.4509804 , 0.42156863],\n",
       "          [0.37941176, 0.44607842, 0.41813725],\n",
       "          [0.38235295, 0.4490196 , 0.4254902 ],\n",
       "          ...,\n",
       "          [0.36691177, 0.44877452, 0.42794117],\n",
       "          [0.3759804 , 0.45637256, 0.43039215],\n",
       "          [0.3745098 , 0.45490196, 0.42843136]],\n",
       " \n",
       "         [[0.3872549 , 0.45392156, 0.43039215],\n",
       "          [0.3872549 , 0.45318627, 0.43186274],\n",
       "          [0.3865196 , 0.4480392 , 0.43333334],\n",
       "          ...,\n",
       "          [0.36691177, 0.44730392, 0.42867646],\n",
       "          [0.3732843 , 0.44117647, 0.42622548],\n",
       "          [0.37058824, 0.4392157 , 0.41568628]],\n",
       " \n",
       "         [[0.38039216, 0.44313726, 0.43137255],\n",
       "          [0.37745097, 0.4392157 , 0.42745098],\n",
       "          [0.38039216, 0.4392157 , 0.42745098],\n",
       "          ...,\n",
       "          [0.36960784, 0.44411764, 0.42843136],\n",
       "          [0.38063726, 0.44632354, 0.43357843],\n",
       "          [0.38137254, 0.44019607, 0.42843136]]],\n",
       " \n",
       " \n",
       "        [[[0.49264705, 0.52254903, 0.48014706],\n",
       "          [0.4995098 , 0.5245098 , 0.47671568],\n",
       "          [0.49387255, 0.51740193, 0.4644608 ],\n",
       "          ...,\n",
       "          [0.5495098 , 0.55735296, 0.502451  ],\n",
       "          [0.5509804 , 0.5588235 , 0.50392157],\n",
       "          [0.54019606, 0.5480392 , 0.49313724]],\n",
       " \n",
       "         [[0.5029412 , 0.5137255 , 0.46862745],\n",
       "          [0.51053923, 0.52205884, 0.4747549 ],\n",
       "          [0.5022059 , 0.51593137, 0.46200982],\n",
       "          ...,\n",
       "          [0.5416667 , 0.5514706 , 0.49558824],\n",
       "          [0.54240197, 0.55220586, 0.49632353],\n",
       "          [0.5372549 , 0.5470588 , 0.49215686]],\n",
       " \n",
       "         [[0.5058824 , 0.5137255 , 0.4627451 ],\n",
       "          [0.51053923, 0.5176471 , 0.4659314 ],\n",
       "          [0.4997549 , 0.5031863 , 0.45      ],\n",
       "          ...,\n",
       "          [0.53112745, 0.5468137 , 0.48872548],\n",
       "          [0.5355392 , 0.5512255 , 0.49534315],\n",
       "          [0.53333336, 0.54901963, 0.49411765]],\n",
       " \n",
       "         ...,\n",
       " \n",
       "         [[0.37941176, 0.422549  , 0.3990196 ],\n",
       "          [0.38161764, 0.41936275, 0.39607844],\n",
       "          [0.38308823, 0.42230392, 0.39093137],\n",
       "          ...,\n",
       "          [0.3747549 , 0.41985294, 0.38014707],\n",
       "          [0.37892157, 0.4254902 , 0.37916666],\n",
       "          [0.37892157, 0.4259804 , 0.37892157]],\n",
       " \n",
       "         [[0.38137254, 0.43039215, 0.40392157],\n",
       "          [0.3735294 , 0.42083332, 0.39313725],\n",
       "          [0.37867647, 0.41862744, 0.3872549 ],\n",
       "          ...,\n",
       "          [0.3884804 , 0.42769608, 0.39460784],\n",
       "          [0.3740196 , 0.41470587, 0.37720588],\n",
       "          [0.36887255, 0.41004902, 0.3718137 ]],\n",
       " \n",
       "         [[0.37254903, 0.43137255, 0.40392157],\n",
       "          [0.36813724, 0.41862744, 0.39215687],\n",
       "          [0.36960784, 0.4127451 , 0.38333333],\n",
       "          ...,\n",
       "          [0.38137254, 0.42058823, 0.38921568],\n",
       "          [0.37941176, 0.41862744, 0.38431373],\n",
       "          [0.38137254, 0.42058823, 0.3852941 ]]],\n",
       " \n",
       " \n",
       "        [[[0.55784315, 0.5617647 , 0.49117646],\n",
       "          [0.55735296, 0.5612745 , 0.49264705],\n",
       "          [0.55710787, 0.56102943, 0.50416666],\n",
       "          ...,\n",
       "          [0.51666665, 0.5362745 , 0.45784312],\n",
       "          [0.5262255 , 0.54583335, 0.46740195],\n",
       "          [0.5154412 , 0.535049  , 0.45661765]],\n",
       " \n",
       "         [[0.5659314 , 0.56985295, 0.5012255 ],\n",
       "          [0.5541667 , 0.55808824, 0.49093136],\n",
       "          [0.5480392 , 0.55196077, 0.49509802],\n",
       "          ...,\n",
       "          [0.50416666, 0.52181375, 0.44436276],\n",
       "          [0.5213235 , 0.5389706 , 0.4615196 ],\n",
       "          [0.5245098 , 0.5421569 , 0.46470588]],\n",
       " \n",
       "         [[0.5568628 , 0.56078434, 0.49803922],\n",
       "          [0.5509804 , 0.55490196, 0.49215686],\n",
       "          [0.54583335, 0.5497549 , 0.49289215],\n",
       "          ...,\n",
       "          [0.48921567, 0.49509802, 0.42352942],\n",
       "          [0.50539213, 0.5156863 , 0.44191176],\n",
       "          [0.51053923, 0.52230394, 0.45367646]],\n",
       " \n",
       "         ...,\n",
       " \n",
       "         [[0.3987745 , 0.45367646, 0.40269607],\n",
       "          [0.38602942, 0.4392157 , 0.39338234],\n",
       "          [0.38014707, 0.43112746, 0.39191177],\n",
       "          ...,\n",
       "          [0.3970588 , 0.45196077, 0.40098038],\n",
       "          [0.40563726, 0.45759803, 0.4154412 ],\n",
       "          [0.3852941 , 0.4362745 , 0.3970588 ]],\n",
       " \n",
       "         [[0.38014707, 0.44093138, 0.389951  ],\n",
       "          [0.37941176, 0.4392157 , 0.3970588 ],\n",
       "          [0.3764706 , 0.4362745 , 0.39632353],\n",
       "          ...,\n",
       "          [0.39534312, 0.4502451 , 0.3992647 ],\n",
       "          [0.4       , 0.45196077, 0.40980393],\n",
       "          [0.39215687, 0.44313726, 0.40392157]],\n",
       " \n",
       "         [[0.3754902 , 0.43823528, 0.3872549 ],\n",
       "          [0.3852941 , 0.4480392 , 0.40490195],\n",
       "          [0.37745097, 0.44019607, 0.4       ],\n",
       "          ...,\n",
       "          [0.3882353 , 0.44313726, 0.39215687],\n",
       "          [0.39313725, 0.44509804, 0.40294117],\n",
       "          [0.38921568, 0.44019607, 0.40098038]]]], dtype=float32),\n",
       " array([[[[0.60294116, 0.63039213, 0.60294116],\n",
       "          [0.60612744, 0.6345588 , 0.6002451 ],\n",
       "          [0.60759807, 0.6389706 , 0.589951  ],\n",
       "          ...,\n",
       "          [0.6669118 , 0.68259805, 0.6276961 ],\n",
       "          [0.6629902 , 0.6786765 , 0.6237745 ],\n",
       "          [0.6598039 , 0.6754902 , 0.62058824]],\n",
       " \n",
       "         [[0.5992647 , 0.62671566, 0.5982843 ],\n",
       "          [0.60759807, 0.6360294 , 0.6017157 ],\n",
       "          [0.6068627 , 0.6382353 , 0.595098  ],\n",
       "          ...,\n",
       "          [0.64387256, 0.66740197, 0.6137255 ],\n",
       "          [0.65318626, 0.6727941 , 0.61960787],\n",
       "          [0.6522059 , 0.6718137 , 0.6186274 ]],\n",
       " \n",
       "         [[0.60759807, 0.63504905, 0.6036765 ],\n",
       "          [0.59681374, 0.6245098 , 0.592402  ],\n",
       "          [0.5953431 , 0.6259804 , 0.58504903],\n",
       "          ...,\n",
       "          [0.6272059 , 0.6644608 , 0.6193628 ],\n",
       "          [0.63039213, 0.66764706, 0.622549  ],\n",
       "          [0.63039213, 0.66764706, 0.622549  ]],\n",
       " \n",
       "         ...,\n",
       " \n",
       "         [[0.44313726, 0.5372549 , 0.4862745 ],\n",
       "          [0.45661765, 0.5379902 , 0.5026961 ],\n",
       "          [0.46078432, 0.53039217, 0.49803922],\n",
       "          ...,\n",
       "          [0.4490196 , 0.5       , 0.46544117],\n",
       "          [0.45710784, 0.5139706 , 0.49044117],\n",
       "          [0.45465687, 0.5183824 , 0.5036765 ]],\n",
       " \n",
       "         [[0.43504903, 0.52916664, 0.47818628],\n",
       "          [0.45294118, 0.53431374, 0.4990196 ],\n",
       "          [0.45612746, 0.5257353 , 0.49338236],\n",
       "          ...,\n",
       "          [0.4151961 , 0.46838236, 0.4227941 ],\n",
       "          [0.45343137, 0.5125    , 0.4757353 ],\n",
       "          [0.44019607, 0.50686276, 0.47745097]],\n",
       " \n",
       "         [[0.45392156, 0.5480392 , 0.4970588 ],\n",
       "          [0.45490196, 0.5362745 , 0.5009804 ],\n",
       "          [0.4617647 , 0.53137255, 0.4990196 ],\n",
       "          ...,\n",
       "          [0.37745097, 0.43137255, 0.38333333],\n",
       "          [0.43823528, 0.49803922, 0.45882353],\n",
       "          [0.44411764, 0.5107843 , 0.4715686 ]]],\n",
       " \n",
       " \n",
       "        [[[0.61470586, 0.6617647 , 0.6068627 ],\n",
       "          [0.61985296, 0.6669118 , 0.6120098 ],\n",
       "          [0.61470586, 0.66764706, 0.6098039 ],\n",
       "          ...,\n",
       "          [0.627451  , 0.6745098 , 0.63529414],\n",
       "          [0.64387256, 0.6909314 , 0.6517157 ],\n",
       "          [0.6382353 , 0.67745095, 0.64215684]],\n",
       " \n",
       "         [[0.6105392 , 0.657598  , 0.6046569 ],\n",
       "          [0.61446077, 0.6620098 , 0.60882354],\n",
       "          [0.6132353 , 0.6666667 , 0.6105392 ],\n",
       "          ...,\n",
       "          [0.6362745 , 0.6852941 , 0.6431373 ],\n",
       "          [0.63308823, 0.68063724, 0.6392157 ],\n",
       "          [0.6333333 , 0.68039215, 0.6392157 ]],\n",
       " \n",
       "         [[0.60269606, 0.6497549 , 0.60269606],\n",
       "          [0.60612744, 0.65367645, 0.60637254],\n",
       "          [0.60784316, 0.6612745 , 0.6110294 ],\n",
       "          ...,\n",
       "          [0.6254902 , 0.68039215, 0.62352943],\n",
       "          [0.6164216 , 0.6698529 , 0.6137255 ],\n",
       "          [0.6343137 , 0.6872549 , 0.6313726 ]],\n",
       " \n",
       "         ...,\n",
       " \n",
       "         [[0.5007353 , 0.5732843 , 0.5262255 ],\n",
       "          [0.51985294, 0.5919118 , 0.5448529 ],\n",
       "          [0.51348037, 0.5855392 , 0.5384804 ],\n",
       "          ...,\n",
       "          [0.5019608 , 0.5715686 , 0.5392157 ],\n",
       "          [0.4995098 , 0.56911767, 0.5367647 ],\n",
       "          [0.50490195, 0.5745098 , 0.5421569 ]],\n",
       " \n",
       "         [[0.5019608 , 0.5803922 , 0.53333336],\n",
       "          [0.51029414, 0.5882353 , 0.5411765 ],\n",
       "          [0.50465685, 0.58480394, 0.53112745],\n",
       "          ...,\n",
       "          [0.48921567, 0.5647059 , 0.5382353 ],\n",
       "          [0.49436274, 0.56985295, 0.54338235],\n",
       "          [0.49215686, 0.56764704, 0.5411765 ]],\n",
       " \n",
       "         [[0.50490195, 0.59117645, 0.54019606],\n",
       "          [0.49803922, 0.58235294, 0.5323529 ],\n",
       "          [0.5029412 , 0.58431375, 0.52843136],\n",
       "          ...,\n",
       "          [0.48235294, 0.5568628 , 0.53333336],\n",
       "          [0.5019608 , 0.5764706 , 0.5529412 ],\n",
       "          [0.5137255 , 0.5882353 , 0.5647059 ]]],\n",
       " \n",
       " \n",
       "        [[[0.        , 0.00098039, 0.00588235],\n",
       "          [0.        , 0.00098039, 0.00588235],\n",
       "          [0.        , 0.00318627, 0.00147059],\n",
       "          ...,\n",
       "          [0.00588235, 0.        , 0.        ],\n",
       "          [0.00588235, 0.        , 0.        ],\n",
       "          [0.00588235, 0.        , 0.        ]],\n",
       " \n",
       "         [[0.        , 0.00196078, 0.01176471],\n",
       "          [0.        , 0.00196078, 0.01176471],\n",
       "          [0.        , 0.00196078, 0.01176471],\n",
       "          ...,\n",
       "          [0.        , 0.00784314, 0.        ],\n",
       "          [0.        , 0.00784314, 0.        ],\n",
       "          [0.        , 0.00784314, 0.        ]],\n",
       " \n",
       "         [[0.00294118, 0.00196078, 0.        ],\n",
       "          [0.00294118, 0.00196078, 0.        ],\n",
       "          [0.00294118, 0.00196078, 0.        ],\n",
       "          ...,\n",
       "          [0.        , 0.00098039, 0.        ],\n",
       "          [0.        , 0.00098039, 0.        ],\n",
       "          [0.        , 0.00098039, 0.        ]],\n",
       " \n",
       "         ...,\n",
       " \n",
       "         [[0.8419118 , 0.7085784 , 0.6105392 ],\n",
       "          [0.8362745 , 0.70098037, 0.6019608 ],\n",
       "          [0.7752451 , 0.6340686 , 0.53210783],\n",
       "          ...,\n",
       "          [0.8473039 , 0.70710784, 0.62083334],\n",
       "          [0.8333333 , 0.70490193, 0.6156863 ],\n",
       "          [0.827451  , 0.7058824 , 0.62352943]],\n",
       " \n",
       "         [[0.8382353 , 0.70490193, 0.6068627 ],\n",
       "          [0.8333333 , 0.69803923, 0.59460783],\n",
       "          [0.78357846, 0.64460784, 0.5382353 ],\n",
       "          ...,\n",
       "          [0.8382353 , 0.69803923, 0.6117647 ],\n",
       "          [0.8370098 , 0.7085784 , 0.6193628 ],\n",
       "          [0.82843137, 0.70686275, 0.6245098 ]],\n",
       " \n",
       "         [[0.8264706 , 0.6931372 , 0.5872549 ],\n",
       "          [0.82843137, 0.6931372 , 0.5882353 ],\n",
       "          [0.8009804 , 0.6627451 , 0.55490196],\n",
       "          ...,\n",
       "          [0.8509804 , 0.7107843 , 0.6245098 ],\n",
       "          [0.82941175, 0.70098037, 0.6117647 ],\n",
       "          [0.81960785, 0.69803923, 0.6156863 ]]],\n",
       " \n",
       " \n",
       "        ...,\n",
       " \n",
       " \n",
       "        [[[0.0127451 , 0.        , 0.        ],\n",
       "          [0.0127451 , 0.        , 0.        ],\n",
       "          [0.0127451 , 0.        , 0.        ],\n",
       "          ...,\n",
       "          [0.02058824, 0.        , 0.        ],\n",
       "          [0.02058824, 0.        , 0.        ],\n",
       "          [0.02058824, 0.        , 0.        ]],\n",
       " \n",
       "         [[0.7382353 , 0.6754902 , 0.5372549 ],\n",
       "          [0.7382353 , 0.6754902 , 0.5372549 ],\n",
       "          [0.7382353 , 0.6754902 , 0.5372549 ],\n",
       "          ...,\n",
       "          [0.6742647 , 0.49117646, 0.3139706 ],\n",
       "          [0.6901961 , 0.5056372 , 0.32769608],\n",
       "          [0.6843137 , 0.5       , 0.31862745]],\n",
       " \n",
       "         [[0.8362745 , 0.73333335, 0.55588233],\n",
       "          [0.8362745 , 0.73333335, 0.55588233],\n",
       "          [0.8362745 , 0.73333335, 0.55588233],\n",
       "          ...,\n",
       "          [0.7125    , 0.45367646, 0.2122549 ],\n",
       "          [0.7404412 , 0.47671568, 0.22867647],\n",
       "          [0.7676471 , 0.49803922, 0.24313726]],\n",
       " \n",
       "         ...,\n",
       " \n",
       "         [[0.16078432, 0.15686275, 0.14117648],\n",
       "          [0.15784314, 0.15392157, 0.1382353 ],\n",
       "          [0.16176471, 0.15784314, 0.14215687],\n",
       "          ...,\n",
       "          [0.15784314, 0.15392157, 0.13431373],\n",
       "          [0.15392157, 0.15      , 0.13039216],\n",
       "          [0.14901961, 0.14509805, 0.1254902 ]],\n",
       " \n",
       "         [[0.1509804 , 0.15294118, 0.13431373],\n",
       "          [0.15808824, 0.16004902, 0.14142157],\n",
       "          [0.16470589, 0.16666667, 0.14803922],\n",
       "          ...,\n",
       "          [0.15784314, 0.15392157, 0.13431373],\n",
       "          [0.15392157, 0.15      , 0.13039216],\n",
       "          [0.14901961, 0.14509805, 0.1254902 ]],\n",
       " \n",
       "         [[0.14705883, 0.1509804 , 0.13137256],\n",
       "          [0.15784314, 0.16176471, 0.14215687],\n",
       "          [0.16862746, 0.17254902, 0.15294118],\n",
       "          ...,\n",
       "          [0.15784314, 0.15392157, 0.13431373],\n",
       "          [0.15392157, 0.15      , 0.13039216],\n",
       "          [0.14901961, 0.14509805, 0.1254902 ]]],\n",
       " \n",
       " \n",
       "        [[[0.03137255, 0.03529412, 0.01568628],\n",
       "          [0.03137255, 0.03529412, 0.01568628],\n",
       "          [0.03137255, 0.03529412, 0.01568628],\n",
       "          ...,\n",
       "          [0.01176471, 0.02745098, 0.02352941],\n",
       "          [0.01176471, 0.02745098, 0.02352941],\n",
       "          [0.01176471, 0.02745098, 0.02352941]],\n",
       " \n",
       "         [[0.03137255, 0.03529412, 0.01568628],\n",
       "          [0.03137255, 0.03529412, 0.01568628],\n",
       "          [0.03137255, 0.03529412, 0.01568628],\n",
       "          ...,\n",
       "          [0.01176471, 0.02745098, 0.02352941],\n",
       "          [0.01176471, 0.02745098, 0.02352941],\n",
       "          [0.01176471, 0.02745098, 0.02352941]],\n",
       " \n",
       "         [[0.03137255, 0.03529412, 0.01568628],\n",
       "          [0.03137255, 0.03529412, 0.01568628],\n",
       "          [0.03137255, 0.03529412, 0.01568628],\n",
       "          ...,\n",
       "          [0.01176471, 0.02745098, 0.02352941],\n",
       "          [0.01176471, 0.02745098, 0.02352941],\n",
       "          [0.01176471, 0.02745098, 0.02352941]],\n",
       " \n",
       "         ...,\n",
       " \n",
       "         [[0.6362745 , 0.55784315, 0.35784313],\n",
       "          [0.6544118 , 0.575     , 0.37303922],\n",
       "          [0.7345588 , 0.63848037, 0.42867646],\n",
       "          ...,\n",
       "          [0.00784314, 0.02843137, 0.01470588],\n",
       "          [0.00098039, 0.03627451, 0.03235294],\n",
       "          [0.01176471, 0.03529412, 0.0254902 ]],\n",
       " \n",
       "         [[0.65416664, 0.5757353 , 0.37573528],\n",
       "          [0.6602941 , 0.5764706 , 0.3767157 ],\n",
       "          [0.80196077, 0.7137255 , 0.50735295],\n",
       "          ...,\n",
       "          [0.01862745, 0.03921569, 0.0254902 ],\n",
       "          [0.00637255, 0.04387255, 0.03995098],\n",
       "          [0.00882353, 0.03235294, 0.02254902]],\n",
       " \n",
       "         [[0.67745095, 0.595098  , 0.3872549 ],\n",
       "          [0.6784314 , 0.595098  , 0.39019608],\n",
       "          [0.84411764, 0.75490195, 0.5529412 ],\n",
       "          ...,\n",
       "          [0.02377451, 0.04509804, 0.03186275],\n",
       "          [0.01078431, 0.04901961, 0.04509804],\n",
       "          [0.00882353, 0.03235294, 0.02254902]]],\n",
       " \n",
       " \n",
       "        [[[0.        , 0.        , 0.        ],\n",
       "          [0.        , 0.        , 0.        ],\n",
       "          [0.        , 0.        , 0.        ],\n",
       "          ...,\n",
       "          [0.        , 0.        , 0.        ],\n",
       "          [0.        , 0.        , 0.        ],\n",
       "          [0.        , 0.        , 0.        ]],\n",
       " \n",
       "         [[0.        , 0.        , 0.        ],\n",
       "          [0.        , 0.        , 0.        ],\n",
       "          [0.        , 0.        , 0.        ],\n",
       "          ...,\n",
       "          [0.        , 0.        , 0.        ],\n",
       "          [0.        , 0.        , 0.        ],\n",
       "          [0.        , 0.        , 0.        ]],\n",
       " \n",
       "         [[0.        , 0.        , 0.        ],\n",
       "          [0.        , 0.        , 0.        ],\n",
       "          [0.        , 0.        , 0.        ],\n",
       "          ...,\n",
       "          [0.        , 0.        , 0.        ],\n",
       "          [0.        , 0.        , 0.        ],\n",
       "          [0.        , 0.        , 0.        ]],\n",
       " \n",
       "         ...,\n",
       " \n",
       "         [[0.6193628 , 0.63504905, 0.6311275 ],\n",
       "          [0.71960783, 0.73333335, 0.72745097],\n",
       "          [0.8504902 , 0.85245097, 0.84362745],\n",
       "          ...,\n",
       "          [0.87034315, 0.8860294 , 0.889951  ],\n",
       "          [0.8892157 , 0.904902  , 0.90882355],\n",
       "          [0.90686274, 0.922549  , 0.9264706 ]],\n",
       " \n",
       "         [[0.6259804 , 0.64166665, 0.6377451 ],\n",
       "          [0.7639706 , 0.7776961 , 0.77181375],\n",
       "          [0.85245097, 0.8544118 , 0.8455882 ],\n",
       "          ...,\n",
       "          [0.90588236, 0.9127451 , 0.9196078 ],\n",
       "          [0.91740197, 0.9242647 , 0.9311274 ],\n",
       "          [0.91593134, 0.9227941 , 0.92965686]],\n",
       " \n",
       "         [[0.62941176, 0.64509803, 0.64117646],\n",
       "          [0.7970588 , 0.81078434, 0.80490196],\n",
       "          [0.84411764, 0.84607846, 0.8372549 ],\n",
       "          ...,\n",
       "          [0.922549  , 0.93039215, 0.9264706 ],\n",
       "          [0.91887254, 0.9267157 , 0.9227941 ],\n",
       "          [0.9117647 , 0.9196078 , 0.91568625]]]], dtype=float32))"
      ]
     },
     "execution_count": 69,
     "metadata": {},
     "output_type": "execute_result"
    }
   ],
   "source": [
    "X"
   ]
  },
  {
   "cell_type": "code",
   "execution_count": 70,
   "id": "164b74a1",
   "metadata": {},
   "outputs": [],
   "source": [
    "y = batch_1[2]"
   ]
  },
  {
   "cell_type": "code",
   "execution_count": 71,
   "id": "63fc75d6",
   "metadata": {},
   "outputs": [
    {
     "data": {
      "text/plain": [
       "array([1., 1., 0., 0., 0., 1., 1., 0., 1., 0., 1., 0., 1., 0., 0., 0.],\n",
       "      dtype=float32)"
      ]
     },
     "execution_count": 71,
     "metadata": {},
     "output_type": "execute_result"
    }
   ],
   "source": [
    "y"
   ]
  },
  {
   "cell_type": "code",
   "execution_count": 72,
   "id": "7817120c",
   "metadata": {},
   "outputs": [],
   "source": [
    "@tf.function\n",
    "def train_step(batch):\n",
    "    \n",
    "    # Record all of our operations \n",
    "    with tf.GradientTape() as tape:     \n",
    "        # Get anchor and positive/negative image\n",
    "        X = batch[:2]\n",
    "        # Get label\n",
    "        y = batch[2]\n",
    "        \n",
    "        # Forward pass\n",
    "        yhat = siamese_model(X, training=True)\n",
    "        # Calculate loss\n",
    "        loss = binary_cross_loss(y, yhat)\n",
    "    print(loss)\n",
    "        \n",
    "    # Calculate gradients\n",
    "    grad = tape.gradient(loss, siamese_model.trainable_variables)\n",
    "    \n",
    "    # Calculate updated weights and apply to siamese model\n",
    "    opt.apply_gradients(zip(grad, siamese_model.trainable_variables))\n",
    "        \n",
    "    # Return loss\n",
    "    return loss"
   ]
  },
  {
   "cell_type": "markdown",
   "id": "05d2845d",
   "metadata": {},
   "source": [
    "#### Build Training Loop"
   ]
  },
  {
   "cell_type": "code",
   "execution_count": null,
   "id": "1334dac0",
   "metadata": {},
   "outputs": [],
   "source": [
    "# Import metric calculations\n",
    "from tensorflow.keras.metrics import Precision, Recall"
   ]
  },
  {
   "cell_type": "code",
   "execution_count": null,
   "id": "e4d37718",
   "metadata": {},
   "outputs": [],
   "source": [
    "def train(data, EPOCHS):\n",
    "    # Loop through epochs\n",
    "    for epoch in range(1, EPOCHS+1):\n",
    "        print('\\n Epoch {}/{}'.format(epoch, EPOCHS))\n",
    "        progbar = tf.keras.utils.Progbar(len(data))\n",
    "        \n",
    "        # Creating a metric object \n",
    "        r = Recall()\n",
    "        p = Precision()\n",
    "        \n",
    "        # Loop through each batch\n",
    "        for idx, batch in enumerate(data):\n",
    "            # Run train step here\n",
    "            loss = train_step(batch)\n",
    "            yhat = siamese_model.predict(batch[:2])\n",
    "            r.update_state(batch[2], yhat)\n",
    "            p.update_state(batch[2], yhat) \n",
    "            progbar.update(idx+1)\n",
    "        print(loss.numpy(), r.result().numpy(), p.result().numpy())\n",
    "        \n",
    "        # Save checkpoints\n",
    "        if epoch % 10 == 0: \n",
    "            checkpoint.save(file_prefix=checkpoint_prefix)"
   ]
  },
  {
   "cell_type": "markdown",
   "id": "4be6a33a",
   "metadata": {},
   "source": [
    "#### Train the model"
   ]
  },
  {
   "cell_type": "code",
   "execution_count": null,
   "id": "1ba1baa8",
   "metadata": {},
   "outputs": [],
   "source": []
  }
 ],
 "metadata": {
  "kernelspec": {
   "display_name": "Python 3",
   "language": "python",
   "name": "python3"
  },
  "language_info": {
   "codemirror_mode": {
    "name": "ipython",
    "version": 3
   },
   "file_extension": ".py",
   "mimetype": "text/x-python",
   "name": "python",
   "nbconvert_exporter": "python",
   "pygments_lexer": "ipython3",
   "version": "3.10.0"
  }
 },
 "nbformat": 4,
 "nbformat_minor": 5
}
