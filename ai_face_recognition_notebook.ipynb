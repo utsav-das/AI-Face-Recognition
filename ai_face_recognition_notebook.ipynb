{
 "cells": [
  {
   "cell_type": "markdown",
   "id": "ce82e034",
   "metadata": {},
   "source": [
    "# Install Dependencies"
   ]
  },
  {
   "cell_type": "code",
   "execution_count": 1,
   "id": "6695d036",
   "metadata": {},
   "outputs": [
    {
     "name": "stdout",
     "output_type": "stream",
     "text": [
      "Defaulting to user installation because normal site-packages is not writeable\n",
      "Requirement already satisfied: tensorflow==2.10.0 in c:\\users\\utsav\\appdata\\roaming\\python\\python310\\site-packages (2.10.0)\n",
      "Requirement already satisfied: absl-py>=1.0.0 in c:\\users\\utsav\\appdata\\roaming\\python\\python310\\site-packages (from tensorflow==2.10.0) (2.2.2)\n",
      "Requirement already satisfied: astunparse>=1.6.0 in c:\\users\\utsav\\appdata\\roaming\\python\\python310\\site-packages (from tensorflow==2.10.0) (1.6.3)\n",
      "Requirement already satisfied: flatbuffers>=2.0 in c:\\users\\utsav\\appdata\\roaming\\python\\python310\\site-packages (from tensorflow==2.10.0) (25.2.10)\n",
      "Requirement already satisfied: gast<=0.4.0,>=0.2.1 in c:\\users\\utsav\\appdata\\roaming\\python\\python310\\site-packages (from tensorflow==2.10.0) (0.4.0)\n",
      "Requirement already satisfied: google-pasta>=0.1.1 in c:\\users\\utsav\\appdata\\roaming\\python\\python310\\site-packages (from tensorflow==2.10.0) (0.2.0)\n",
      "Requirement already satisfied: h5py>=2.9.0 in c:\\users\\utsav\\appdata\\roaming\\python\\python310\\site-packages (from tensorflow==2.10.0) (3.13.0)\n",
      "Requirement already satisfied: keras-preprocessing>=1.1.1 in c:\\users\\utsav\\appdata\\roaming\\python\\python310\\site-packages (from tensorflow==2.10.0) (1.1.2)\n",
      "Requirement already satisfied: libclang>=13.0.0 in c:\\users\\utsav\\appdata\\roaming\\python\\python310\\site-packages (from tensorflow==2.10.0) (18.1.1)\n",
      "Requirement already satisfied: numpy>=1.20 in c:\\users\\utsav\\appdata\\roaming\\python\\python310\\site-packages (from tensorflow==2.10.0) (1.23.5)\n",
      "Requirement already satisfied: opt-einsum>=2.3.2 in c:\\users\\utsav\\appdata\\roaming\\python\\python310\\site-packages (from tensorflow==2.10.0) (3.4.0)\n",
      "Requirement already satisfied: packaging in c:\\users\\utsav\\appdata\\roaming\\python\\python310\\site-packages (from tensorflow==2.10.0) (24.1)\n",
      "Requirement already satisfied: protobuf<3.20,>=3.9.2 in c:\\users\\utsav\\appdata\\roaming\\python\\python310\\site-packages (from tensorflow==2.10.0) (3.19.6)\n",
      "Requirement already satisfied: setuptools in c:\\program files\\python310\\lib\\site-packages (from tensorflow==2.10.0) (57.4.0)\n",
      "Requirement already satisfied: six>=1.12.0 in c:\\users\\utsav\\appdata\\roaming\\python\\python310\\site-packages (from tensorflow==2.10.0) (1.16.0)\n",
      "Requirement already satisfied: termcolor>=1.1.0 in c:\\users\\utsav\\appdata\\roaming\\python\\python310\\site-packages (from tensorflow==2.10.0) (3.1.0)\n",
      "Requirement already satisfied: typing-extensions>=3.6.6 in c:\\users\\utsav\\appdata\\roaming\\python\\python310\\site-packages (from tensorflow==2.10.0) (4.12.2)\n",
      "Requirement already satisfied: wrapt>=1.11.0 in c:\\users\\utsav\\appdata\\roaming\\python\\python310\\site-packages (from tensorflow==2.10.0) (1.14.1)\n",
      "Requirement already satisfied: tensorflow-io-gcs-filesystem>=0.23.1 in c:\\users\\utsav\\appdata\\roaming\\python\\python310\\site-packages (from tensorflow==2.10.0) (0.31.0)\n",
      "Requirement already satisfied: grpcio<2.0,>=1.24.3 in c:\\users\\utsav\\appdata\\roaming\\python\\python310\\site-packages (from tensorflow==2.10.0) (1.71.0)\n",
      "Requirement already satisfied: tensorboard<2.11,>=2.10 in c:\\users\\utsav\\appdata\\roaming\\python\\python310\\site-packages (from tensorflow==2.10.0) (2.10.1)\n",
      "Requirement already satisfied: tensorflow-estimator<2.11,>=2.10.0 in c:\\users\\utsav\\appdata\\roaming\\python\\python310\\site-packages (from tensorflow==2.10.0) (2.10.0)\n",
      "Requirement already satisfied: keras<2.11,>=2.10.0 in c:\\users\\utsav\\appdata\\roaming\\python\\python310\\site-packages (from tensorflow==2.10.0) (2.10.0)\n",
      "Requirement already satisfied: google-auth<3,>=1.6.3 in c:\\users\\utsav\\appdata\\roaming\\python\\python310\\site-packages (from tensorboard<2.11,>=2.10->tensorflow==2.10.0) (2.39.0)\n",
      "Requirement already satisfied: google-auth-oauthlib<0.5,>=0.4.1 in c:\\users\\utsav\\appdata\\roaming\\python\\python310\\site-packages (from tensorboard<2.11,>=2.10->tensorflow==2.10.0) (0.4.6)\n",
      "Requirement already satisfied: markdown>=2.6.8 in c:\\users\\utsav\\appdata\\roaming\\python\\python310\\site-packages (from tensorboard<2.11,>=2.10->tensorflow==2.10.0) (3.8)\n",
      "Requirement already satisfied: requests<3,>=2.21.0 in c:\\users\\utsav\\appdata\\roaming\\python\\python310\\site-packages (from tensorboard<2.11,>=2.10->tensorflow==2.10.0) (2.32.3)\n",
      "Requirement already satisfied: tensorboard-data-server<0.7.0,>=0.6.0 in c:\\users\\utsav\\appdata\\roaming\\python\\python310\\site-packages (from tensorboard<2.11,>=2.10->tensorflow==2.10.0) (0.6.1)\n",
      "Requirement already satisfied: tensorboard-plugin-wit>=1.6.0 in c:\\users\\utsav\\appdata\\roaming\\python\\python310\\site-packages (from tensorboard<2.11,>=2.10->tensorflow==2.10.0) (1.8.1)\n",
      "Requirement already satisfied: werkzeug>=1.0.1 in c:\\users\\utsav\\appdata\\roaming\\python\\python310\\site-packages (from tensorboard<2.11,>=2.10->tensorflow==2.10.0) (3.1.3)\n",
      "Requirement already satisfied: wheel>=0.26 in c:\\users\\utsav\\appdata\\roaming\\python\\python310\\site-packages (from tensorboard<2.11,>=2.10->tensorflow==2.10.0) (0.45.1)\n",
      "Requirement already satisfied: cachetools<6.0,>=2.0.0 in c:\\users\\utsav\\appdata\\roaming\\python\\python310\\site-packages (from google-auth<3,>=1.6.3->tensorboard<2.11,>=2.10->tensorflow==2.10.0) (5.5.2)\n",
      "Requirement already satisfied: pyasn1-modules>=0.2.1 in c:\\users\\utsav\\appdata\\roaming\\python\\python310\\site-packages (from google-auth<3,>=1.6.3->tensorboard<2.11,>=2.10->tensorflow==2.10.0) (0.4.2)\n",
      "Requirement already satisfied: rsa<5,>=3.1.4 in c:\\users\\utsav\\appdata\\roaming\\python\\python310\\site-packages (from google-auth<3,>=1.6.3->tensorboard<2.11,>=2.10->tensorflow==2.10.0) (4.9.1)\n",
      "Requirement already satisfied: requests-oauthlib>=0.7.0 in c:\\users\\utsav\\appdata\\roaming\\python\\python310\\site-packages (from google-auth-oauthlib<0.5,>=0.4.1->tensorboard<2.11,>=2.10->tensorflow==2.10.0) (2.0.0)\n",
      "Requirement already satisfied: charset-normalizer<4,>=2 in c:\\users\\utsav\\appdata\\roaming\\python\\python310\\site-packages (from requests<3,>=2.21.0->tensorboard<2.11,>=2.10->tensorflow==2.10.0) (3.3.2)\n",
      "Requirement already satisfied: idna<4,>=2.5 in c:\\users\\utsav\\appdata\\roaming\\python\\python310\\site-packages (from requests<3,>=2.21.0->tensorboard<2.11,>=2.10->tensorflow==2.10.0) (3.7)\n",
      "Requirement already satisfied: urllib3<3,>=1.21.1 in c:\\users\\utsav\\appdata\\roaming\\python\\python310\\site-packages (from requests<3,>=2.21.0->tensorboard<2.11,>=2.10->tensorflow==2.10.0) (2.2.1)\n",
      "Requirement already satisfied: certifi>=2017.4.17 in c:\\users\\utsav\\appdata\\roaming\\python\\python310\\site-packages (from requests<3,>=2.21.0->tensorboard<2.11,>=2.10->tensorflow==2.10.0) (2024.6.2)\n",
      "Requirement already satisfied: pyasn1>=0.1.3 in c:\\users\\utsav\\appdata\\roaming\\python\\python310\\site-packages (from rsa<5,>=3.1.4->google-auth<3,>=1.6.3->tensorboard<2.11,>=2.10->tensorflow==2.10.0) (0.6.1)\n",
      "Requirement already satisfied: oauthlib>=3.0.0 in c:\\users\\utsav\\appdata\\roaming\\python\\python310\\site-packages (from requests-oauthlib>=0.7.0->google-auth-oauthlib<0.5,>=0.4.1->tensorboard<2.11,>=2.10->tensorflow==2.10.0) (3.2.2)\n",
      "Requirement already satisfied: MarkupSafe>=2.1.1 in c:\\users\\utsav\\appdata\\roaming\\python\\python310\\site-packages (from werkzeug>=1.0.1->tensorboard<2.11,>=2.10->tensorflow==2.10.0) (2.1.5)\n"
     ]
    }
   ],
   "source": [
    "!pip install tensorflow==2.10.0"
   ]
  },
  {
   "cell_type": "code",
   "execution_count": 2,
   "id": "0c46c400",
   "metadata": {},
   "outputs": [
    {
     "name": "stdout",
     "output_type": "stream",
     "text": [
      "Defaulting to user installation because normal site-packages is not writeable\n",
      "Requirement already satisfied: tensorflow-gpu==2.10.0 in c:\\users\\utsav\\appdata\\roaming\\python\\python310\\site-packages (2.10.0)\n",
      "Requirement already satisfied: absl-py>=1.0.0 in c:\\users\\utsav\\appdata\\roaming\\python\\python310\\site-packages (from tensorflow-gpu==2.10.0) (2.2.2)\n",
      "Requirement already satisfied: astunparse>=1.6.0 in c:\\users\\utsav\\appdata\\roaming\\python\\python310\\site-packages (from tensorflow-gpu==2.10.0) (1.6.3)\n",
      "Requirement already satisfied: flatbuffers>=2.0 in c:\\users\\utsav\\appdata\\roaming\\python\\python310\\site-packages (from tensorflow-gpu==2.10.0) (25.2.10)\n",
      "Requirement already satisfied: gast<=0.4.0,>=0.2.1 in c:\\users\\utsav\\appdata\\roaming\\python\\python310\\site-packages (from tensorflow-gpu==2.10.0) (0.4.0)\n",
      "Requirement already satisfied: google-pasta>=0.1.1 in c:\\users\\utsav\\appdata\\roaming\\python\\python310\\site-packages (from tensorflow-gpu==2.10.0) (0.2.0)\n",
      "Requirement already satisfied: h5py>=2.9.0 in c:\\users\\utsav\\appdata\\roaming\\python\\python310\\site-packages (from tensorflow-gpu==2.10.0) (3.13.0)\n",
      "Requirement already satisfied: keras-preprocessing>=1.1.1 in c:\\users\\utsav\\appdata\\roaming\\python\\python310\\site-packages (from tensorflow-gpu==2.10.0) (1.1.2)\n",
      "Requirement already satisfied: libclang>=13.0.0 in c:\\users\\utsav\\appdata\\roaming\\python\\python310\\site-packages (from tensorflow-gpu==2.10.0) (18.1.1)\n",
      "Requirement already satisfied: numpy>=1.20 in c:\\users\\utsav\\appdata\\roaming\\python\\python310\\site-packages (from tensorflow-gpu==2.10.0) (1.23.5)\n",
      "Requirement already satisfied: opt-einsum>=2.3.2 in c:\\users\\utsav\\appdata\\roaming\\python\\python310\\site-packages (from tensorflow-gpu==2.10.0) (3.4.0)\n",
      "Requirement already satisfied: packaging in c:\\users\\utsav\\appdata\\roaming\\python\\python310\\site-packages (from tensorflow-gpu==2.10.0) (24.1)\n",
      "Requirement already satisfied: protobuf<3.20,>=3.9.2 in c:\\users\\utsav\\appdata\\roaming\\python\\python310\\site-packages (from tensorflow-gpu==2.10.0) (3.19.6)\n",
      "Requirement already satisfied: setuptools in c:\\program files\\python310\\lib\\site-packages (from tensorflow-gpu==2.10.0) (57.4.0)\n",
      "Requirement already satisfied: six>=1.12.0 in c:\\users\\utsav\\appdata\\roaming\\python\\python310\\site-packages (from tensorflow-gpu==2.10.0) (1.16.0)\n",
      "Requirement already satisfied: termcolor>=1.1.0 in c:\\users\\utsav\\appdata\\roaming\\python\\python310\\site-packages (from tensorflow-gpu==2.10.0) (3.1.0)\n",
      "Requirement already satisfied: typing-extensions>=3.6.6 in c:\\users\\utsav\\appdata\\roaming\\python\\python310\\site-packages (from tensorflow-gpu==2.10.0) (4.12.2)\n",
      "Requirement already satisfied: wrapt>=1.11.0 in c:\\users\\utsav\\appdata\\roaming\\python\\python310\\site-packages (from tensorflow-gpu==2.10.0) (1.14.1)\n",
      "Requirement already satisfied: tensorflow-io-gcs-filesystem>=0.23.1 in c:\\users\\utsav\\appdata\\roaming\\python\\python310\\site-packages (from tensorflow-gpu==2.10.0) (0.31.0)\n",
      "Requirement already satisfied: grpcio<2.0,>=1.24.3 in c:\\users\\utsav\\appdata\\roaming\\python\\python310\\site-packages (from tensorflow-gpu==2.10.0) (1.71.0)\n",
      "Requirement already satisfied: tensorboard<2.11,>=2.10 in c:\\users\\utsav\\appdata\\roaming\\python\\python310\\site-packages (from tensorflow-gpu==2.10.0) (2.10.1)\n",
      "Requirement already satisfied: tensorflow-estimator<2.11,>=2.10.0 in c:\\users\\utsav\\appdata\\roaming\\python\\python310\\site-packages (from tensorflow-gpu==2.10.0) (2.10.0)\n",
      "Requirement already satisfied: keras<2.11,>=2.10.0 in c:\\users\\utsav\\appdata\\roaming\\python\\python310\\site-packages (from tensorflow-gpu==2.10.0) (2.10.0)\n",
      "Requirement already satisfied: google-auth<3,>=1.6.3 in c:\\users\\utsav\\appdata\\roaming\\python\\python310\\site-packages (from tensorboard<2.11,>=2.10->tensorflow-gpu==2.10.0) (2.39.0)\n",
      "Requirement already satisfied: google-auth-oauthlib<0.5,>=0.4.1 in c:\\users\\utsav\\appdata\\roaming\\python\\python310\\site-packages (from tensorboard<2.11,>=2.10->tensorflow-gpu==2.10.0) (0.4.6)\n",
      "Requirement already satisfied: markdown>=2.6.8 in c:\\users\\utsav\\appdata\\roaming\\python\\python310\\site-packages (from tensorboard<2.11,>=2.10->tensorflow-gpu==2.10.0) (3.8)\n",
      "Requirement already satisfied: requests<3,>=2.21.0 in c:\\users\\utsav\\appdata\\roaming\\python\\python310\\site-packages (from tensorboard<2.11,>=2.10->tensorflow-gpu==2.10.0) (2.32.3)\n",
      "Requirement already satisfied: tensorboard-data-server<0.7.0,>=0.6.0 in c:\\users\\utsav\\appdata\\roaming\\python\\python310\\site-packages (from tensorboard<2.11,>=2.10->tensorflow-gpu==2.10.0) (0.6.1)\n",
      "Requirement already satisfied: tensorboard-plugin-wit>=1.6.0 in c:\\users\\utsav\\appdata\\roaming\\python\\python310\\site-packages (from tensorboard<2.11,>=2.10->tensorflow-gpu==2.10.0) (1.8.1)\n",
      "Requirement already satisfied: werkzeug>=1.0.1 in c:\\users\\utsav\\appdata\\roaming\\python\\python310\\site-packages (from tensorboard<2.11,>=2.10->tensorflow-gpu==2.10.0) (3.1.3)\n",
      "Requirement already satisfied: wheel>=0.26 in c:\\users\\utsav\\appdata\\roaming\\python\\python310\\site-packages (from tensorboard<2.11,>=2.10->tensorflow-gpu==2.10.0) (0.45.1)\n",
      "Requirement already satisfied: cachetools<6.0,>=2.0.0 in c:\\users\\utsav\\appdata\\roaming\\python\\python310\\site-packages (from google-auth<3,>=1.6.3->tensorboard<2.11,>=2.10->tensorflow-gpu==2.10.0) (5.5.2)\n",
      "Requirement already satisfied: pyasn1-modules>=0.2.1 in c:\\users\\utsav\\appdata\\roaming\\python\\python310\\site-packages (from google-auth<3,>=1.6.3->tensorboard<2.11,>=2.10->tensorflow-gpu==2.10.0) (0.4.2)\n",
      "Requirement already satisfied: rsa<5,>=3.1.4 in c:\\users\\utsav\\appdata\\roaming\\python\\python310\\site-packages (from google-auth<3,>=1.6.3->tensorboard<2.11,>=2.10->tensorflow-gpu==2.10.0) (4.9.1)\n",
      "Requirement already satisfied: requests-oauthlib>=0.7.0 in c:\\users\\utsav\\appdata\\roaming\\python\\python310\\site-packages (from google-auth-oauthlib<0.5,>=0.4.1->tensorboard<2.11,>=2.10->tensorflow-gpu==2.10.0) (2.0.0)\n",
      "Requirement already satisfied: charset-normalizer<4,>=2 in c:\\users\\utsav\\appdata\\roaming\\python\\python310\\site-packages (from requests<3,>=2.21.0->tensorboard<2.11,>=2.10->tensorflow-gpu==2.10.0) (3.3.2)\n",
      "Requirement already satisfied: idna<4,>=2.5 in c:\\users\\utsav\\appdata\\roaming\\python\\python310\\site-packages (from requests<3,>=2.21.0->tensorboard<2.11,>=2.10->tensorflow-gpu==2.10.0) (3.7)\n",
      "Requirement already satisfied: urllib3<3,>=1.21.1 in c:\\users\\utsav\\appdata\\roaming\\python\\python310\\site-packages (from requests<3,>=2.21.0->tensorboard<2.11,>=2.10->tensorflow-gpu==2.10.0) (2.2.1)\n",
      "Requirement already satisfied: certifi>=2017.4.17 in c:\\users\\utsav\\appdata\\roaming\\python\\python310\\site-packages (from requests<3,>=2.21.0->tensorboard<2.11,>=2.10->tensorflow-gpu==2.10.0) (2024.6.2)\n",
      "Requirement already satisfied: pyasn1>=0.1.3 in c:\\users\\utsav\\appdata\\roaming\\python\\python310\\site-packages (from rsa<5,>=3.1.4->google-auth<3,>=1.6.3->tensorboard<2.11,>=2.10->tensorflow-gpu==2.10.0) (0.6.1)\n",
      "Requirement already satisfied: oauthlib>=3.0.0 in c:\\users\\utsav\\appdata\\roaming\\python\\python310\\site-packages (from requests-oauthlib>=0.7.0->google-auth-oauthlib<0.5,>=0.4.1->tensorboard<2.11,>=2.10->tensorflow-gpu==2.10.0) (3.2.2)\n",
      "Requirement already satisfied: MarkupSafe>=2.1.1 in c:\\users\\utsav\\appdata\\roaming\\python\\python310\\site-packages (from werkzeug>=1.0.1->tensorboard<2.11,>=2.10->tensorflow-gpu==2.10.0) (2.1.5)\n"
     ]
    }
   ],
   "source": [
    "!pip install tensorflow-gpu==2.10.0"
   ]
  },
  {
   "cell_type": "code",
   "execution_count": 3,
   "id": "8395e8f5",
   "metadata": {},
   "outputs": [
    {
     "name": "stdout",
     "output_type": "stream",
     "text": [
      "Defaulting to user installation because normal site-packages is not writeable\n",
      "Requirement already satisfied: opencv-python in c:\\users\\utsav\\appdata\\roaming\\python\\python310\\site-packages (4.11.0.86)\n",
      "Requirement already satisfied: numpy>=1.21.2 in c:\\users\\utsav\\appdata\\roaming\\python\\python310\\site-packages (from opencv-python) (1.23.5)\n"
     ]
    }
   ],
   "source": [
    "!pip install opencv-python"
   ]
  },
  {
   "cell_type": "code",
   "execution_count": 4,
   "id": "bd34b0fb",
   "metadata": {},
   "outputs": [
    {
     "name": "stdout",
     "output_type": "stream",
     "text": [
      "Defaulting to user installation because normal site-packages is not writeable\n",
      "Requirement already satisfied: matplotlib in c:\\users\\utsav\\appdata\\roaming\\python\\python310\\site-packages (3.9.0)\n",
      "Requirement already satisfied: contourpy>=1.0.1 in c:\\users\\utsav\\appdata\\roaming\\python\\python310\\site-packages (from matplotlib) (1.2.1)\n",
      "Requirement already satisfied: cycler>=0.10 in c:\\users\\utsav\\appdata\\roaming\\python\\python310\\site-packages (from matplotlib) (0.12.1)\n",
      "Requirement already satisfied: fonttools>=4.22.0 in c:\\users\\utsav\\appdata\\roaming\\python\\python310\\site-packages (from matplotlib) (4.53.0)\n",
      "Requirement already satisfied: kiwisolver>=1.3.1 in c:\\users\\utsav\\appdata\\roaming\\python\\python310\\site-packages (from matplotlib) (1.4.5)\n",
      "Requirement already satisfied: numpy>=1.23 in c:\\users\\utsav\\appdata\\roaming\\python\\python310\\site-packages (from matplotlib) (1.23.5)\n",
      "Requirement already satisfied: packaging>=20.0 in c:\\users\\utsav\\appdata\\roaming\\python\\python310\\site-packages (from matplotlib) (24.1)\n",
      "Requirement already satisfied: pillow>=8 in c:\\users\\utsav\\appdata\\roaming\\python\\python310\\site-packages (from matplotlib) (10.3.0)\n",
      "Requirement already satisfied: pyparsing>=2.3.1 in c:\\users\\utsav\\appdata\\roaming\\python\\python310\\site-packages (from matplotlib) (3.1.2)\n",
      "Requirement already satisfied: python-dateutil>=2.7 in c:\\users\\utsav\\appdata\\roaming\\python\\python310\\site-packages (from matplotlib) (2.9.0.post0)\n",
      "Requirement already satisfied: six>=1.5 in c:\\users\\utsav\\appdata\\roaming\\python\\python310\\site-packages (from python-dateutil>=2.7->matplotlib) (1.16.0)\n"
     ]
    }
   ],
   "source": [
    "!pip install matplotlib"
   ]
  },
  {
   "cell_type": "markdown",
   "id": "c7119246",
   "metadata": {},
   "source": [
    "# Import Dependencies"
   ]
  },
  {
   "cell_type": "code",
   "execution_count": 5,
   "id": "2f457297",
   "metadata": {},
   "outputs": [],
   "source": [
    "#importing standard dependencies\n",
    "\n",
    "import cv2\n",
    "import os\n",
    "import random\n",
    "import time\n",
    "import numpy as np\n",
    "from matplotlib import pyplot as plt"
   ]
  },
  {
   "cell_type": "code",
   "execution_count": 6,
   "id": "4068b832",
   "metadata": {},
   "outputs": [],
   "source": [
    "#imporing tensorflow dependencies - Functional API\n",
    "\n",
    "from tensorflow.keras.models import Model\n",
    "from tensorflow.keras.layers import Layer, Conv2D, Dense, MaxPooling2D, Input, Flatten\n",
    "import tensorflow as tf\n"
   ]
  },
  {
   "cell_type": "markdown",
   "id": "ce1b2fce",
   "metadata": {},
   "source": [
    "# Set GPU Growth\n",
    "\n",
    "#### This is to avoid the out of memory error and limit the GPU usage\n",
    "#### If memory growth is enabled for a PhysicalDevice, the runtime initialization will not allocate all memory on the device."
   ]
  },
  {
   "cell_type": "code",
   "execution_count": 7,
   "id": "700baacd",
   "metadata": {},
   "outputs": [
    {
     "name": "stdout",
     "output_type": "stream",
     "text": [
      "Num GPUs: 1\n"
     ]
    }
   ],
   "source": [
    "#check the number of available GPU and also check if tensorflow is detecting it\n",
    "physical_devices = tf.config.list_physical_devices('GPU')\n",
    "print(\"Num GPUs:\", len(physical_devices))"
   ]
  },
  {
   "cell_type": "code",
   "execution_count": 8,
   "id": "1ece9341",
   "metadata": {},
   "outputs": [
    {
     "data": {
      "text/plain": [
       "[name: \"/device:CPU:0\"\n",
       " device_type: \"CPU\"\n",
       " memory_limit: 268435456\n",
       " locality {\n",
       " }\n",
       " incarnation: 1352273607483476690\n",
       " xla_global_id: -1,\n",
       " name: \"/device:GPU:0\"\n",
       " device_type: \"GPU\"\n",
       " memory_limit: 2258055988\n",
       " locality {\n",
       "   bus_id: 1\n",
       "   links {\n",
       "   }\n",
       " }\n",
       " incarnation: 14436535534586564701\n",
       " physical_device_desc: \"device: 0, name: GeForce GTX 1650, pci bus id: 0000:01:00.0, compute capability: 7.5\"\n",
       " xla_global_id: 416903419]"
      ]
     },
     "execution_count": 8,
     "metadata": {},
     "output_type": "execute_result"
    }
   ],
   "source": [
    "#getting the details of the GPU\n",
    "from tensorflow.python.client import device_lib\n",
    "device_lib.list_local_devices()"
   ]
  },
  {
   "cell_type": "code",
   "execution_count": 9,
   "id": "e8ff88f4",
   "metadata": {},
   "outputs": [],
   "source": [
    "#setting memory growth for GPU\n",
    "gpus = tf.config.experimental.list_physical_devices('GPU')\n",
    "for gpu in gpus: \n",
    "    tf.config.experimental.set_memory_growth(gpu, True)"
   ]
  },
  {
   "cell_type": "markdown",
   "id": "90048f88",
   "metadata": {},
   "source": [
    "# Create folder structure"
   ]
  },
  {
   "cell_type": "code",
   "execution_count": 14,
   "id": "0429f151",
   "metadata": {},
   "outputs": [
    {
     "data": {
      "text/plain": [
       "'C:\\\\Users\\\\utsav\\\\AppData\\\\Local\\\\Temp'"
      ]
     },
     "execution_count": 14,
     "metadata": {},
     "output_type": "execute_result"
    }
   ],
   "source": [
    "import tempfile\n",
    "\n",
    "temp_dir = tempfile.gettempdir() # retrieves the system's temporary directory\n",
    "\n",
    "temp_dir"
   ]
  },
  {
   "cell_type": "code",
   "execution_count": 17,
   "id": "7eab77df",
   "metadata": {},
   "outputs": [
    {
     "name": "stdout",
     "output_type": "stream",
     "text": [
      "Positive path:  C:\\Users\\utsav\\AppData\\Local\\Temp\\data\\positive\n",
      "Negative path:  C:\\Users\\utsav\\AppData\\Local\\Temp\\data\\negative\n",
      "Anchor path:  C:\\Users\\utsav\\AppData\\Local\\Temp\\data\\anchor\n"
     ]
    }
   ],
   "source": [
    "# Setup paths in temp dir\n",
    "POS_PATH = os.path.join(temp_dir,'data', 'positive')\n",
    "NEG_PATH = os.path.join(temp_dir,'data', 'negative')\n",
    "ANC_PATH = os.path.join(temp_dir,'data', 'anchor')\n",
    "\n",
    "print(\"Positive path: \",POS_PATH)\n",
    "print(\"Negative path: \",NEG_PATH)\n",
    "print(\"Anchor path: \",ANC_PATH)"
   ]
  },
  {
   "cell_type": "code",
   "execution_count": 30,
   "id": "54e2e4c0",
   "metadata": {},
   "outputs": [],
   "source": [
    "\n",
    "# Make the directories\n",
    "if not os.path.exists(POS_PATH):\n",
    "    os.makedirs(POS_PATH)\n",
    "if not os.path.exists(NEG_PATH):\n",
    "    os.makedirs(NEG_PATH)\n",
    "if not os.path.exists(ANC_PATH):\n",
    "    os.makedirs(ANC_PATH)"
   ]
  },
  {
   "cell_type": "markdown",
   "id": "afefb42b",
   "metadata": {},
   "source": [
    "# Collect Positives,Negatives and Anchors"
   ]
  },
  {
   "cell_type": "markdown",
   "id": "0fe66bb8",
   "metadata": {},
   "source": [
    "#### Negatives collection from existing dataset"
   ]
  },
  {
   "cell_type": "code",
   "execution_count": 21,
   "id": "51ebc092",
   "metadata": {},
   "outputs": [],
   "source": [
    "\n",
    "#Uncompress Tar GZ Labelled Faces in the Wild Dataset\n",
    "\n",
    "!tar -xf \"C:\\Users\\utsav\\Documents\\lfw.tgz\" --directory \"C:\\Users\\utsav\\Documents\""
   ]
  },
  {
   "cell_type": "code",
   "execution_count": 33,
   "id": "c488c2c2",
   "metadata": {},
   "outputs": [],
   "source": [
    "# Move LFW Images to the following repository data/negative\n",
    "for directory in os.listdir(\"C:/Users/utsav/Documents/lfw\"):\n",
    "    for file in os.listdir(os.path.join(\"C:/Users/utsav/Documents/lfw\", directory)):\n",
    "        EX_PATH = os.path.join(\"C:/Users/utsav/Documents/lfw\", directory, file)\n",
    "        NEW_PATH = os.path.join(NEG_PATH, file)\n",
    "        os.replace(EX_PATH, NEW_PATH)"
   ]
  },
  {
   "cell_type": "markdown",
   "id": "71c30c75",
   "metadata": {},
   "source": [
    "#### Positive collection from webcam"
   ]
  },
  {
   "cell_type": "code",
   "execution_count": 34,
   "id": "6f8ea9b4",
   "metadata": {},
   "outputs": [],
   "source": [
    "# importing uuid library to geenrate unique image names\n",
    "import uuid"
   ]
  },
  {
   "cell_type": "code",
   "execution_count": 35,
   "id": "bda7c1f0",
   "metadata": {},
   "outputs": [],
   "source": [
    "cap = cv2.VideoCapture(0)\n",
    "\n",
    "# Set the capture duration to 5 minutes (300 seconds)\n",
    "capture_duration = 15\n",
    "\n",
    "# Record start time\n",
    "start_time = time.time()\n",
    "\n",
    "while(int(time.time() - start_time) < capture_duration):\n",
    "    ret, frame = cap.read()\n",
    "\n",
    "    #to capture only 250x250px to make all images a standard size\n",
    "    frame = frame[120:120+250,200:200+250,:]\n",
    "\n",
    "    #to rectify the lateral inversion\n",
    "    flipped_frame = cv2.flip(frame, 1)\n",
    "\n",
    "    cv2.waitKey(1)\n",
    "\n",
    "    # Create the unique file path \n",
    "    imgname = os.path.join(POS_PATH, '{}.jpg'.format(uuid.uuid1()))\n",
    "    \n",
    "    # Write out anchor image\n",
    "    cv2.imwrite(imgname, frame)\n",
    "\n",
    "    cv2.imshow('Image collection',flipped_frame)\n",
    "   \n",
    "\n",
    "cap.release()\n",
    "cv2.destroyAllWindows()"
   ]
  },
  {
   "cell_type": "markdown",
   "id": "4ecfc2a2",
   "metadata": {},
   "source": [
    "#### Anchor collection from webcam"
   ]
  },
  {
   "cell_type": "code",
   "execution_count": 36,
   "id": "f735bfaa",
   "metadata": {},
   "outputs": [],
   "source": [
    "cap = cv2.VideoCapture(0)\n",
    "\n",
    "# Set the capture duration to 5 minutes (300 seconds)\n",
    "capture_duration = 15\n",
    "\n",
    "# Record start time\n",
    "start_time = time.time()\n",
    "\n",
    "while(int(time.time() - start_time) < capture_duration):\n",
    "    ret, frame = cap.read()\n",
    "\n",
    "    #to capture only 250x250px to make all images a standard size\n",
    "    frame = frame[120:120+250,200:200+250,:]\n",
    "\n",
    "    #to rectify the lateral inversion\n",
    "    flipped_frame = cv2.flip(frame, 1)\n",
    "\n",
    "    cv2.waitKey(1)\n",
    "\n",
    "    # Create the unique file path \n",
    "    imgname = os.path.join(ANC_PATH, '{}.jpg'.format(uuid.uuid1()))\n",
    "    \n",
    "    # Write out anchor image\n",
    "    cv2.imwrite(imgname, frame)\n",
    "\n",
    "    cv2.imshow('Image collection',flipped_frame)\n",
    "   \n",
    "\n",
    "cap.release()\n",
    "cv2.destroyAllWindows()"
   ]
  },
  {
   "cell_type": "markdown",
   "id": "67c467c6",
   "metadata": {},
   "source": [
    "# Load and Preprocess Images"
   ]
  },
  {
   "cell_type": "markdown",
   "id": "d403c305",
   "metadata": {},
   "source": [
    "#### Get images directories"
   ]
  },
  {
   "cell_type": "code",
   "execution_count": 37,
   "id": "ebd105e7",
   "metadata": {},
   "outputs": [],
   "source": [
    "anchor = tf.data.Dataset.list_files(ANC_PATH+'\\*.jpg').take(300)\n",
    "positive = tf.data.Dataset.list_files(POS_PATH+'\\*.jpg').take(300)\n",
    "negative = tf.data.Dataset.list_files(NEG_PATH+'\\*.jpg').take(300)"
   ]
  },
  {
   "cell_type": "code",
   "execution_count": 38,
   "id": "d7e320b6",
   "metadata": {},
   "outputs": [],
   "source": [
    "dir_test = anchor.as_numpy_iterator()"
   ]
  },
  {
   "cell_type": "code",
   "execution_count": 39,
   "id": "91ca5964",
   "metadata": {},
   "outputs": [
    {
     "name": "stdout",
     "output_type": "stream",
     "text": [
      "b'C:\\\\Users\\\\utsav\\\\AppData\\\\Local\\\\Temp\\\\data\\\\anchor\\\\4c095335-3535-11f0-a21f-c423607b4a5c.jpg'\n"
     ]
    }
   ],
   "source": [
    "#to check if the iterator is reading all the imaage path\n",
    "print(dir_test.next())"
   ]
  },
  {
   "cell_type": "markdown",
   "id": "7f254520",
   "metadata": {},
   "source": [
    "#### Preprocessing - Scale and Resize"
   ]
  },
  {
   "cell_type": "code",
   "execution_count": 40,
   "id": "527badc3",
   "metadata": {},
   "outputs": [],
   "source": [
    "def preprocess(file_path):\n",
    "    \n",
    "    # Read in image from file path\n",
    "    byte_img = tf.io.read_file(file_path)\n",
    "    # Load in the image \n",
    "    img = tf.io.decode_jpeg(byte_img)\n",
    "    \n",
    "    # Preprocessing steps - resizing the image to be 100x100x3\n",
    "    img = tf.image.resize(img, (100,100))\n",
    "    # Scale image to be between 0 and 1 \n",
    "    img = img / 255.0\n",
    "    \n",
    "    # Return image\n",
    "    return img"
   ]
  },
  {
   "cell_type": "code",
   "execution_count": 41,
   "id": "171e0573",
   "metadata": {},
   "outputs": [],
   "source": [
    "img = preprocess(dir_test.next())"
   ]
  },
  {
   "cell_type": "code",
   "execution_count": 45,
   "id": "43c201af",
   "metadata": {},
   "outputs": [
    {
     "data": {
      "text/plain": [
       "array([[[0.54901963, 0.5882353 , 0.5568628 ],\n",
       "        [0.5392157 , 0.5872549 , 0.5480392 ],\n",
       "        [0.5352941 , 0.5892157 , 0.5411765 ],\n",
       "        ...,\n",
       "        [0.5213235 , 0.5517157 , 0.5232843 ],\n",
       "        [0.51985294, 0.5620098 , 0.53063726],\n",
       "        [0.51666665, 0.5598039 , 0.52843136]],\n",
       "\n",
       "       [[0.55196077, 0.59117645, 0.5598039 ],\n",
       "        [0.5568628 , 0.6002451 , 0.56691176],\n",
       "        [0.5357843 , 0.58504903, 0.54583335],\n",
       "        ...,\n",
       "        [0.51887256, 0.54632354, 0.51887256],\n",
       "        [0.51593137, 0.55441177, 0.5232843 ],\n",
       "        [0.50392157, 0.54607844, 0.5147059 ]],\n",
       "\n",
       "       [[0.56421566, 0.59460783, 0.5632353 ],\n",
       "        [0.55      , 0.5897059 , 0.5541667 ],\n",
       "        [0.55514705, 0.59632355, 0.5541667 ],\n",
       "        ...,\n",
       "        [0.53333336, 0.5529412 , 0.5264706 ],\n",
       "        [0.51740193, 0.5448529 , 0.5144608 ],\n",
       "        [0.53333336, 0.5637255 , 0.5323529 ]],\n",
       "\n",
       "       ...,\n",
       "\n",
       "       [[0.35514706, 0.3767157 , 0.32769608],\n",
       "        [0.34019607, 0.3629902 , 0.3259804 ],\n",
       "        [0.34534314, 0.3718137 , 0.33848038],\n",
       "        ...,\n",
       "        [0.34166667, 0.375     , 0.297549  ],\n",
       "        [0.3602941 , 0.38480392, 0.32156864],\n",
       "        [0.3345588 , 0.3634804 , 0.29215688]],\n",
       "\n",
       "       [[0.34632352, 0.3620098 , 0.30710784],\n",
       "        [0.35980392, 0.3767157 , 0.33235294],\n",
       "        [0.34705883, 0.3764706 , 0.32843137],\n",
       "        ...,\n",
       "        [0.34460783, 0.36911765, 0.30661765],\n",
       "        [0.3507353 , 0.3620098 , 0.30612746],\n",
       "        [0.34485295, 0.3612745 , 0.29436275]],\n",
       "\n",
       "       [[0.3482843 , 0.360049  , 0.31691176],\n",
       "        [0.35906863, 0.37696078, 0.32156864],\n",
       "        [0.33553922, 0.36666667, 0.30539215],\n",
       "        ...,\n",
       "        [0.35392156, 0.3779412 , 0.31740198],\n",
       "        [0.3615196 , 0.36936274, 0.31838235],\n",
       "        [0.36666667, 0.38235295, 0.32352942]]], dtype=float32)"
      ]
     },
     "execution_count": 45,
     "metadata": {},
     "output_type": "execute_result"
    }
   ],
   "source": [
    "img.numpy()"
   ]
  },
  {
   "cell_type": "code",
   "execution_count": 44,
   "id": "840f366f",
   "metadata": {},
   "outputs": [
    {
     "data": {
      "text/plain": [
       "<matplotlib.image.AxesImage at 0x183e021bc40>"
      ]
     },
     "execution_count": 44,
     "metadata": {},
     "output_type": "execute_result"
    },
    {
     "data": {
      "image/png": "[encoded data removed]",
      "text/plain": [
       "<Figure size 640x480 with 1 Axes>"
      ]
     },
     "metadata": {},
     "output_type": "display_data"
    }
   ],
   "source": [
    "#to check the scaling is working. We will see the image size should be 100x100px\n",
    "plt.imshow(img)"
   ]
  },
  {
   "cell_type": "markdown",
   "id": "3493f9b0",
   "metadata": {},
   "source": [
    "#### Create Labelled Dataset"
   ]
  },
  {
   "cell_type": "code",
   "execution_count": 46,
   "id": "f4976573",
   "metadata": {},
   "outputs": [],
   "source": [
    "# (anchor, positive) => 1,1,1,1,1\n",
    "# (anchor, negative) => 0,0,0,0,0"
   ]
  },
  {
   "cell_type": "code",
   "execution_count": 47,
   "id": "bab052cc",
   "metadata": {},
   "outputs": [],
   "source": [
    "positives = tf.data.Dataset.zip((anchor, positive, tf.data.Dataset.from_tensor_slices(tf.ones(len(anchor)))))\n",
    "negatives = tf.data.Dataset.zip((anchor, negative, tf.data.Dataset.from_tensor_slices(tf.zeros(len(anchor)))))\n",
    "data = positives.concatenate(negatives)"
   ]
  },
  {
   "cell_type": "code",
   "execution_count": 51,
   "id": "3a1cabd0",
   "metadata": {},
   "outputs": [],
   "source": [
    "samples = data.as_numpy_iterator()"
   ]
  },
  {
   "cell_type": "code",
   "execution_count": 52,
   "id": "25f15674",
   "metadata": {},
   "outputs": [],
   "source": [
    "example = samples.next()"
   ]
  },
  {
   "cell_type": "code",
   "execution_count": 53,
   "id": "0a3a9d3a",
   "metadata": {},
   "outputs": [
    {
     "data": {
      "text/plain": [
       "(b'C:\\\\Users\\\\utsav\\\\AppData\\\\Local\\\\Temp\\\\data\\\\anchor\\\\46bf6892-3535-11f0-bb51-c423607b4a5c.jpg',\n",
       " b'C:\\\\Users\\\\utsav\\\\AppData\\\\Local\\\\Temp\\\\data\\\\positive\\\\3a90f61d-3535-11f0-a108-c423607b4a5c.jpg',\n",
       " 1.0)"
      ]
     },
     "execution_count": 53,
     "metadata": {},
     "output_type": "execute_result"
    }
   ],
   "source": [
    "example"
   ]
  },
  {
   "cell_type": "code",
   "execution_count": null,
   "id": "8bf598e3",
   "metadata": {},
   "outputs": [
    {
     "data": {
      "text/plain": [
       "<tensorflow.python.data.ops.dataset_ops._NumpyIterator at 0x183db74f700>"
      ]
     },
     "execution_count": 55,
     "metadata": {},
     "output_type": "execute_result"
    }
   ],
   "source": []
  }
 ],
 "metadata": {
  "kernelspec": {
   "display_name": "Python 3",
   "language": "python",
   "name": "python3"
  },
  "language_info": {
   "codemirror_mode": {
    "name": "ipython",
    "version": 3
   },
   "file_extension": ".py",
   "mimetype": "text/x-python",
   "name": "python",
   "nbconvert_exporter": "python",
   "pygments_lexer": "ipython3",
   "version": "3.10.0"
  }
 },
 "nbformat": 4,
 "nbformat_minor": 5
}
