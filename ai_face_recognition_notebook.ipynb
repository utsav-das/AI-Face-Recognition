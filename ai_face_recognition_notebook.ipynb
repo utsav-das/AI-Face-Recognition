{
 "cells": [
  {
   "cell_type": "markdown",
   "id": "ce82e034",
   "metadata": {},
   "source": [
    "# Install Dependencies"
   ]
  },
  {
   "cell_type": "code",
   "execution_count": null,
   "id": "6695d036",
   "metadata": {},
   "outputs": [],
   "source": [
    "!pip install tensorflow==2.10.0"
   ]
  },
  {
   "cell_type": "code",
   "execution_count": null,
   "id": "0c46c400",
   "metadata": {},
   "outputs": [],
   "source": [
    "!pip install tensorflow-gpu==2.10.0"
   ]
  },
  {
   "cell_type": "code",
   "execution_count": null,
   "id": "8395e8f5",
   "metadata": {},
   "outputs": [],
   "source": [
    "!pip install opencv-python"
   ]
  },
  {
   "cell_type": "code",
   "execution_count": null,
   "id": "bd34b0fb",
   "metadata": {},
   "outputs": [],
   "source": [
    "!pip install matplotlib"
   ]
  },
  {
   "cell_type": "markdown",
   "id": "c7119246",
   "metadata": {},
   "source": [
    "# Import Dependencies"
   ]
  },
  {
   "cell_type": "code",
   "execution_count": 35,
   "id": "2f457297",
   "metadata": {},
   "outputs": [],
   "source": [
    "#importing standard dependencies\n",
    "\n",
    "import cv2\n",
    "import os\n",
    "import random\n",
    "import time\n",
    "import numpy as np\n",
    "import requests\n",
    "from matplotlib import pyplot as plt"
   ]
  },
  {
   "cell_type": "code",
   "execution_count": null,
   "id": "4068b832",
   "metadata": {},
   "outputs": [],
   "source": [
    "#imporing tensorflow dependencies - Functional API\n",
    "\n",
    "from tensorflow.keras.models import Model\n",
    "from tensorflow.keras.layers import Layer, Conv2D, Dense, MaxPooling2D, Input, Flatten\n",
    "import tensorflow as tf\n"
   ]
  },
  {
   "cell_type": "markdown",
   "id": "ce1b2fce",
   "metadata": {},
   "source": [
    "# Set GPU Growth\n",
    "\n",
    "#### This is to avoid the out of memory error and limit the GPU usage\n",
    "#### If memory growth is enabled for a PhysicalDevice, the runtime initialization will not allocate all memory on the device."
   ]
  },
  {
   "cell_type": "code",
   "execution_count": null,
   "id": "700baacd",
   "metadata": {},
   "outputs": [],
   "source": [
    "#check the number of available GPU and also check if tensorflow is detecting it\n",
    "physical_devices = tf.config.list_physical_devices('GPU')\n",
    "print(\"Num GPUs:\", len(physical_devices))"
   ]
  },
  {
   "cell_type": "code",
   "execution_count": null,
   "id": "1ece9341",
   "metadata": {},
   "outputs": [],
   "source": [
    "#getting the details of the GPU\n",
    "from tensorflow.python.client import device_lib\n",
    "device_lib.list_local_devices()"
   ]
  },
  {
   "cell_type": "code",
   "execution_count": null,
   "id": "e8ff88f4",
   "metadata": {},
   "outputs": [],
   "source": [
    "#setting memory growth for GPU\n",
    "gpus = tf.config.experimental.list_physical_devices('GPU')\n",
    "for gpu in gpus: \n",
    "    tf.config.experimental.set_memory_growth(gpu, True)"
   ]
  },
  {
   "cell_type": "markdown",
   "id": "90048f88",
   "metadata": {},
   "source": [
    "# Create folder structure"
   ]
  },
  {
   "cell_type": "code",
   "execution_count": null,
   "id": "0429f151",
   "metadata": {},
   "outputs": [],
   "source": [
    "import tempfile\n",
    "\n",
    "temp_dir = tempfile.gettempdir() # retrieves the system's temporary directory\n",
    "\n",
    "temp_dir"
   ]
  },
  {
   "cell_type": "code",
   "execution_count": null,
   "id": "7eab77df",
   "metadata": {},
   "outputs": [],
   "source": [
    "# Setup paths in temp dir\n",
    "POS_PATH = os.path.join(temp_dir,'data', 'positive')\n",
    "NEG_PATH = os.path.join(temp_dir,'data', 'negative')\n",
    "ANC_PATH = os.path.join(temp_dir,'data', 'anchor')\n",
    "\n",
    "print(\"Positive path: \",POS_PATH)\n",
    "print(\"Negative path: \",NEG_PATH)\n",
    "print(\"Anchor path: \",ANC_PATH)"
   ]
  },
  {
   "cell_type": "code",
   "execution_count": null,
   "id": "54e2e4c0",
   "metadata": {},
   "outputs": [],
   "source": [
    "\n",
    "# Make the directories\n",
    "if not os.path.exists(POS_PATH):\n",
    "    os.makedirs(POS_PATH)\n",
    "if not os.path.exists(NEG_PATH):\n",
    "    os.makedirs(NEG_PATH)\n",
    "if not os.path.exists(ANC_PATH):\n",
    "    os.makedirs(ANC_PATH)"
   ]
  },
  {
   "cell_type": "markdown",
   "id": "afefb42b",
   "metadata": {},
   "source": [
    "# Collect Positives,Negatives and Anchors"
   ]
  },
  {
   "cell_type": "markdown",
   "id": "0fe66bb8",
   "metadata": {},
   "source": [
    "#### Negatives collection from existing dataset"
   ]
  },
  {
   "cell_type": "code",
   "execution_count": 41,
   "id": "615416b3",
   "metadata": {},
   "outputs": [],
   "source": [
    "from urllib import request\n",
    "\n",
    "url = \"https://figshare.com/ndownloader/files/5976018/lfw.tgz\"\n",
    "target_path = os.path.join(NEG_PATH,\"lfw.tgz\")\n",
    "\n",
    "with request.urlopen(request.Request(url), timeout=15.0) as response:\n",
    "    if response.status == 200:\n",
    "        with open(target_path, \"wb\") as f:\n",
    "            f.write(response.read())"
   ]
  },
  {
   "cell_type": "code",
   "execution_count": 43,
   "id": "a0f6ea00",
   "metadata": {},
   "outputs": [],
   "source": [
    "import tarfile\n",
    "\n",
    "def uncompress_tar(tar_filepath, extract_path):\n",
    "    try:\n",
    "        with tarfile.open(tar_filepath, 'r') as tar:\n",
    "            tar.extractall(path=extract_path)\n",
    "        print(f\"Successfully extracted '{tar_filepath}' to '{extract_path}'\")\n",
    "    except FileNotFoundError:\n",
    "        print(f\"Error: Tar file '{tar_filepath}' not found.\")\n",
    "    except tarfile.ReadError as e:\n",
    "         print(f\"Error: Could not open '{tar_filepath}'. It may be corrupted or not a valid tar file. Details: {e}\")\n",
    "    except Exception as e:\n",
    "        print(f\"An unexpected error occurred: {e}\")"
   ]
  },
  {
   "cell_type": "code",
   "execution_count": 45,
   "id": "33bd74ef",
   "metadata": {},
   "outputs": [
    {
     "name": "stdout",
     "output_type": "stream",
     "text": [
      "Successfully extracted 'C:\\Users\\Utsav\\AppData\\Local\\Temp\\data\\negative\\lfw.tgz' to 'C:\\Users\\Utsav\\AppData\\Local\\Temp\\data\\negative'\n"
     ]
    }
   ],
   "source": [
    "uncompress_tar(target_path,NEG_PATH)"
   ]
  },
  {
   "cell_type": "code",
   "execution_count": 49,
   "id": "41a7ae80",
   "metadata": {},
   "outputs": [],
   "source": [
    "import shutil\n",
    "# removing the tar and extracted folder from NEG_PATh\n",
    "#os.remove(target_path)\n",
    "shutil.rmtree(os.path.join(NEG_PATH,\"lfw\"))"
   ]
  },
  {
   "cell_type": "markdown",
   "id": "71c30c75",
   "metadata": {},
   "source": [
    "#### Positive collection from webcam"
   ]
  },
  {
   "cell_type": "code",
   "execution_count": 50,
   "id": "6f8ea9b4",
   "metadata": {},
   "outputs": [],
   "source": [
    "# importing uuid library to geenrate unique image names\n",
    "import uuid"
   ]
  },
  {
   "cell_type": "code",
   "execution_count": 51,
   "id": "bda7c1f0",
   "metadata": {},
   "outputs": [],
   "source": [
    "cap = cv2.VideoCapture(0)\n",
    "\n",
    "# Set the capture duration to 5 minutes (300 seconds)\n",
    "capture_duration = 15\n",
    "\n",
    "# Record start time\n",
    "start_time = time.time()\n",
    "\n",
    "while(int(time.time() - start_time) < capture_duration):\n",
    "    ret, frame = cap.read()\n",
    "\n",
    "    #to capture only 250x250px to make all images a standard size\n",
    "    frame = frame[120:120+250,200:200+250,:]\n",
    "\n",
    "    #to rectify the lateral inversion\n",
    "    flipped_frame = cv2.flip(frame, 1)\n",
    "\n",
    "    cv2.waitKey(1)\n",
    "\n",
    "    # Create the unique file path \n",
    "    imgname = os.path.join(POS_PATH, '{}.jpg'.format(uuid.uuid1()))\n",
    "    \n",
    "    # Write out anchor image\n",
    "    cv2.imwrite(imgname, frame)\n",
    "\n",
    "    cv2.imshow('Image collection',flipped_frame)\n",
    "   \n",
    "\n",
    "cap.release()\n",
    "cv2.destroyAllWindows()"
   ]
  },
  {
   "cell_type": "markdown",
   "id": "4ecfc2a2",
   "metadata": {},
   "source": [
    "#### Anchor collection from webcam"
   ]
  },
  {
   "cell_type": "code",
   "execution_count": 52,
   "id": "f735bfaa",
   "metadata": {},
   "outputs": [],
   "source": [
    "cap = cv2.VideoCapture(0)\n",
    "\n",
    "# Set the capture duration to 5 minutes (300 seconds)\n",
    "capture_duration = 15\n",
    "\n",
    "# Record start time\n",
    "start_time = time.time()\n",
    "\n",
    "while(int(time.time() - start_time) < capture_duration):\n",
    "    ret, frame = cap.read()\n",
    "\n",
    "    #to capture only 250x250px to make all images a standard size\n",
    "    frame = frame[120:120+250,200:200+250,:]\n",
    "\n",
    "    #to rectify the lateral inversion\n",
    "    flipped_frame = cv2.flip(frame, 1)\n",
    "\n",
    "    cv2.waitKey(1)\n",
    "\n",
    "    # Create the unique file path \n",
    "    imgname = os.path.join(ANC_PATH, '{}.jpg'.format(uuid.uuid1()))\n",
    "    \n",
    "    # Write out anchor image\n",
    "    cv2.imwrite(imgname, frame)\n",
    "\n",
    "    cv2.imshow('Image collection',flipped_frame)\n",
    "   \n",
    "\n",
    "cap.release()\n",
    "cv2.destroyAllWindows()"
   ]
  },
  {
   "cell_type": "markdown",
   "id": "17ab264b",
   "metadata": {},
   "source": [
    "# Data Augmentation"
   ]
  },
  {
   "cell_type": "code",
   "execution_count": 53,
   "id": "a3a1f1d0",
   "metadata": {},
   "outputs": [],
   "source": [
    "def data_aug(img):\n",
    "    data = []\n",
    "    for i in range(9):\n",
    "        img = tf.image.stateless_random_brightness(img, max_delta=0.02, seed=(1,2))\n",
    "        img = tf.image.stateless_random_contrast(img, lower=0.6, upper=1, seed=(1,3))\n",
    "        # img = tf.image.stateless_random_crop(img, size=(20,20,3), seed=(1,2))\n",
    "        img = tf.image.stateless_random_flip_left_right(img, seed=(np.random.randint(100),np.random.randint(100)))\n",
    "        img = tf.image.stateless_random_jpeg_quality(img, min_jpeg_quality=90, max_jpeg_quality=100, seed=(np.random.randint(100),np.random.randint(100)))\n",
    "        img = tf.image.stateless_random_saturation(img, lower=0.9,upper=1, seed=(np.random.randint(100),np.random.randint(100)))\n",
    "            \n",
    "        data.append(img)\n",
    "    \n",
    "    return data"
   ]
  },
  {
   "cell_type": "code",
   "execution_count": 54,
   "id": "3f17559c",
   "metadata": {},
   "outputs": [],
   "source": [
    "for file_name in os.listdir(os.path.join(ANC_PATH)):\n",
    "    img_path = os.path.join(ANC_PATH, file_name)\n",
    "    img = cv2.imread(img_path)\n",
    "    augmented_images = data_aug(img) \n",
    "    \n",
    "    for image in augmented_images:\n",
    "        cv2.imwrite(os.path.join(ANC_PATH, '{}.jpg'.format(uuid.uuid1())), image.numpy())"
   ]
  },
  {
   "cell_type": "code",
   "execution_count": 55,
   "id": "73f9a445",
   "metadata": {},
   "outputs": [],
   "source": [
    "for file_name in os.listdir(os.path.join(POS_PATH)):\n",
    "    img_path = os.path.join(POS_PATH, file_name)\n",
    "    img = cv2.imread(img_path)\n",
    "    augmented_images = data_aug(img) \n",
    "    \n",
    "    for image in augmented_images:\n",
    "        cv2.imwrite(os.path.join(POS_PATH, '{}.jpg'.format(uuid.uuid1())), image.numpy())"
   ]
  },
  {
   "cell_type": "markdown",
   "id": "67c467c6",
   "metadata": {},
   "source": [
    "# Load and Preprocess Images"
   ]
  },
  {
   "cell_type": "markdown",
   "id": "d403c305",
   "metadata": {},
   "source": [
    "#### Get images directories"
   ]
  },
  {
   "cell_type": "code",
   "execution_count": 56,
   "id": "ebd105e7",
   "metadata": {},
   "outputs": [],
   "source": [
    "anchor = tf.data.Dataset.list_files(ANC_PATH+'\\*.jpg').take(300)\n",
    "positive = tf.data.Dataset.list_files(POS_PATH+'\\*.jpg').take(300)\n",
    "negative = tf.data.Dataset.list_files(NEG_PATH+'\\*.jpg').take(300)"
   ]
  },
  {
   "cell_type": "code",
   "execution_count": 57,
   "id": "d7e320b6",
   "metadata": {},
   "outputs": [],
   "source": [
    "dir_test = anchor.as_numpy_iterator()"
   ]
  },
  {
   "cell_type": "code",
   "execution_count": 58,
   "id": "91ca5964",
   "metadata": {},
   "outputs": [
    {
     "name": "stdout",
     "output_type": "stream",
     "text": [
      "b'C:\\\\Users\\\\Utsav\\\\AppData\\\\Local\\\\Temp\\\\data\\\\anchor\\\\39c20616-35d7-11f0-9547-000d3af0c63d.jpg'\n"
     ]
    }
   ],
   "source": [
    "#to check if the iterator is reading all the imaage path\n",
    "print(dir_test.next())"
   ]
  },
  {
   "cell_type": "markdown",
   "id": "7f254520",
   "metadata": {},
   "source": [
    "#### Preprocessing - Scale and Resize"
   ]
  },
  {
   "cell_type": "code",
   "execution_count": 59,
   "id": "527badc3",
   "metadata": {},
   "outputs": [],
   "source": [
    "def preprocess(file_path):\n",
    "    \n",
    "    # Read in image from file path\n",
    "    byte_img = tf.io.read_file(file_path)\n",
    "    # Load in the image \n",
    "    img = tf.io.decode_jpeg(byte_img)\n",
    "    \n",
    "    # Preprocessing steps - resizing the image to be 100x100x3\n",
    "    img = tf.image.resize(img, (100,100))\n",
    "    # Scale image to be between 0 and 1 \n",
    "    img = img / 255.0\n",
    "    \n",
    "    # Return image\n",
    "    return img"
   ]
  },
  {
   "cell_type": "code",
   "execution_count": 60,
   "id": "171e0573",
   "metadata": {},
   "outputs": [],
   "source": [
    "img = preprocess(dir_test.next())"
   ]
  },
  {
   "cell_type": "code",
   "execution_count": 61,
   "id": "43c201af",
   "metadata": {},
   "outputs": [
    {
     "data": {
      "text/plain": [
       "array([[[0.9166667 , 0.94411767, 0.9127451 ],\n",
       "        [0.91568625, 0.9431372 , 0.9117647 ],\n",
       "        [0.91495097, 0.94240195, 0.9110294 ],\n",
       "        ...,\n",
       "        [0.91568625, 0.9431372 , 0.91568625],\n",
       "        [0.9110294 , 0.9406863 , 0.9125    ],\n",
       "        [0.90588236, 0.94509804, 0.9137255 ]],\n",
       "\n",
       "       [[0.9120098 , 0.93921566, 0.8901961 ],\n",
       "        [0.9112745 , 0.9384804 , 0.8894608 ],\n",
       "        [0.9115196 , 0.9343137 , 0.89117646],\n",
       "        ...,\n",
       "        [0.9117647 , 0.92941177, 0.904902  ],\n",
       "        [0.91568625, 0.93333334, 0.90882355],\n",
       "        [0.9193627 , 0.93897057, 0.9137255 ]],\n",
       "\n",
       "       [[0.9144608 , 0.9242647 , 0.8693628 ],\n",
       "        [0.9196078 , 0.92941177, 0.8745098 ],\n",
       "        [0.9254902 , 0.9352941 , 0.88039213],\n",
       "        ...,\n",
       "        [0.9237745 , 0.9355392 , 0.9080882 ],\n",
       "        [0.9193627 , 0.9311274 , 0.90367645],\n",
       "        [0.91764706, 0.92941177, 0.9019608 ]],\n",
       "\n",
       "       ...,\n",
       "\n",
       "       [[0.30416667, 0.32083333, 0.3139706 ],\n",
       "        [0.27107844, 0.2877451 , 0.28088236],\n",
       "        [0.2509804 , 0.26911765, 0.25784314],\n",
       "        ...,\n",
       "        [0.27132353, 0.30661765, 0.29142156],\n",
       "        [0.2767157 , 0.3120098 , 0.29240197],\n",
       "        [0.2977941 , 0.33308825, 0.3134804 ]],\n",
       "\n",
       "       [[0.2882353 , 0.30784315, 0.29215688],\n",
       "        [0.25955883, 0.27916667, 0.2634804 ],\n",
       "        [0.25      , 0.26887256, 0.25539216],\n",
       "        ...,\n",
       "        [0.2764706 , 0.30294117, 0.28627452],\n",
       "        [0.2723039 , 0.2987745 , 0.28210783],\n",
       "        [0.30588236, 0.33529413, 0.30980393]],\n",
       "\n",
       "       [[0.26078433, 0.28039217, 0.2647059 ],\n",
       "        [0.25686276, 0.2764706 , 0.26078433],\n",
       "        [0.24901961, 0.26862746, 0.2529412 ],\n",
       "        ...,\n",
       "        [0.27745098, 0.3009804 , 0.28529412],\n",
       "        [0.27058825, 0.29705882, 0.27254903],\n",
       "        [0.32254902, 0.35      , 0.32254902]]], dtype=float32)"
      ]
     },
     "execution_count": 61,
     "metadata": {},
     "output_type": "execute_result"
    }
   ],
   "source": [
    "img.numpy()"
   ]
  },
  {
   "cell_type": "code",
   "execution_count": 62,
   "id": "840f366f",
   "metadata": {},
   "outputs": [
    {
     "data": {
      "text/plain": [
       "<matplotlib.image.AxesImage at 0x23053b2c7f0>"
      ]
     },
     "execution_count": 62,
     "metadata": {},
     "output_type": "execute_result"
    },
    {
     "data": {
      "image/png": "[encoded data removed]",
      "text/plain": [
       "<Figure size 640x480 with 1 Axes>"
      ]
     },
     "metadata": {},
     "output_type": "display_data"
    }
   ],
   "source": [
    "#to check the scaling is working. We will see the image size should be 100x100px\n",
    "plt.imshow(img)"
   ]
  },
  {
   "cell_type": "markdown",
   "id": "3493f9b0",
   "metadata": {},
   "source": [
    "#### Create Labelled Dataset"
   ]
  },
  {
   "cell_type": "code",
   "execution_count": 63,
   "id": "f4976573",
   "metadata": {},
   "outputs": [],
   "source": [
    "# (anchor, positive) => 1,1,1,1,1\n",
    "# (anchor, negative) => 0,0,0,0,0"
   ]
  },
  {
   "cell_type": "code",
   "execution_count": 64,
   "id": "bab052cc",
   "metadata": {},
   "outputs": [],
   "source": [
    "positives = tf.data.Dataset.zip((anchor, positive, tf.data.Dataset.from_tensor_slices(tf.ones(len(anchor)))))\n",
    "negatives = tf.data.Dataset.zip((anchor, negative, tf.data.Dataset.from_tensor_slices(tf.zeros(len(anchor)))))\n",
    "data = positives.concatenate(negatives)"
   ]
  },
  {
   "cell_type": "code",
   "execution_count": 65,
   "id": "3a1cabd0",
   "metadata": {},
   "outputs": [],
   "source": [
    "samples = data.as_numpy_iterator()"
   ]
  },
  {
   "cell_type": "code",
   "execution_count": 66,
   "id": "25f15674",
   "metadata": {},
   "outputs": [],
   "source": [
    "example = samples.next()"
   ]
  },
  {
   "cell_type": "code",
   "execution_count": 67,
   "id": "0a3a9d3a",
   "metadata": {},
   "outputs": [
    {
     "data": {
      "text/plain": [
       "(b'C:\\\\Users\\\\Utsav\\\\AppData\\\\Local\\\\Temp\\\\data\\\\anchor\\\\39c169ca-35d7-11f0-a1fb-000d3af0c63d.jpg',\n",
       " b'C:\\\\Users\\\\Utsav\\\\AppData\\\\Local\\\\Temp\\\\data\\\\positive\\\\43fbb4dc-35d7-11f0-9106-000d3af0c63d.jpg',\n",
       " 1.0)"
      ]
     },
     "execution_count": 67,
     "metadata": {},
     "output_type": "execute_result"
    }
   ],
   "source": [
    "example"
   ]
  },
  {
   "cell_type": "markdown",
   "id": "64b94e10",
   "metadata": {},
   "source": [
    "#### Build Train and Test Partition"
   ]
  },
  {
   "cell_type": "code",
   "execution_count": 68,
   "id": "8bf598e3",
   "metadata": {},
   "outputs": [],
   "source": [
    "def preprocess_twin(input_img, validation_img, label):\n",
    "    return(preprocess(input_img), preprocess(validation_img), label)"
   ]
  },
  {
   "cell_type": "code",
   "execution_count": 69,
   "id": "4f2b0fcc",
   "metadata": {},
   "outputs": [],
   "source": [
    "res = preprocess_twin(*example)"
   ]
  },
  {
   "cell_type": "code",
   "execution_count": 70,
   "id": "46ba84ae",
   "metadata": {},
   "outputs": [
    {
     "data": {
      "text/plain": [
       "(<tf.Tensor: shape=(100, 100, 3), dtype=float32, numpy=\n",
       " array([[[0.8980392 , 0.9254902 , 0.8980392 ],\n",
       "         [0.8980392 , 0.9254902 , 0.8980392 ],\n",
       "         [0.8980392 , 0.9254902 , 0.8980392 ],\n",
       "         ...,\n",
       "         [0.89411765, 0.93333334, 0.9019608 ],\n",
       "         [0.8931373 , 0.93235296, 0.9009804 ],\n",
       "         [0.89411765, 0.93333334, 0.9019608 ]],\n",
       " \n",
       "        [[0.89509803, 0.92058825, 0.8931373 ],\n",
       "         [0.89509803, 0.92058825, 0.8931373 ],\n",
       "         [0.89411765, 0.9196078 , 0.89215684],\n",
       "         ...,\n",
       "         [0.8982843 , 0.922549  , 0.8901961 ],\n",
       "         [0.8977941 , 0.91764706, 0.8872549 ],\n",
       "         [0.9007353 , 0.92058825, 0.8901961 ]],\n",
       " \n",
       "        [[0.9009804 , 0.92058825, 0.8931373 ],\n",
       "         [0.9009804 , 0.92058825, 0.8931373 ],\n",
       "         [0.89730394, 0.9169118 , 0.8894608 ],\n",
       "         ...,\n",
       "         [0.89411765, 0.90294117, 0.8617647 ],\n",
       "         [0.89411765, 0.90294117, 0.8617647 ],\n",
       "         [0.89509803, 0.90392154, 0.8627451 ]],\n",
       " \n",
       "        ...,\n",
       " \n",
       "        [[0.28799018, 0.3115196 , 0.3115196 ],\n",
       "         [0.2977941 , 0.33308825, 0.32916668],\n",
       "         [0.3389706 , 0.37426472, 0.37034315],\n",
       "         ...,\n",
       "         [0.2737745 , 0.29534313, 0.2884804 ],\n",
       "         [0.26813725, 0.28382352, 0.27990195],\n",
       "         [0.26568627, 0.28137255, 0.27745098]],\n",
       " \n",
       "        [[0.28333333, 0.3156863 , 0.3127451 ],\n",
       "         [0.30367646, 0.3389706 , 0.33504903],\n",
       "         [0.34485295, 0.38235295, 0.37843138],\n",
       "         ...,\n",
       "         [0.2977941 , 0.31936276, 0.3125    ],\n",
       "         [0.29191175, 0.30759802, 0.30367646],\n",
       "         [0.2735294 , 0.28921568, 0.28529412]],\n",
       " \n",
       "        [[0.27941176, 0.31470588, 0.3107843 ],\n",
       "         [0.32647058, 0.3617647 , 0.35784313],\n",
       "         [0.3647059 , 0.40294117, 0.3990196 ],\n",
       "         ...,\n",
       "         [0.27450982, 0.29607844, 0.28921568],\n",
       "         [0.30882353, 0.3245098 , 0.32058823],\n",
       "         [0.28921568, 0.30490196, 0.3009804 ]]], dtype=float32)>,\n",
       " <tf.Tensor: shape=(100, 100, 3), dtype=float32, numpy=\n",
       " array([[[0.9882353 , 0.9882353 , 0.9882353 ],\n",
       "         [0.9882353 , 0.9882353 , 0.9882353 ],\n",
       "         [0.9882353 , 0.9882353 , 0.9882353 ],\n",
       "         ...,\n",
       "         [0.9882353 , 0.9882353 , 0.9882353 ],\n",
       "         [0.9882353 , 0.9882353 , 0.9882353 ],\n",
       "         [0.9882353 , 0.9882353 , 0.9882353 ]],\n",
       " \n",
       "        [[0.9882353 , 0.9882353 , 0.9882353 ],\n",
       "         [0.9882353 , 0.9882353 , 0.9882353 ],\n",
       "         [0.9882353 , 0.9882353 , 0.9882353 ],\n",
       "         ...,\n",
       "         [0.9882353 , 0.9882353 , 0.9882353 ],\n",
       "         [0.9882353 , 0.9882353 , 0.9882353 ],\n",
       "         [0.9882353 , 0.9882353 , 0.9882353 ]],\n",
       " \n",
       "        [[0.9882353 , 0.9882353 , 0.9882353 ],\n",
       "         [0.9882353 , 0.9882353 , 0.9882353 ],\n",
       "         [0.9882353 , 0.9882353 , 0.9882353 ],\n",
       "         ...,\n",
       "         [0.9882353 , 0.9882353 , 0.9882353 ],\n",
       "         [0.9882353 , 0.9882353 , 0.9882353 ],\n",
       "         [0.9882353 , 0.9882353 , 0.9882353 ]],\n",
       " \n",
       "        ...,\n",
       " \n",
       "        [[0.5892157 , 0.5382353 , 0.50686276],\n",
       "         [0.5889706 , 0.5379902 , 0.5085784 ],\n",
       "         [0.59044117, 0.5394608 , 0.51593137],\n",
       "         ...,\n",
       "         [0.64166665, 0.6397059 , 0.62009805],\n",
       "         [0.59387255, 0.6007353 , 0.5870098 ],\n",
       "         [0.7144608 , 0.73014706, 0.7262255 ]],\n",
       " \n",
       "        [[0.5884804 , 0.5375    , 0.5061275 ],\n",
       "         [0.5889706 , 0.5379902 , 0.5085784 ],\n",
       "         [0.59117645, 0.54019606, 0.51666665],\n",
       "         ...,\n",
       "         [0.6882353 , 0.6862745 , 0.6666667 ],\n",
       "         [0.5828431 , 0.59068626, 0.5769608 ],\n",
       "         [0.75980395, 0.7754902 , 0.77156866]],\n",
       " \n",
       "        [[0.5872549 , 0.5362745 , 0.50490195],\n",
       "         [0.5852941 , 0.53431374, 0.50490195],\n",
       "         [0.59411764, 0.54313725, 0.51960784],\n",
       "         ...,\n",
       "         [0.6492647 , 0.64730394, 0.6276961 ],\n",
       "         [0.6431373 , 0.6509804 , 0.6372549 ],\n",
       "         [0.7794118 , 0.8029412 , 0.79509807]]], dtype=float32)>,\n",
       " 1.0)"
      ]
     },
     "execution_count": 70,
     "metadata": {},
     "output_type": "execute_result"
    }
   ],
   "source": [
    "res"
   ]
  },
  {
   "cell_type": "code",
   "execution_count": 71,
   "id": "fe511187",
   "metadata": {},
   "outputs": [
    {
     "data": {
      "text/plain": [
       "<matplotlib.image.AxesImage at 0x230538ceb00>"
      ]
     },
     "execution_count": 71,
     "metadata": {},
     "output_type": "execute_result"
    },
    {
     "data": {
      "image/png": "[encoded data removed]",
      "text/plain": [
       "<Figure size 640x480 with 1 Axes>"
      ]
     },
     "metadata": {},
     "output_type": "display_data"
    }
   ],
   "source": [
    "plt.imshow(res[0])"
   ]
  },
  {
   "cell_type": "code",
   "execution_count": 72,
   "id": "cf02ac7b",
   "metadata": {},
   "outputs": [
    {
     "data": {
      "text/plain": [
       "<matplotlib.image.AxesImage at 0x230538992d0>"
      ]
     },
     "execution_count": 72,
     "metadata": {},
     "output_type": "execute_result"
    },
    {
     "data": {
      "image/png": "[encoded data removed]",
      "text/plain": [
       "<Figure size 640x480 with 1 Axes>"
      ]
     },
     "metadata": {},
     "output_type": "display_data"
    }
   ],
   "source": [
    "plt.imshow(res[1])"
   ]
  },
  {
   "cell_type": "code",
   "execution_count": 73,
   "id": "d62cd82c",
   "metadata": {},
   "outputs": [],
   "source": [
    "# Build dataloader pipeline\n",
    "data = data.map(preprocess_twin)\n",
    "data = data.cache()\n",
    "data = data.shuffle(buffer_size=10000)"
   ]
  },
  {
   "cell_type": "code",
   "execution_count": 74,
   "id": "e631333f",
   "metadata": {},
   "outputs": [],
   "source": [
    "# Training partition\n",
    "train_data = data.take(round(len(data)*.7))\n",
    "train_data = train_data.batch(16)\n",
    "train_data = train_data.prefetch(8)"
   ]
  },
  {
   "cell_type": "code",
   "execution_count": 75,
   "id": "5f99afb0",
   "metadata": {},
   "outputs": [],
   "source": [
    "# Testing partition\n",
    "test_data = data.skip(round(len(data)*.7))\n",
    "test_data = test_data.take(round(len(data)*.3))\n",
    "test_data = test_data.batch(16)\n",
    "test_data = test_data.prefetch(8)"
   ]
  }
 ],
 "metadata": {
  "kernelspec": {
   "display_name": "tf",
   "language": "python",
   "name": "python3"
  },
  "language_info": {
   "codemirror_mode": {
    "name": "ipython",
    "version": 3
   },
   "file_extension": ".py",
   "mimetype": "text/x-python",
   "name": "python",
   "nbconvert_exporter": "python",
   "pygments_lexer": "ipython3",
   "version": "3.10.16"
  }
 },
 "nbformat": 4,
 "nbformat_minor": 5
}
