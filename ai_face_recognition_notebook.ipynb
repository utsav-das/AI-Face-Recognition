{
 "cells": [
  {
   "cell_type": "markdown",
   "id": "ce82e034",
   "metadata": {},
   "source": [
    "# Install Dependencies"
   ]
  },
  {
   "cell_type": "code",
   "execution_count": 1,
   "id": "6695d036",
   "metadata": {},
   "outputs": [
    {
     "name": "stdout",
     "output_type": "stream",
     "text": [
      "Requirement already satisfied: tensorflow==2.10.0 in c:\\users\\utsav\\miniconda3\\envs\\tf\\lib\\site-packages (2.10.0)\n",
      "Requirement already satisfied: absl-py>=1.0.0 in c:\\users\\utsav\\miniconda3\\envs\\tf\\lib\\site-packages (from tensorflow==2.10.0) (2.2.2)\n",
      "Requirement already satisfied: astunparse>=1.6.0 in c:\\users\\utsav\\miniconda3\\envs\\tf\\lib\\site-packages (from tensorflow==2.10.0) (1.6.3)\n",
      "Requirement already satisfied: flatbuffers>=2.0 in c:\\users\\utsav\\miniconda3\\envs\\tf\\lib\\site-packages (from tensorflow==2.10.0) (25.2.10)\n",
      "Requirement already satisfied: gast<=0.4.0,>=0.2.1 in c:\\users\\utsav\\miniconda3\\envs\\tf\\lib\\site-packages (from tensorflow==2.10.0) (0.4.0)\n",
      "Requirement already satisfied: google-pasta>=0.1.1 in c:\\users\\utsav\\miniconda3\\envs\\tf\\lib\\site-packages (from tensorflow==2.10.0) (0.2.0)\n",
      "Requirement already satisfied: h5py>=2.9.0 in c:\\users\\utsav\\miniconda3\\envs\\tf\\lib\\site-packages (from tensorflow==2.10.0) (3.13.0)\n",
      "Requirement already satisfied: keras-preprocessing>=1.1.1 in c:\\users\\utsav\\miniconda3\\envs\\tf\\lib\\site-packages (from tensorflow==2.10.0) (1.1.2)\n",
      "Requirement already satisfied: libclang>=13.0.0 in c:\\users\\utsav\\miniconda3\\envs\\tf\\lib\\site-packages (from tensorflow==2.10.0) (18.1.1)\n",
      "Requirement already satisfied: numpy>=1.20 in c:\\users\\utsav\\miniconda3\\envs\\tf\\lib\\site-packages (from tensorflow==2.10.0) (1.23.0)\n",
      "Requirement already satisfied: opt-einsum>=2.3.2 in c:\\users\\utsav\\miniconda3\\envs\\tf\\lib\\site-packages (from tensorflow==2.10.0) (3.4.0)\n",
      "Requirement already satisfied: packaging in c:\\users\\utsav\\miniconda3\\envs\\tf\\lib\\site-packages (from tensorflow==2.10.0) (25.0)\n",
      "Requirement already satisfied: protobuf<3.20,>=3.9.2 in c:\\users\\utsav\\miniconda3\\envs\\tf\\lib\\site-packages (from tensorflow==2.10.0) (3.19.6)\n",
      "Requirement already satisfied: setuptools in c:\\users\\utsav\\miniconda3\\envs\\tf\\lib\\site-packages (from tensorflow==2.10.0) (78.1.1)\n",
      "Requirement already satisfied: six>=1.12.0 in c:\\users\\utsav\\miniconda3\\envs\\tf\\lib\\site-packages (from tensorflow==2.10.0) (1.17.0)\n",
      "Requirement already satisfied: termcolor>=1.1.0 in c:\\users\\utsav\\miniconda3\\envs\\tf\\lib\\site-packages (from tensorflow==2.10.0) (3.1.0)\n",
      "Requirement already satisfied: typing-extensions>=3.6.6 in c:\\users\\utsav\\miniconda3\\envs\\tf\\lib\\site-packages (from tensorflow==2.10.0) (4.13.2)\n",
      "Requirement already satisfied: wrapt>=1.11.0 in c:\\users\\utsav\\miniconda3\\envs\\tf\\lib\\site-packages (from tensorflow==2.10.0) (1.17.2)\n",
      "Requirement already satisfied: tensorflow-io-gcs-filesystem>=0.23.1 in c:\\users\\utsav\\miniconda3\\envs\\tf\\lib\\site-packages (from tensorflow==2.10.0) (0.31.0)\n",
      "Requirement already satisfied: grpcio<2.0,>=1.24.3 in c:\\users\\utsav\\miniconda3\\envs\\tf\\lib\\site-packages (from tensorflow==2.10.0) (1.71.0)\n",
      "Requirement already satisfied: tensorboard<2.11,>=2.10 in c:\\users\\utsav\\miniconda3\\envs\\tf\\lib\\site-packages (from tensorflow==2.10.0) (2.10.1)\n",
      "Requirement already satisfied: tensorflow-estimator<2.11,>=2.10.0 in c:\\users\\utsav\\miniconda3\\envs\\tf\\lib\\site-packages (from tensorflow==2.10.0) (2.10.0)\n",
      "Requirement already satisfied: keras<2.11,>=2.10.0 in c:\\users\\utsav\\miniconda3\\envs\\tf\\lib\\site-packages (from tensorflow==2.10.0) (2.10.0)\n",
      "Requirement already satisfied: google-auth<3,>=1.6.3 in c:\\users\\utsav\\miniconda3\\envs\\tf\\lib\\site-packages (from tensorboard<2.11,>=2.10->tensorflow==2.10.0) (2.40.1)\n",
      "Requirement already satisfied: google-auth-oauthlib<0.5,>=0.4.1 in c:\\users\\utsav\\miniconda3\\envs\\tf\\lib\\site-packages (from tensorboard<2.11,>=2.10->tensorflow==2.10.0) (0.4.6)\n",
      "Requirement already satisfied: markdown>=2.6.8 in c:\\users\\utsav\\miniconda3\\envs\\tf\\lib\\site-packages (from tensorboard<2.11,>=2.10->tensorflow==2.10.0) (3.8)\n",
      "Requirement already satisfied: requests<3,>=2.21.0 in c:\\users\\utsav\\miniconda3\\envs\\tf\\lib\\site-packages (from tensorboard<2.11,>=2.10->tensorflow==2.10.0) (2.32.3)\n",
      "Requirement already satisfied: tensorboard-data-server<0.7.0,>=0.6.0 in c:\\users\\utsav\\miniconda3\\envs\\tf\\lib\\site-packages (from tensorboard<2.11,>=2.10->tensorflow==2.10.0) (0.6.1)\n",
      "Requirement already satisfied: tensorboard-plugin-wit>=1.6.0 in c:\\users\\utsav\\miniconda3\\envs\\tf\\lib\\site-packages (from tensorboard<2.11,>=2.10->tensorflow==2.10.0) (1.8.1)\n",
      "Requirement already satisfied: werkzeug>=1.0.1 in c:\\users\\utsav\\miniconda3\\envs\\tf\\lib\\site-packages (from tensorboard<2.11,>=2.10->tensorflow==2.10.0) (3.1.3)\n",
      "Requirement already satisfied: wheel>=0.26 in c:\\users\\utsav\\miniconda3\\envs\\tf\\lib\\site-packages (from tensorboard<2.11,>=2.10->tensorflow==2.10.0) (0.45.1)\n",
      "Requirement already satisfied: cachetools<6.0,>=2.0.0 in c:\\users\\utsav\\miniconda3\\envs\\tf\\lib\\site-packages (from google-auth<3,>=1.6.3->tensorboard<2.11,>=2.10->tensorflow==2.10.0) (5.5.2)\n",
      "Requirement already satisfied: pyasn1-modules>=0.2.1 in c:\\users\\utsav\\miniconda3\\envs\\tf\\lib\\site-packages (from google-auth<3,>=1.6.3->tensorboard<2.11,>=2.10->tensorflow==2.10.0) (0.4.2)\n",
      "Requirement already satisfied: rsa<5,>=3.1.4 in c:\\users\\utsav\\miniconda3\\envs\\tf\\lib\\site-packages (from google-auth<3,>=1.6.3->tensorboard<2.11,>=2.10->tensorflow==2.10.0) (4.9.1)\n",
      "Requirement already satisfied: requests-oauthlib>=0.7.0 in c:\\users\\utsav\\miniconda3\\envs\\tf\\lib\\site-packages (from google-auth-oauthlib<0.5,>=0.4.1->tensorboard<2.11,>=2.10->tensorflow==2.10.0) (2.0.0)\n",
      "Requirement already satisfied: charset-normalizer<4,>=2 in c:\\users\\utsav\\miniconda3\\envs\\tf\\lib\\site-packages (from requests<3,>=2.21.0->tensorboard<2.11,>=2.10->tensorflow==2.10.0) (3.4.2)\n",
      "Requirement already satisfied: idna<4,>=2.5 in c:\\users\\utsav\\miniconda3\\envs\\tf\\lib\\site-packages (from requests<3,>=2.21.0->tensorboard<2.11,>=2.10->tensorflow==2.10.0) (3.10)\n",
      "Requirement already satisfied: urllib3<3,>=1.21.1 in c:\\users\\utsav\\miniconda3\\envs\\tf\\lib\\site-packages (from requests<3,>=2.21.0->tensorboard<2.11,>=2.10->tensorflow==2.10.0) (2.4.0)\n",
      "Requirement already satisfied: certifi>=2017.4.17 in c:\\users\\utsav\\miniconda3\\envs\\tf\\lib\\site-packages (from requests<3,>=2.21.0->tensorboard<2.11,>=2.10->tensorflow==2.10.0) (2025.4.26)\n",
      "Requirement already satisfied: pyasn1>=0.1.3 in c:\\users\\utsav\\miniconda3\\envs\\tf\\lib\\site-packages (from rsa<5,>=3.1.4->google-auth<3,>=1.6.3->tensorboard<2.11,>=2.10->tensorflow==2.10.0) (0.6.1)\n",
      "Requirement already satisfied: oauthlib>=3.0.0 in c:\\users\\utsav\\miniconda3\\envs\\tf\\lib\\site-packages (from requests-oauthlib>=0.7.0->google-auth-oauthlib<0.5,>=0.4.1->tensorboard<2.11,>=2.10->tensorflow==2.10.0) (3.2.2)\n",
      "Requirement already satisfied: MarkupSafe>=2.1.1 in c:\\users\\utsav\\miniconda3\\envs\\tf\\lib\\site-packages (from werkzeug>=1.0.1->tensorboard<2.11,>=2.10->tensorflow==2.10.0) (3.0.2)\n"
     ]
    }
   ],
   "source": [
    "!pip install tensorflow==2.10.0"
   ]
  },
  {
   "cell_type": "code",
   "execution_count": 2,
   "id": "0c46c400",
   "metadata": {},
   "outputs": [
    {
     "name": "stdout",
     "output_type": "stream",
     "text": [
      "Requirement already satisfied: tensorflow-gpu==2.10.0 in c:\\users\\utsav\\miniconda3\\envs\\tf\\lib\\site-packages (2.10.0)\n",
      "Requirement already satisfied: absl-py>=1.0.0 in c:\\users\\utsav\\miniconda3\\envs\\tf\\lib\\site-packages (from tensorflow-gpu==2.10.0) (2.2.2)\n",
      "Requirement already satisfied: astunparse>=1.6.0 in c:\\users\\utsav\\miniconda3\\envs\\tf\\lib\\site-packages (from tensorflow-gpu==2.10.0) (1.6.3)\n",
      "Requirement already satisfied: flatbuffers>=2.0 in c:\\users\\utsav\\miniconda3\\envs\\tf\\lib\\site-packages (from tensorflow-gpu==2.10.0) (25.2.10)\n",
      "Requirement already satisfied: gast<=0.4.0,>=0.2.1 in c:\\users\\utsav\\miniconda3\\envs\\tf\\lib\\site-packages (from tensorflow-gpu==2.10.0) (0.4.0)\n",
      "Requirement already satisfied: google-pasta>=0.1.1 in c:\\users\\utsav\\miniconda3\\envs\\tf\\lib\\site-packages (from tensorflow-gpu==2.10.0) (0.2.0)\n",
      "Requirement already satisfied: h5py>=2.9.0 in c:\\users\\utsav\\miniconda3\\envs\\tf\\lib\\site-packages (from tensorflow-gpu==2.10.0) (3.13.0)\n",
      "Requirement already satisfied: keras-preprocessing>=1.1.1 in c:\\users\\utsav\\miniconda3\\envs\\tf\\lib\\site-packages (from tensorflow-gpu==2.10.0) (1.1.2)\n",
      "Requirement already satisfied: libclang>=13.0.0 in c:\\users\\utsav\\miniconda3\\envs\\tf\\lib\\site-packages (from tensorflow-gpu==2.10.0) (18.1.1)\n",
      "Requirement already satisfied: numpy>=1.20 in c:\\users\\utsav\\miniconda3\\envs\\tf\\lib\\site-packages (from tensorflow-gpu==2.10.0) (1.23.0)\n",
      "Requirement already satisfied: opt-einsum>=2.3.2 in c:\\users\\utsav\\miniconda3\\envs\\tf\\lib\\site-packages (from tensorflow-gpu==2.10.0) (3.4.0)\n",
      "Requirement already satisfied: packaging in c:\\users\\utsav\\miniconda3\\envs\\tf\\lib\\site-packages (from tensorflow-gpu==2.10.0) (25.0)\n",
      "Requirement already satisfied: protobuf<3.20,>=3.9.2 in c:\\users\\utsav\\miniconda3\\envs\\tf\\lib\\site-packages (from tensorflow-gpu==2.10.0) (3.19.6)\n",
      "Requirement already satisfied: setuptools in c:\\users\\utsav\\miniconda3\\envs\\tf\\lib\\site-packages (from tensorflow-gpu==2.10.0) (78.1.1)\n",
      "Requirement already satisfied: six>=1.12.0 in c:\\users\\utsav\\miniconda3\\envs\\tf\\lib\\site-packages (from tensorflow-gpu==2.10.0) (1.17.0)\n",
      "Requirement already satisfied: termcolor>=1.1.0 in c:\\users\\utsav\\miniconda3\\envs\\tf\\lib\\site-packages (from tensorflow-gpu==2.10.0) (3.1.0)\n",
      "Requirement already satisfied: typing-extensions>=3.6.6 in c:\\users\\utsav\\miniconda3\\envs\\tf\\lib\\site-packages (from tensorflow-gpu==2.10.0) (4.13.2)\n",
      "Requirement already satisfied: wrapt>=1.11.0 in c:\\users\\utsav\\miniconda3\\envs\\tf\\lib\\site-packages (from tensorflow-gpu==2.10.0) (1.17.2)\n",
      "Requirement already satisfied: tensorflow-io-gcs-filesystem>=0.23.1 in c:\\users\\utsav\\miniconda3\\envs\\tf\\lib\\site-packages (from tensorflow-gpu==2.10.0) (0.31.0)\n",
      "Requirement already satisfied: grpcio<2.0,>=1.24.3 in c:\\users\\utsav\\miniconda3\\envs\\tf\\lib\\site-packages (from tensorflow-gpu==2.10.0) (1.71.0)\n",
      "Requirement already satisfied: tensorboard<2.11,>=2.10 in c:\\users\\utsav\\miniconda3\\envs\\tf\\lib\\site-packages (from tensorflow-gpu==2.10.0) (2.10.1)\n",
      "Requirement already satisfied: tensorflow-estimator<2.11,>=2.10.0 in c:\\users\\utsav\\miniconda3\\envs\\tf\\lib\\site-packages (from tensorflow-gpu==2.10.0) (2.10.0)\n",
      "Requirement already satisfied: keras<2.11,>=2.10.0 in c:\\users\\utsav\\miniconda3\\envs\\tf\\lib\\site-packages (from tensorflow-gpu==2.10.0) (2.10.0)\n",
      "Requirement already satisfied: google-auth<3,>=1.6.3 in c:\\users\\utsav\\miniconda3\\envs\\tf\\lib\\site-packages (from tensorboard<2.11,>=2.10->tensorflow-gpu==2.10.0) (2.40.1)\n",
      "Requirement already satisfied: google-auth-oauthlib<0.5,>=0.4.1 in c:\\users\\utsav\\miniconda3\\envs\\tf\\lib\\site-packages (from tensorboard<2.11,>=2.10->tensorflow-gpu==2.10.0) (0.4.6)\n",
      "Requirement already satisfied: markdown>=2.6.8 in c:\\users\\utsav\\miniconda3\\envs\\tf\\lib\\site-packages (from tensorboard<2.11,>=2.10->tensorflow-gpu==2.10.0) (3.8)\n",
      "Requirement already satisfied: requests<3,>=2.21.0 in c:\\users\\utsav\\miniconda3\\envs\\tf\\lib\\site-packages (from tensorboard<2.11,>=2.10->tensorflow-gpu==2.10.0) (2.32.3)\n",
      "Requirement already satisfied: tensorboard-data-server<0.7.0,>=0.6.0 in c:\\users\\utsav\\miniconda3\\envs\\tf\\lib\\site-packages (from tensorboard<2.11,>=2.10->tensorflow-gpu==2.10.0) (0.6.1)\n",
      "Requirement already satisfied: tensorboard-plugin-wit>=1.6.0 in c:\\users\\utsav\\miniconda3\\envs\\tf\\lib\\site-packages (from tensorboard<2.11,>=2.10->tensorflow-gpu==2.10.0) (1.8.1)\n",
      "Requirement already satisfied: werkzeug>=1.0.1 in c:\\users\\utsav\\miniconda3\\envs\\tf\\lib\\site-packages (from tensorboard<2.11,>=2.10->tensorflow-gpu==2.10.0) (3.1.3)\n",
      "Requirement already satisfied: wheel>=0.26 in c:\\users\\utsav\\miniconda3\\envs\\tf\\lib\\site-packages (from tensorboard<2.11,>=2.10->tensorflow-gpu==2.10.0) (0.45.1)\n",
      "Requirement already satisfied: cachetools<6.0,>=2.0.0 in c:\\users\\utsav\\miniconda3\\envs\\tf\\lib\\site-packages (from google-auth<3,>=1.6.3->tensorboard<2.11,>=2.10->tensorflow-gpu==2.10.0) (5.5.2)\n",
      "Requirement already satisfied: pyasn1-modules>=0.2.1 in c:\\users\\utsav\\miniconda3\\envs\\tf\\lib\\site-packages (from google-auth<3,>=1.6.3->tensorboard<2.11,>=2.10->tensorflow-gpu==2.10.0) (0.4.2)\n",
      "Requirement already satisfied: rsa<5,>=3.1.4 in c:\\users\\utsav\\miniconda3\\envs\\tf\\lib\\site-packages (from google-auth<3,>=1.6.3->tensorboard<2.11,>=2.10->tensorflow-gpu==2.10.0) (4.9.1)\n",
      "Requirement already satisfied: requests-oauthlib>=0.7.0 in c:\\users\\utsav\\miniconda3\\envs\\tf\\lib\\site-packages (from google-auth-oauthlib<0.5,>=0.4.1->tensorboard<2.11,>=2.10->tensorflow-gpu==2.10.0) (2.0.0)\n",
      "Requirement already satisfied: charset-normalizer<4,>=2 in c:\\users\\utsav\\miniconda3\\envs\\tf\\lib\\site-packages (from requests<3,>=2.21.0->tensorboard<2.11,>=2.10->tensorflow-gpu==2.10.0) (3.4.2)\n",
      "Requirement already satisfied: idna<4,>=2.5 in c:\\users\\utsav\\miniconda3\\envs\\tf\\lib\\site-packages (from requests<3,>=2.21.0->tensorboard<2.11,>=2.10->tensorflow-gpu==2.10.0) (3.10)\n",
      "Requirement already satisfied: urllib3<3,>=1.21.1 in c:\\users\\utsav\\miniconda3\\envs\\tf\\lib\\site-packages (from requests<3,>=2.21.0->tensorboard<2.11,>=2.10->tensorflow-gpu==2.10.0) (2.4.0)\n",
      "Requirement already satisfied: certifi>=2017.4.17 in c:\\users\\utsav\\miniconda3\\envs\\tf\\lib\\site-packages (from requests<3,>=2.21.0->tensorboard<2.11,>=2.10->tensorflow-gpu==2.10.0) (2025.4.26)\n",
      "Requirement already satisfied: pyasn1>=0.1.3 in c:\\users\\utsav\\miniconda3\\envs\\tf\\lib\\site-packages (from rsa<5,>=3.1.4->google-auth<3,>=1.6.3->tensorboard<2.11,>=2.10->tensorflow-gpu==2.10.0) (0.6.1)\n",
      "Requirement already satisfied: oauthlib>=3.0.0 in c:\\users\\utsav\\miniconda3\\envs\\tf\\lib\\site-packages (from requests-oauthlib>=0.7.0->google-auth-oauthlib<0.5,>=0.4.1->tensorboard<2.11,>=2.10->tensorflow-gpu==2.10.0) (3.2.2)\n",
      "Requirement already satisfied: MarkupSafe>=2.1.1 in c:\\users\\utsav\\miniconda3\\envs\\tf\\lib\\site-packages (from werkzeug>=1.0.1->tensorboard<2.11,>=2.10->tensorflow-gpu==2.10.0) (3.0.2)\n"
     ]
    }
   ],
   "source": [
    "!pip install tensorflow-gpu==2.10.0"
   ]
  },
  {
   "cell_type": "code",
   "execution_count": 3,
   "id": "8395e8f5",
   "metadata": {},
   "outputs": [
    {
     "name": "stdout",
     "output_type": "stream",
     "text": [
      "Requirement already satisfied: opencv-python in c:\\users\\utsav\\miniconda3\\envs\\tf\\lib\\site-packages (4.11.0.86)\n",
      "Requirement already satisfied: numpy>=1.21.2 in c:\\users\\utsav\\miniconda3\\envs\\tf\\lib\\site-packages (from opencv-python) (1.23.0)\n"
     ]
    }
   ],
   "source": [
    "!pip install opencv-python"
   ]
  },
  {
   "cell_type": "code",
   "execution_count": 4,
   "id": "bd34b0fb",
   "metadata": {},
   "outputs": [
    {
     "name": "stdout",
     "output_type": "stream",
     "text": [
      "Requirement already satisfied: matplotlib in c:\\users\\utsav\\miniconda3\\envs\\tf\\lib\\site-packages (3.10.3)\n",
      "Requirement already satisfied: contourpy>=1.0.1 in c:\\users\\utsav\\miniconda3\\envs\\tf\\lib\\site-packages (from matplotlib) (1.3.2)\n",
      "Requirement already satisfied: cycler>=0.10 in c:\\users\\utsav\\miniconda3\\envs\\tf\\lib\\site-packages (from matplotlib) (0.12.1)\n",
      "Requirement already satisfied: fonttools>=4.22.0 in c:\\users\\utsav\\miniconda3\\envs\\tf\\lib\\site-packages (from matplotlib) (4.58.0)\n",
      "Requirement already satisfied: kiwisolver>=1.3.1 in c:\\users\\utsav\\miniconda3\\envs\\tf\\lib\\site-packages (from matplotlib) (1.4.8)\n",
      "Requirement already satisfied: numpy>=1.23 in c:\\users\\utsav\\miniconda3\\envs\\tf\\lib\\site-packages (from matplotlib) (1.23.0)\n",
      "Requirement already satisfied: packaging>=20.0 in c:\\users\\utsav\\miniconda3\\envs\\tf\\lib\\site-packages (from matplotlib) (25.0)\n",
      "Requirement already satisfied: pillow>=8 in c:\\users\\utsav\\miniconda3\\envs\\tf\\lib\\site-packages (from matplotlib) (11.2.1)\n",
      "Requirement already satisfied: pyparsing>=2.3.1 in c:\\users\\utsav\\miniconda3\\envs\\tf\\lib\\site-packages (from matplotlib) (3.2.3)\n",
      "Requirement already satisfied: python-dateutil>=2.7 in c:\\users\\utsav\\miniconda3\\envs\\tf\\lib\\site-packages (from matplotlib) (2.9.0.post0)\n",
      "Requirement already satisfied: six>=1.5 in c:\\users\\utsav\\miniconda3\\envs\\tf\\lib\\site-packages (from python-dateutil>=2.7->matplotlib) (1.17.0)\n"
     ]
    }
   ],
   "source": [
    "!pip install matplotlib"
   ]
  },
  {
   "cell_type": "markdown",
   "id": "c7119246",
   "metadata": {},
   "source": [
    "# Import Dependencies"
   ]
  },
  {
   "cell_type": "code",
   "execution_count": 5,
   "id": "2f457297",
   "metadata": {},
   "outputs": [],
   "source": [
    "#importing standard dependencies\n",
    "\n",
    "import cv2\n",
    "import os\n",
    "import random\n",
    "import time\n",
    "import numpy as np\n",
    "import requests\n",
    "from matplotlib import pyplot as plt"
   ]
  },
  {
   "cell_type": "code",
   "execution_count": 6,
   "id": "4068b832",
   "metadata": {},
   "outputs": [],
   "source": [
    "#imporing tensorflow dependencies - Functional API\n",
    "\n",
    "from tensorflow.keras.models import Model\n",
    "from tensorflow.keras.layers import Layer, Conv2D, Dense, MaxPooling2D, Input, Flatten\n",
    "import tensorflow as tf\n"
   ]
  },
  {
   "cell_type": "markdown",
   "id": "ce1b2fce",
   "metadata": {},
   "source": [
    "# Set GPU Growth\n",
    "\n",
    "#### This is to avoid the out of memory error and limit the GPU usage\n",
    "#### If memory growth is enabled for a PhysicalDevice, the runtime initialization will not allocate all memory on the device."
   ]
  },
  {
   "cell_type": "code",
   "execution_count": 7,
   "id": "700baacd",
   "metadata": {},
   "outputs": [
    {
     "name": "stdout",
     "output_type": "stream",
     "text": [
      "Num GPUs: 0\n"
     ]
    }
   ],
   "source": [
    "#check the number of available GPU and also check if tensorflow is detecting it\n",
    "physical_devices = tf.config.list_physical_devices('GPU')\n",
    "print(\"Num GPUs:\", len(physical_devices))"
   ]
  },
  {
   "cell_type": "code",
   "execution_count": 8,
   "id": "1ece9341",
   "metadata": {},
   "outputs": [
    {
     "data": {
      "text/plain": [
       "[name: \"/device:CPU:0\"\n",
       " device_type: \"CPU\"\n",
       " memory_limit: 268435456\n",
       " locality {\n",
       " }\n",
       " incarnation: 16890474213856587283\n",
       " xla_global_id: -1]"
      ]
     },
     "execution_count": 8,
     "metadata": {},
     "output_type": "execute_result"
    }
   ],
   "source": [
    "#getting the details of the GPU\n",
    "from tensorflow.python.client import device_lib\n",
    "device_lib.list_local_devices()"
   ]
  },
  {
   "cell_type": "code",
   "execution_count": 9,
   "id": "e8ff88f4",
   "metadata": {},
   "outputs": [],
   "source": [
    "#setting memory growth for GPU\n",
    "gpus = tf.config.experimental.list_physical_devices('GPU')\n",
    "for gpu in gpus: \n",
    "    tf.config.experimental.set_memory_growth(gpu, True)"
   ]
  },
  {
   "cell_type": "markdown",
   "id": "90048f88",
   "metadata": {},
   "source": [
    "# Create folder structure"
   ]
  },
  {
   "cell_type": "code",
   "execution_count": 10,
   "id": "0429f151",
   "metadata": {},
   "outputs": [
    {
     "data": {
      "text/plain": [
       "'C:\\\\Users\\\\Utsav\\\\AppData\\\\Local\\\\Temp'"
      ]
     },
     "execution_count": 10,
     "metadata": {},
     "output_type": "execute_result"
    }
   ],
   "source": [
    "import tempfile\n",
    "\n",
    "temp_dir = tempfile.gettempdir() # retrieves the system's temporary directory\n",
    "\n",
    "temp_dir"
   ]
  },
  {
   "cell_type": "code",
   "execution_count": 11,
   "id": "7eab77df",
   "metadata": {},
   "outputs": [
    {
     "name": "stdout",
     "output_type": "stream",
     "text": [
      "Positive path:  C:\\Users\\Utsav\\AppData\\Local\\Temp\\data\\positive\n",
      "Negative path:  C:\\Users\\Utsav\\AppData\\Local\\Temp\\data\\negative\n",
      "Anchor path:  C:\\Users\\Utsav\\AppData\\Local\\Temp\\data\\anchor\n"
     ]
    }
   ],
   "source": [
    "# Setup paths in temp dir\n",
    "POS_PATH = os.path.join(temp_dir,'data', 'positive')\n",
    "NEG_PATH = os.path.join(temp_dir,'data', 'negative')\n",
    "ANC_PATH = os.path.join(temp_dir,'data', 'anchor')\n",
    "\n",
    "print(\"Positive path: \",POS_PATH)\n",
    "print(\"Negative path: \",NEG_PATH)\n",
    "print(\"Anchor path: \",ANC_PATH)"
   ]
  },
  {
   "cell_type": "code",
   "execution_count": 12,
   "id": "54e2e4c0",
   "metadata": {},
   "outputs": [],
   "source": [
    "\n",
    "# Make the directories\n",
    "if not os.path.exists(POS_PATH):\n",
    "    os.makedirs(POS_PATH)\n",
    "if not os.path.exists(NEG_PATH):\n",
    "    os.makedirs(NEG_PATH)\n",
    "if not os.path.exists(ANC_PATH):\n",
    "    os.makedirs(ANC_PATH)"
   ]
  },
  {
   "cell_type": "markdown",
   "id": "afefb42b",
   "metadata": {},
   "source": [
    "# Collect Positives,Negatives and Anchors"
   ]
  },
  {
   "cell_type": "markdown",
   "id": "0fe66bb8",
   "metadata": {},
   "source": [
    "#### Negatives collection from existing dataset"
   ]
  },
  {
   "cell_type": "code",
   "execution_count": 28,
   "id": "615416b3",
   "metadata": {},
   "outputs": [],
   "source": [
    "from urllib import request\n",
    "\n",
    "url = \"https://figshare.com/ndownloader/files/5976018/lfw.tgz\"\n",
    "target_path = os.path.join(NEG_PATH,\"lfw.tgz\")\n",
    "\n",
    "with request.urlopen(request.Request(url), timeout=15.0) as response:\n",
    "    if response.status == 200:\n",
    "        with open(target_path, \"wb\") as f:\n",
    "            f.write(response.read())"
   ]
  },
  {
   "cell_type": "code",
   "execution_count": 29,
   "id": "a0f6ea00",
   "metadata": {},
   "outputs": [],
   "source": [
    "import tarfile\n",
    "\n",
    "def uncompress_tar(tar_filepath, extract_path):\n",
    "    try:\n",
    "        with tarfile.open(tar_filepath, 'r') as tar:\n",
    "            tar.extractall(path=extract_path)\n",
    "        print(f\"Successfully extracted '{tar_filepath}' to '{extract_path}'\")\n",
    "    except FileNotFoundError:\n",
    "        print(f\"Error: Tar file '{tar_filepath}' not found.\")\n",
    "    except tarfile.ReadError as e:\n",
    "         print(f\"Error: Could not open '{tar_filepath}'. It may be corrupted or not a valid tar file. Details: {e}\")\n",
    "    except Exception as e:\n",
    "        print(f\"An unexpected error occurred: {e}\")"
   ]
  },
  {
   "cell_type": "code",
   "execution_count": 30,
   "id": "33bd74ef",
   "metadata": {},
   "outputs": [
    {
     "name": "stdout",
     "output_type": "stream",
     "text": [
      "Successfully extracted 'C:\\Users\\Utsav\\AppData\\Local\\Temp\\data\\negative\\lfw.tgz' to 'C:\\Users\\Utsav\\AppData\\Local\\Temp\\data\\negative'\n"
     ]
    }
   ],
   "source": [
    "uncompress_tar(target_path,NEG_PATH)"
   ]
  },
  {
   "cell_type": "code",
   "execution_count": 31,
   "id": "8e702c36",
   "metadata": {},
   "outputs": [],
   "source": [
    "# Move LFW Images to the following repository data/negative\n",
    "for directory in os.listdir(os.path.join(NEG_PATH,\"lfw\")):\n",
    "    for file in os.listdir(os.path.join(os.path.join(NEG_PATH,\"lfw\"), directory)):\n",
    "        EX_PATH = os.path.join(os.path.join(NEG_PATH,\"lfw\"), directory, file)\n",
    "        NEW_PATH = os.path.join(NEG_PATH, file)\n",
    "        os.replace(EX_PATH, NEW_PATH)"
   ]
  },
  {
   "cell_type": "code",
   "execution_count": 32,
   "id": "41a7ae80",
   "metadata": {},
   "outputs": [],
   "source": [
    "import shutil\n",
    "# removing the tar and extracted folder from NEG_PATh\n",
    "os.remove(target_path)\n",
    "shutil.rmtree(os.path.join(NEG_PATH,\"lfw\"))"
   ]
  },
  {
   "cell_type": "markdown",
   "id": "71c30c75",
   "metadata": {},
   "source": [
    "#### Positive collection from webcam"
   ]
  },
  {
   "cell_type": "code",
   "execution_count": 17,
   "id": "6f8ea9b4",
   "metadata": {},
   "outputs": [],
   "source": [
    "# importing uuid library to geenrate unique image names\n",
    "import uuid"
   ]
  },
  {
   "cell_type": "code",
   "execution_count": 35,
   "id": "bda7c1f0",
   "metadata": {},
   "outputs": [],
   "source": [
    "cap = cv2.VideoCapture(0)\n",
    "\n",
    "# Set the capture duration to 5 minutes (300 seconds)\n",
    "capture_duration = 30\n",
    "\n",
    "# Record start time\n",
    "start_time = time.time()\n",
    "\n",
    "while(int(time.time() - start_time) < capture_duration):\n",
    "    ret, frame = cap.read()\n",
    "\n",
    "    #to capture only 250x250px to make all images a standard size\n",
    "    frame = frame[120:120+250,200:200+250,:]\n",
    "\n",
    "    #to rectify the lateral inversion\n",
    "    flipped_frame = cv2.flip(frame, 1)\n",
    "\n",
    "    cv2.waitKey(1)\n",
    "\n",
    "    # Create the unique file path \n",
    "    imgname = os.path.join(POS_PATH, '{}.jpg'.format(uuid.uuid1()))\n",
    "    \n",
    "    # Write out anchor image\n",
    "    cv2.imwrite(imgname, frame)\n",
    "\n",
    "    cv2.imshow('Image collection',flipped_frame)\n",
    "   \n",
    "\n",
    "cap.release()\n",
    "cv2.destroyAllWindows()"
   ]
  },
  {
   "cell_type": "markdown",
   "id": "4ecfc2a2",
   "metadata": {},
   "source": [
    "#### Anchor collection from webcam"
   ]
  },
  {
   "cell_type": "code",
   "execution_count": 36,
   "id": "f735bfaa",
   "metadata": {},
   "outputs": [],
   "source": [
    "cap = cv2.VideoCapture(0)\n",
    "\n",
    "# Set the capture duration to 5 minutes (300 seconds)\n",
    "capture_duration = 30\n",
    "\n",
    "# Record start time\n",
    "start_time = time.time()\n",
    "\n",
    "while(int(time.time() - start_time) < capture_duration):\n",
    "    ret, frame = cap.read()\n",
    "\n",
    "    #to capture only 250x250px to make all images a standard size\n",
    "    frame = frame[120:120+250,200:200+250,:]\n",
    "\n",
    "    #to rectify the lateral inversion\n",
    "    flipped_frame = cv2.flip(frame, 1)\n",
    "\n",
    "    cv2.waitKey(1)\n",
    "\n",
    "    # Create the unique file path \n",
    "    imgname = os.path.join(ANC_PATH, '{}.jpg'.format(uuid.uuid1()))\n",
    "    \n",
    "    # Write out anchor image\n",
    "    cv2.imwrite(imgname, frame)\n",
    "\n",
    "    cv2.imshow('Image collection',flipped_frame)\n",
    "   \n",
    "\n",
    "cap.release()\n",
    "cv2.destroyAllWindows()"
   ]
  },
  {
   "cell_type": "markdown",
   "id": "17ab264b",
   "metadata": {},
   "source": [
    "# Data Augmentation"
   ]
  },
  {
   "cell_type": "code",
   "execution_count": 37,
   "id": "a3a1f1d0",
   "metadata": {},
   "outputs": [],
   "source": [
    "def data_aug(img):\n",
    "    data = []\n",
    "    for i in range(9):\n",
    "        img = tf.image.stateless_random_brightness(img, max_delta=0.02, seed=(1,2))\n",
    "        img = tf.image.stateless_random_contrast(img, lower=0.6, upper=1, seed=(1,3))\n",
    "        # img = tf.image.stateless_random_crop(img, size=(20,20,3), seed=(1,2))\n",
    "        img = tf.image.stateless_random_flip_left_right(img, seed=(np.random.randint(100),np.random.randint(100)))\n",
    "        img = tf.image.stateless_random_jpeg_quality(img, min_jpeg_quality=90, max_jpeg_quality=100, seed=(np.random.randint(100),np.random.randint(100)))\n",
    "        img = tf.image.stateless_random_saturation(img, lower=0.9,upper=1, seed=(np.random.randint(100),np.random.randint(100)))\n",
    "            \n",
    "        data.append(img)\n",
    "    \n",
    "    return data"
   ]
  },
  {
   "cell_type": "code",
   "execution_count": 38,
   "id": "3f17559c",
   "metadata": {},
   "outputs": [],
   "source": [
    "for file_name in os.listdir(os.path.join(ANC_PATH)):\n",
    "    img_path = os.path.join(ANC_PATH, file_name)\n",
    "    img = cv2.imread(img_path)\n",
    "    augmented_images = data_aug(img) \n",
    "    \n",
    "    for image in augmented_images:\n",
    "        cv2.imwrite(os.path.join(ANC_PATH, '{}.jpg'.format(uuid.uuid1())), image.numpy())"
   ]
  },
  {
   "cell_type": "code",
   "execution_count": 39,
   "id": "73f9a445",
   "metadata": {},
   "outputs": [],
   "source": [
    "for file_name in os.listdir(os.path.join(POS_PATH)):\n",
    "    img_path = os.path.join(POS_PATH, file_name)\n",
    "    img = cv2.imread(img_path)\n",
    "    augmented_images = data_aug(img) \n",
    "    \n",
    "    for image in augmented_images:\n",
    "        cv2.imwrite(os.path.join(POS_PATH, '{}.jpg'.format(uuid.uuid1())), image.numpy())"
   ]
  },
  {
   "cell_type": "markdown",
   "id": "67c467c6",
   "metadata": {},
   "source": [
    "# Load and Preprocess Images"
   ]
  },
  {
   "cell_type": "markdown",
   "id": "d403c305",
   "metadata": {},
   "source": [
    "#### Get images directories"
   ]
  },
  {
   "cell_type": "code",
   "execution_count": 40,
   "id": "ebd105e7",
   "metadata": {},
   "outputs": [],
   "source": [
    "anchor = tf.data.Dataset.list_files(ANC_PATH+'\\*.jpg').take(300)\n",
    "positive = tf.data.Dataset.list_files(POS_PATH+'\\*.jpg').take(300)\n",
    "negative = tf.data.Dataset.list_files(NEG_PATH+'\\*.jpg').take(300)"
   ]
  },
  {
   "cell_type": "code",
   "execution_count": 41,
   "id": "d7e320b6",
   "metadata": {},
   "outputs": [],
   "source": [
    "dir_test = anchor.as_numpy_iterator()"
   ]
  },
  {
   "cell_type": "code",
   "execution_count": 42,
   "id": "91ca5964",
   "metadata": {},
   "outputs": [
    {
     "name": "stdout",
     "output_type": "stream",
     "text": [
      "b'C:\\\\Users\\\\Utsav\\\\AppData\\\\Local\\\\Temp\\\\data\\\\anchor\\\\0b32e25c-376e-11f0-abec-000d3af0c63d.jpg'\n"
     ]
    }
   ],
   "source": [
    "#to check if the iterator is reading all the imaage path\n",
    "print(dir_test.next())"
   ]
  },
  {
   "cell_type": "markdown",
   "id": "7f254520",
   "metadata": {},
   "source": [
    "#### Preprocessing - Scale and Resize"
   ]
  },
  {
   "cell_type": "code",
   "execution_count": 43,
   "id": "527badc3",
   "metadata": {},
   "outputs": [],
   "source": [
    "def preprocess(file_path):\n",
    "    \n",
    "    # Read in image from file path\n",
    "    byte_img = tf.io.read_file(file_path)\n",
    "    # Load in the image \n",
    "    img = tf.io.decode_jpeg(byte_img)\n",
    "    \n",
    "    # Preprocessing steps - resizing the image to be 100x100x3\n",
    "    img = tf.image.resize(img, (100,100))\n",
    "    # Scale image to be between 0 and 1 \n",
    "    img = img / 255.0\n",
    "    \n",
    "    # Return image\n",
    "    return img"
   ]
  },
  {
   "cell_type": "code",
   "execution_count": 44,
   "id": "171e0573",
   "metadata": {},
   "outputs": [],
   "source": [
    "img = preprocess(dir_test.next())"
   ]
  },
  {
   "cell_type": "code",
   "execution_count": 45,
   "id": "43c201af",
   "metadata": {},
   "outputs": [
    {
     "data": {
      "text/plain": [
       "array([[[0.7894608 , 0.84436274, 0.7855392 ],\n",
       "        [0.7882353 , 0.84313726, 0.7862745 ],\n",
       "        [0.79509807, 0.85      , 0.79901963],\n",
       "        ...,\n",
       "        [0.8029412 , 0.8303922 , 0.79901963],\n",
       "        [0.79338235, 0.8208333 , 0.7894608 ],\n",
       "        [0.7941176 , 0.8137255 , 0.7862745 ]],\n",
       "\n",
       "       [[0.7830882 , 0.84093136, 0.78112745],\n",
       "        [0.77916664, 0.83406866, 0.7752451 ],\n",
       "        [0.78210783, 0.8370098 , 0.782598  ],\n",
       "        ...,\n",
       "        [0.7970588 , 0.8245098 , 0.79313725],\n",
       "        [0.79093134, 0.8183824 , 0.7870098 ],\n",
       "        [0.78431374, 0.80588233, 0.77843136]],\n",
       "\n",
       "       [[0.7747549 , 0.83259803, 0.7727941 ],\n",
       "        [0.7747549 , 0.82965684, 0.7708333 ],\n",
       "        [0.78137255, 0.8362745 , 0.777451  ],\n",
       "        ...,\n",
       "        [0.7855392 , 0.8151961 , 0.7772059 ],\n",
       "        [0.78039217, 0.80784315, 0.7764706 ],\n",
       "        [0.777451  , 0.80490196, 0.777451  ]],\n",
       "\n",
       "       ...,\n",
       "\n",
       "       [[0.7443628 , 0.83455884, 0.79534316],\n",
       "        [0.7490196 , 0.8392157 , 0.80196077],\n",
       "        [0.7529412 , 0.84313726, 0.80588233],\n",
       "        ...,\n",
       "        [0.7259804 , 0.8102941 , 0.7642157 ],\n",
       "        [0.7240196 , 0.80833334, 0.7622549 ],\n",
       "        [0.7176471 , 0.8039216 , 0.7529412 ]],\n",
       "\n",
       "       [[0.74607843, 0.8362745 , 0.7970588 ],\n",
       "        [0.74509805, 0.8352941 , 0.7980392 ],\n",
       "        [0.7468137 , 0.8370098 , 0.7997549 ],\n",
       "        ...,\n",
       "        [0.7367647 , 0.80857843, 0.7676471 ],\n",
       "        [0.7269608 , 0.80539215, 0.7622549 ],\n",
       "        [0.7245098 , 0.81078434, 0.75980395]],\n",
       "\n",
       "       [[0.7519608 , 0.8421569 , 0.8029412 ],\n",
       "        [0.74019605, 0.8303922 , 0.79313725],\n",
       "        [0.7529412 , 0.84313726, 0.80588233],\n",
       "        ...,\n",
       "        [0.7355392 , 0.80220586, 0.7629902 ],\n",
       "        [0.7316176 , 0.80710787, 0.764951  ],\n",
       "        [0.73333335, 0.81960785, 0.76862746]]], dtype=float32)"
      ]
     },
     "execution_count": 45,
     "metadata": {},
     "output_type": "execute_result"
    }
   ],
   "source": [
    "img.numpy()"
   ]
  },
  {
   "cell_type": "code",
   "execution_count": 46,
   "id": "840f366f",
   "metadata": {},
   "outputs": [
    {
     "data": {
      "text/plain": [
       "<matplotlib.image.AxesImage at 0x24402a12560>"
      ]
     },
     "execution_count": 46,
     "metadata": {},
     "output_type": "execute_result"
    },
    {
     "data": {
      "image/png": "[encoded data removed]",
      "text/plain": [
       "<Figure size 640x480 with 1 Axes>"
      ]
     },
     "metadata": {},
     "output_type": "display_data"
    }
   ],
   "source": [
    "#to check the scaling is working. We will see the image size should be 100x100px\n",
    "plt.imshow(img)"
   ]
  },
  {
   "cell_type": "markdown",
   "id": "3493f9b0",
   "metadata": {},
   "source": [
    "#### Create Labelled Dataset"
   ]
  },
  {
   "cell_type": "code",
   "execution_count": 47,
   "id": "f4976573",
   "metadata": {},
   "outputs": [],
   "source": [
    "# (anchor, positive) => 1,1,1,1,1\n",
    "# (anchor, negative) => 0,0,0,0,0"
   ]
  },
  {
   "cell_type": "code",
   "execution_count": 48,
   "id": "bab052cc",
   "metadata": {},
   "outputs": [],
   "source": [
    "positives = tf.data.Dataset.zip((anchor, positive, tf.data.Dataset.from_tensor_slices(tf.ones(len(anchor)))))\n",
    "negatives = tf.data.Dataset.zip((anchor, negative, tf.data.Dataset.from_tensor_slices(tf.zeros(len(anchor)))))\n",
    "data = positives.concatenate(negatives)"
   ]
  },
  {
   "cell_type": "code",
   "execution_count": 49,
   "id": "3a1cabd0",
   "metadata": {},
   "outputs": [],
   "source": [
    "samples = data.as_numpy_iterator()"
   ]
  },
  {
   "cell_type": "code",
   "execution_count": 50,
   "id": "25f15674",
   "metadata": {},
   "outputs": [],
   "source": [
    "example = samples.next()"
   ]
  },
  {
   "cell_type": "code",
   "execution_count": 51,
   "id": "0a3a9d3a",
   "metadata": {},
   "outputs": [
    {
     "data": {
      "text/plain": [
       "(b'C:\\\\Users\\\\Utsav\\\\AppData\\\\Local\\\\Temp\\\\data\\\\anchor\\\\01e35ab0-376e-11f0-894c-000d3af0c63d.jpg',\n",
       " b'C:\\\\Users\\\\Utsav\\\\AppData\\\\Local\\\\Temp\\\\data\\\\positive\\\\22a3775e-376e-11f0-a1c0-000d3af0c63d.jpg',\n",
       " 1.0)"
      ]
     },
     "execution_count": 51,
     "metadata": {},
     "output_type": "execute_result"
    }
   ],
   "source": [
    "example"
   ]
  },
  {
   "cell_type": "markdown",
   "id": "64b94e10",
   "metadata": {},
   "source": [
    "#### Build Train and Test Partition"
   ]
  },
  {
   "cell_type": "code",
   "execution_count": 52,
   "id": "8bf598e3",
   "metadata": {},
   "outputs": [],
   "source": [
    "def preprocess_twin(input_img, validation_img, label):\n",
    "    return(preprocess(input_img), preprocess(validation_img), label)"
   ]
  },
  {
   "cell_type": "code",
   "execution_count": 53,
   "id": "4f2b0fcc",
   "metadata": {},
   "outputs": [],
   "source": [
    "res = preprocess_twin(*example)"
   ]
  },
  {
   "cell_type": "code",
   "execution_count": 54,
   "id": "46ba84ae",
   "metadata": {},
   "outputs": [
    {
     "data": {
      "text/plain": [
       "(<tf.Tensor: shape=(100, 100, 3), dtype=float32, numpy=\n",
       " array([[[0.79534316, 0.82279414, 0.7914216 ],\n",
       "         [0.7889706 , 0.81936276, 0.7870098 ],\n",
       "         [0.79019606, 0.82941175, 0.7941176 ],\n",
       "         ...,\n",
       "         [0.8004902 , 0.80833334, 0.79068625],\n",
       "         [0.7889706 , 0.7968137 , 0.79093134],\n",
       "         [0.7862745 , 0.7941176 , 0.79019606]],\n",
       " \n",
       "        [[0.782598  , 0.8129902 , 0.78161764],\n",
       "         [0.7796569 , 0.8188726 , 0.78455883],\n",
       "         [0.7828431 , 0.82279414, 0.7884804 ],\n",
       "         ...,\n",
       "         [0.79632354, 0.80269605, 0.7872549 ],\n",
       "         [0.7887255 , 0.79656863, 0.7892157 ],\n",
       "         [0.7735294 , 0.7892157 , 0.7852941 ]],\n",
       " \n",
       "        [[0.76960784, 0.8088235 , 0.777451  ],\n",
       "         [0.77009803, 0.8122549 , 0.78088236],\n",
       "         [0.7769608 , 0.81985295, 0.7884804 ],\n",
       "         ...,\n",
       "         [0.7870098 , 0.7889706 , 0.7801471 ],\n",
       "         [0.775     , 0.7894608 , 0.7754902 ],\n",
       "         [0.76960784, 0.7882353 , 0.7754902 ]],\n",
       " \n",
       "        ...,\n",
       " \n",
       "        [[0.75686276, 0.81960785, 0.80784315],\n",
       "         [0.75686276, 0.81960785, 0.80784315],\n",
       "         [0.75759804, 0.82034314, 0.80857843],\n",
       "         ...,\n",
       "         [0.6970588 , 0.78137255, 0.7529412 ],\n",
       "         [0.7007353 , 0.79093134, 0.7595588 ],\n",
       "         [0.69215685, 0.7823529 , 0.7509804 ]],\n",
       " \n",
       "        [[0.75759804, 0.82034314, 0.80857843],\n",
       "         [0.75686276, 0.81960785, 0.80784315],\n",
       "         [0.75759804, 0.82034314, 0.80857843],\n",
       "         ...,\n",
       "         [0.69534314, 0.77818626, 0.7504902 ],\n",
       "         [0.7004902 , 0.7892157 , 0.7585784 ],\n",
       "         [0.7       , 0.79019606, 0.7588235 ]],\n",
       " \n",
       "        [[0.75      , 0.8127451 , 0.8009804 ],\n",
       "         [0.75392157, 0.81666666, 0.80490196],\n",
       "         [0.7529412 , 0.8156863 , 0.8039216 ],\n",
       "         ...,\n",
       "         [0.6897059 , 0.77205884, 0.752451  ],\n",
       "         [0.71838236, 0.8007353 , 0.7752451 ],\n",
       "         [0.69803923, 0.7882353 , 0.75686276]]], dtype=float32)>,\n",
       " <tf.Tensor: shape=(100, 100, 3), dtype=float32, numpy=\n",
       " array([[[0.7992647 , 0.7992647 , 0.7914216 ],\n",
       "         [0.8041667 , 0.8041667 , 0.7982843 ],\n",
       "         [0.8095588 , 0.8154412 , 0.8125    ],\n",
       "         ...,\n",
       "         [0.7884804 , 0.83161765, 0.8159314 ],\n",
       "         [0.7764706 , 0.82254905, 0.8068628 ],\n",
       "         [0.77843136, 0.8254902 , 0.8098039 ]],\n",
       " \n",
       "        [[0.79044116, 0.79044116, 0.782598  ],\n",
       "         [0.79338235, 0.7968137 , 0.7892157 ],\n",
       "         [0.79901963, 0.8068628 , 0.8029412 ],\n",
       "         ...,\n",
       "         [0.7735294 , 0.82058823, 0.80490196],\n",
       "         [0.7637255 , 0.81078434, 0.79509807],\n",
       "         [0.77254903, 0.81960785, 0.8039216 ]],\n",
       " \n",
       "        [[0.78137255, 0.7872549 , 0.7764706 ],\n",
       "         [0.78063726, 0.7884804 , 0.7830882 ],\n",
       "         [0.7914216 , 0.7992647 , 0.79534316],\n",
       "         ...,\n",
       "         [0.7735294 , 0.82058823, 0.80490196],\n",
       "         [0.76666665, 0.8137255 , 0.7980392 ],\n",
       "         [0.76862746, 0.8156863 , 0.8       ]],\n",
       " \n",
       "        ...,\n",
       " \n",
       "        [[0.6666667 , 0.78039217, 0.7637255 ],\n",
       "         [0.6671569 , 0.7884804 , 0.7644608 ],\n",
       "         [0.6811274 , 0.7892157 , 0.7629902 ],\n",
       "         ...,\n",
       "         [0.7176471 , 0.83137256, 0.8117647 ],\n",
       "         [0.7176471 , 0.83137256, 0.8117647 ],\n",
       "         [0.7176471 , 0.83137256, 0.8117647 ]],\n",
       " \n",
       "        [[0.6634804 , 0.7772059 , 0.75759804],\n",
       "         [0.66764706, 0.7882353 , 0.7583333 ],\n",
       "         [0.68333334, 0.7862745 , 0.7651961 ],\n",
       "         ...,\n",
       "         [0.7176471 , 0.83137256, 0.8117647 ],\n",
       "         [0.7176471 , 0.83137256, 0.8117647 ],\n",
       "         [0.7176471 , 0.83137256, 0.8117647 ]],\n",
       " \n",
       "        [[0.6747549 , 0.79240197, 0.7610294 ],\n",
       "         [0.6723039 , 0.79289216, 0.7615196 ],\n",
       "         [0.67107844, 0.7710784 , 0.752451  ],\n",
       "         ...,\n",
       "         [0.7176471 , 0.83137256, 0.8117647 ],\n",
       "         [0.7176471 , 0.83137256, 0.8117647 ],\n",
       "         [0.7176471 , 0.83137256, 0.8117647 ]]], dtype=float32)>,\n",
       " 1.0)"
      ]
     },
     "execution_count": 54,
     "metadata": {},
     "output_type": "execute_result"
    }
   ],
   "source": [
    "res"
   ]
  },
  {
   "cell_type": "code",
   "execution_count": 55,
   "id": "fe511187",
   "metadata": {},
   "outputs": [
    {
     "data": {
      "text/plain": [
       "<matplotlib.image.AxesImage at 0x24402c7af50>"
      ]
     },
     "execution_count": 55,
     "metadata": {},
     "output_type": "execute_result"
    },
    {
     "data": {
      "image/png": "[encoded data removed]",
      "text/plain": [
       "<Figure size 640x480 with 1 Axes>"
      ]
     },
     "metadata": {},
     "output_type": "display_data"
    }
   ],
   "source": [
    "plt.imshow(res[0])"
   ]
  },
  {
   "cell_type": "code",
   "execution_count": 56,
   "id": "cf02ac7b",
   "metadata": {},
   "outputs": [
    {
     "data": {
      "text/plain": [
       "<matplotlib.image.AxesImage at 0x244036038e0>"
      ]
     },
     "execution_count": 56,
     "metadata": {},
     "output_type": "execute_result"
    },
    {
     "data": {
      "image/png": "[encoded data removed]",
      "text/plain": [
       "<Figure size 640x480 with 1 Axes>"
      ]
     },
     "metadata": {},
     "output_type": "display_data"
    }
   ],
   "source": [
    "plt.imshow(res[1])"
   ]
  },
  {
   "cell_type": "code",
   "execution_count": 57,
   "id": "d62cd82c",
   "metadata": {},
   "outputs": [],
   "source": [
    "# Build dataloader pipeline\n",
    "data = data.map(preprocess_twin)\n",
    "data = data.cache()\n",
    "data = data.shuffle(buffer_size=10000)"
   ]
  },
  {
   "cell_type": "code",
   "execution_count": 58,
   "id": "e631333f",
   "metadata": {},
   "outputs": [],
   "source": [
    "# Training partition\n",
    "train_data = data.take(round(len(data)*.7))\n",
    "train_data = train_data.batch(16)\n",
    "train_data = train_data.prefetch(8)"
   ]
  },
  {
   "cell_type": "code",
   "execution_count": 59,
   "id": "5f99afb0",
   "metadata": {},
   "outputs": [],
   "source": [
    "# Testing partition\n",
    "test_data = data.skip(round(len(data)*.7))\n",
    "test_data = test_data.take(round(len(data)*.3))\n",
    "test_data = test_data.batch(16)\n",
    "test_data = test_data.prefetch(8)"
   ]
  },
  {
   "cell_type": "markdown",
   "id": "feb19da8",
   "metadata": {},
   "source": [
    "# Model Engineering"
   ]
  },
  {
   "cell_type": "markdown",
   "id": "96c853c5",
   "metadata": {},
   "source": [
    "#### Build Embedding Layer"
   ]
  },
  {
   "cell_type": "code",
   "execution_count": 60,
   "id": "a7a9e86a",
   "metadata": {},
   "outputs": [],
   "source": [
    "def make_embedding(): \n",
    "    inp = Input(shape=(100,100,3), name='input_image')\n",
    "    \n",
    "    # First block\n",
    "    c1 = Conv2D(64, (10,10), activation='relu')(inp)\n",
    "    m1 = MaxPooling2D(64, (2,2), padding='same')(c1)\n",
    "    \n",
    "    # Second block\n",
    "    c2 = Conv2D(128, (7,7), activation='relu')(m1)\n",
    "    m2 = MaxPooling2D(64, (2,2), padding='same')(c2)\n",
    "    \n",
    "    # Third block \n",
    "    c3 = Conv2D(128, (4,4), activation='relu')(m2)\n",
    "    m3 = MaxPooling2D(64, (2,2), padding='same')(c3)\n",
    "    \n",
    "    # Final embedding block\n",
    "    c4 = Conv2D(256, (4,4), activation='relu')(m3)\n",
    "    f1 = Flatten()(c4)\n",
    "    d1 = Dense(4096, activation='sigmoid')(f1)\n",
    "    \n",
    "    \n",
    "    return Model(inputs=[inp], outputs=[d1], name='embedding')"
   ]
  },
  {
   "cell_type": "code",
   "execution_count": 61,
   "id": "971cdea8",
   "metadata": {},
   "outputs": [],
   "source": [
    "embedding = make_embedding()"
   ]
  },
  {
   "cell_type": "code",
   "execution_count": 62,
   "id": "ef873ae0",
   "metadata": {},
   "outputs": [
    {
     "name": "stdout",
     "output_type": "stream",
     "text": [
      "Model: \"embedding\"\n",
      "_________________________________________________________________\n",
      " Layer (type)                Output Shape              Param #   \n",
      "=================================================================\n",
      " input_image (InputLayer)    [(None, 100, 100, 3)]     0         \n",
      "                                                                 \n",
      " conv2d (Conv2D)             (None, 91, 91, 64)        19264     \n",
      "                                                                 \n",
      " max_pooling2d (MaxPooling2D  (None, 46, 46, 64)       0         \n",
      " )                                                               \n",
      "                                                                 \n",
      " conv2d_1 (Conv2D)           (None, 40, 40, 128)       401536    \n",
      "                                                                 \n",
      " max_pooling2d_1 (MaxPooling  (None, 20, 20, 128)      0         \n",
      " 2D)                                                             \n",
      "                                                                 \n",
      " conv2d_2 (Conv2D)           (None, 17, 17, 128)       262272    \n",
      "                                                                 \n",
      " max_pooling2d_2 (MaxPooling  (None, 9, 9, 128)        0         \n",
      " 2D)                                                             \n",
      "                                                                 \n",
      " conv2d_3 (Conv2D)           (None, 6, 6, 256)         524544    \n",
      "                                                                 \n",
      " flatten (Flatten)           (None, 9216)              0         \n",
      "                                                                 \n",
      " dense (Dense)               (None, 4096)              37752832  \n",
      "                                                                 \n",
      "=================================================================\n",
      "Total params: 38,960,448\n",
      "Trainable params: 38,960,448\n",
      "Non-trainable params: 0\n",
      "_________________________________________________________________\n"
     ]
    }
   ],
   "source": [
    "embedding.summary()"
   ]
  },
  {
   "cell_type": "markdown",
   "id": "9a3c43cd",
   "metadata": {},
   "source": [
    "#### Build Distance Layer"
   ]
  },
  {
   "cell_type": "code",
   "execution_count": 63,
   "id": "aedd11ac",
   "metadata": {},
   "outputs": [],
   "source": [
    "# Siamese L1 Distance class\n",
    "class L1Dist(Layer):\n",
    "    \n",
    "    # Init method - inheritance\n",
    "    def __init__(self, **kwargs):\n",
    "        super().__init__()\n",
    "       \n",
    "    # Magic happens here - similarity calculation\n",
    "    def call(self, input_embedding, validation_embedding):\n",
    "        return tf.math.abs(input_embedding - validation_embedding)"
   ]
  },
  {
   "cell_type": "code",
   "execution_count": 64,
   "id": "4d657310",
   "metadata": {},
   "outputs": [],
   "source": [
    "l1 = L1Dist()"
   ]
  },
  {
   "cell_type": "code",
   "execution_count": 65,
   "id": "ba10be8e",
   "metadata": {},
   "outputs": [
    {
     "ename": "NameError",
     "evalue": "name 'anchor_embedding' is not defined",
     "output_type": "error",
     "traceback": [
      "\u001b[1;31m---------------------------------------------------------------------------\u001b[0m",
      "\u001b[1;31mNameError\u001b[0m                                 Traceback (most recent call last)",
      "Cell \u001b[1;32mIn[65], line 1\u001b[0m\n\u001b[1;32m----> 1\u001b[0m l1(\u001b[43manchor_embedding\u001b[49m, validation_embedding)\n",
      "\u001b[1;31mNameError\u001b[0m: name 'anchor_embedding' is not defined"
     ]
    }
   ],
   "source": [
    "l1(anchor_embedding, validation_embedding)"
   ]
  }
 ],
 "metadata": {
  "kernelspec": {
   "display_name": "tf",
   "language": "python",
   "name": "python3"
  },
  "language_info": {
   "codemirror_mode": {
    "name": "ipython",
    "version": 3
   },
   "file_extension": ".py",
   "mimetype": "text/x-python",
   "name": "python",
   "nbconvert_exporter": "python",
   "pygments_lexer": "ipython3",
   "version": "3.10.16"
  }
 },
 "nbformat": 4,
 "nbformat_minor": 5
}
